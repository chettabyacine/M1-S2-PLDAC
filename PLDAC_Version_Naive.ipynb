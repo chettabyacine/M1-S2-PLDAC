{
 "cells": [
  {
   "cell_type": "code",
   "execution_count": 1,
   "metadata": {},
   "outputs": [
    {
     "name": "stdout",
     "output_type": "stream",
     "text": [
      "Requirement already satisfied: numexpr in /home/ahmed/anaconda3/lib/python3.9/site-packages (2.9.0)\n",
      "Requirement already satisfied: numpy>=1.13.3 in /home/ahmed/anaconda3/lib/python3.9/site-packages (from numexpr) (1.24.4)\n"
     ]
    }
   ],
   "source": [
    "!pip install --upgrade numexpr"
   ]
  },
  {
   "cell_type": "code",
   "execution_count": 2,
   "metadata": {},
   "outputs": [
    {
     "name": "stdout",
     "output_type": "stream",
     "text": [
      "Requirement already satisfied: bottleneck in /home/ahmed/anaconda3/lib/python3.9/site-packages (1.3.8)\n",
      "Requirement already satisfied: numpy in /home/ahmed/anaconda3/lib/python3.9/site-packages (from bottleneck) (1.24.4)\n"
     ]
    }
   ],
   "source": [
    "!pip install --upgrade bottleneck"
   ]
  },
  {
   "cell_type": "code",
   "execution_count": 68,
   "metadata": {
    "id": "JgmwitF0UsNY"
   },
   "outputs": [],
   "source": [
    "import pandas as pd\n",
    "import numpy as np\n",
    "from itertools import combinations\n",
    "from itertools import product"
   ]
  },
  {
   "cell_type": "code",
   "execution_count": 69,
   "metadata": {
    "colab": {
     "base_uri": "https://localhost:8080/",
     "height": 206
    },
    "id": "XbWXQMmvU8YB",
    "outputId": "b8475706-e7e1-4fd2-b199-6dce7b189070"
   },
   "outputs": [
    {
     "data": {
      "text/html": [
       "<div>\n",
       "<style scoped>\n",
       "    .dataframe tbody tr th:only-of-type {\n",
       "        vertical-align: middle;\n",
       "    }\n",
       "\n",
       "    .dataframe tbody tr th {\n",
       "        vertical-align: top;\n",
       "    }\n",
       "\n",
       "    .dataframe thead th {\n",
       "        text-align: right;\n",
       "    }\n",
       "</style>\n",
       "<table border=\"1\" class=\"dataframe\">\n",
       "  <thead>\n",
       "    <tr style=\"text-align: right;\">\n",
       "      <th></th>\n",
       "      <th>N_candidat</th>\n",
       "      <th>S1</th>\n",
       "      <th>S2</th>\n",
       "      <th>S3</th>\n",
       "      <th>S4</th>\n",
       "      <th>S5</th>\n",
       "      <th>Logique</th>\n",
       "      <th>BDD</th>\n",
       "      <th>PS</th>\n",
       "      <th>Moyenne</th>\n",
       "      <th>Eligible</th>\n",
       "      <th>Decision</th>\n",
       "    </tr>\n",
       "  </thead>\n",
       "  <tbody>\n",
       "    <tr>\n",
       "      <th>0</th>\n",
       "      <td>0001</td>\n",
       "      <td>15</td>\n",
       "      <td>11</td>\n",
       "      <td>14</td>\n",
       "      <td>16</td>\n",
       "      <td>11</td>\n",
       "      <td>1</td>\n",
       "      <td>1</td>\n",
       "      <td>1</td>\n",
       "      <td>2</td>\n",
       "      <td>True</td>\n",
       "      <td>A</td>\n",
       "    </tr>\n",
       "    <tr>\n",
       "      <th>1</th>\n",
       "      <td>0002</td>\n",
       "      <td>13</td>\n",
       "      <td>9</td>\n",
       "      <td>12</td>\n",
       "      <td>15</td>\n",
       "      <td>11</td>\n",
       "      <td>1</td>\n",
       "      <td>1</td>\n",
       "      <td>1</td>\n",
       "      <td>0</td>\n",
       "      <td>True</td>\n",
       "      <td>R</td>\n",
       "    </tr>\n",
       "    <tr>\n",
       "      <th>2</th>\n",
       "      <td>0003</td>\n",
       "      <td>16</td>\n",
       "      <td>8</td>\n",
       "      <td>11</td>\n",
       "      <td>15</td>\n",
       "      <td>11</td>\n",
       "      <td>1</td>\n",
       "      <td>1</td>\n",
       "      <td>1</td>\n",
       "      <td>1</td>\n",
       "      <td>True</td>\n",
       "      <td>L</td>\n",
       "    </tr>\n",
       "    <tr>\n",
       "      <th>3</th>\n",
       "      <td>0004</td>\n",
       "      <td>17</td>\n",
       "      <td>12</td>\n",
       "      <td>15</td>\n",
       "      <td>18</td>\n",
       "      <td>11</td>\n",
       "      <td>0</td>\n",
       "      <td>0</td>\n",
       "      <td>1</td>\n",
       "      <td>2</td>\n",
       "      <td>False</td>\n",
       "      <td>R</td>\n",
       "    </tr>\n",
       "    <tr>\n",
       "      <th>4</th>\n",
       "      <td>0005</td>\n",
       "      <td>13</td>\n",
       "      <td>10</td>\n",
       "      <td>13</td>\n",
       "      <td>15</td>\n",
       "      <td>11</td>\n",
       "      <td>0</td>\n",
       "      <td>0</td>\n",
       "      <td>0</td>\n",
       "      <td>0</td>\n",
       "      <td>False</td>\n",
       "      <td>R</td>\n",
       "    </tr>\n",
       "  </tbody>\n",
       "</table>\n",
       "</div>"
      ],
      "text/plain": [
       "  N_candidat  S1  S2  S3  S4  S5  Logique  BDD  PS  Moyenne  Eligible Decision\n",
       "0       0001  15  11  14  16  11        1    1   1        2      True        A\n",
       "1       0002  13   9  12  15  11        1    1   1        0      True        R\n",
       "2       0003  16   8  11  15  11        1    1   1        1      True        L\n",
       "3       0004  17  12  15  18  11        0    0   1        2     False        R\n",
       "4       0005  13  10  13  15  11        0    0   0        0     False        R"
      ]
     },
     "execution_count": 69,
     "metadata": {},
     "output_type": "execute_result"
    }
   ],
   "source": [
    "data = {\n",
    "    \"N_candidat\": [\"0001\", \"0002\", \"0003\", \"0004\", \"0005\"],\n",
    "    \"S1\":[15, 13, 16, 17, 13],\n",
    "    \"S2\": [11, 9, 8, 12, 10],\n",
    "    \"S3\":[14, 12, 11, 15, 13],\n",
    "    \"S4\": [16, 15, 15, 18, 15],\n",
    "    \"S5\": [11, 11, 11, 11, 11],\n",
    "\n",
    "    \"Logique\": [1, 1, 1, 0, 0],\n",
    "    \"BDD\": [1, 1, 1, 0, 0],\n",
    "    \"PS\": [1, 1, 1, 1, 0],\n",
    "    \"Moyenne\": [2, 0, 1, 2, 0],\n",
    "    \"Eligible\": [True, True, True, False, False],\n",
    "    \"Decision\": ['A','R','L','R','R']\n",
    "}\n",
    "\n",
    "df= pd.DataFrame(data)\n",
    "df"
   ]
  },
  {
   "cell_type": "code",
   "execution_count": 70,
   "metadata": {
    "colab": {
     "base_uri": "https://localhost:8080/"
    },
    "id": "KFQM5SFTW1qL",
    "outputId": "e64bc211-f65a-45b1-f7e0-24a06b66cbe4"
   },
   "outputs": [
    {
     "name": "stdout",
     "output_type": "stream",
     "text": [
      " Cas succès 1 :  True\n",
      " Cas succès 2 :  True\n",
      " Cas succès 3 :  True\n",
      " Cas échec 1 :  False\n",
      " Cas échec 2 :  False\n"
     ]
    }
   ],
   "source": [
    "\n",
    "def AC1(N_candidat, X, decision, df=df):\n",
    "  candidat=df[df.N_candidat==N_candidat].copy()\n",
    "  X_var=list(X.keys())\n",
    "\n",
    "  # Retourner False dans le cas où le candidat n'existe pas dans la base de données utilisée\n",
    "  if (len(candidat)!=1):\n",
    "    return False\n",
    "\n",
    "  # Retourner False dans le cas où la décision donnée (phi) ne correspond pas à la décision prise à l'égard du candidat\n",
    "  if (candidat.Decision.iloc[0]!=decision):\n",
    "    return False\n",
    "\n",
    "  # Retourner False dans le cas où une des valeurs (notes) du candidat ne correspond pas à celle du vecteur x (tel que X=x)\n",
    "  for var in X_var :\n",
    "    if str(candidat.loc[:,[var]].iloc[0,0]) != str(X[var]):\n",
    "      return False\n",
    "\n",
    "  return True\n",
    "\n",
    "print(\" Cas succès 1 : \", AC1(\"0001\", {\"Logique\":\"1\"}, 'A'))\n",
    "print(\" Cas succès 2 : \", AC1(\"0001\", {\"S1\":\"15\", \"BDD\":\"1\", \"Moyenne\":\"2\", 'Eligible': True}, 'A'))\n",
    "print(\" Cas succès 3 : \", AC1(\"0004\", {\"S2\":\"12\", \"BDD\":\"0\"}, 'R'))\n",
    "\n",
    "print(\" Cas échec 1 : \", AC1(\"0001\", {\"S1\":\"15\", \"BDD\":\"1\", \"Moyenne\":\"2\", 'Eligible': False}, 'A'))\n",
    "print(\" Cas échec 2 : \", AC1(\"xxxx\", {\"S1\":\"15\", \"BDD\":\"1\", \"Moyenne\":\"2\", 'Eligible': True}, 'A'))\n",
    "\n"
   ]
  },
  {
   "cell_type": "code",
   "execution_count": 72,
   "metadata": {},
   "outputs": [],
   "source": [
    "coeffs= [1, 1, 1, 1, 1] #calcul de la Moyenne\n",
    "seuils = [12, 12, 12] # Calcul du status d'éligibilité (logique, BDD, PS)\n",
    "thresholds = [12, 14] # prendre la décision\n",
    "\n",
    "def med(S1, S2, S3, S4, S5, Logique, BDD, PS, coeffs=coeffs, seuils=seuils, thresholds2=thresholds):\n",
    "    moyenne = (S1 * coeffs[0] + S2 * coeffs[1] + S3 * coeffs[2] + S4 * coeffs[3] + S5 * coeffs[4]) / sum(coeffs)\n",
    "    e = (Logique*BDD*PS==1)\n",
    "    m = (moyenne>thresholds2[1])*2 + (thresholds2[0] <= moyenne <= thresholds2[1])\n",
    "    if e and m==2:\n",
    "        d= 'A'\n",
    "    elif e and m==1:\n",
    "        d='L'\n",
    "    else:\n",
    "        d='R'\n",
    "    return m, e, d\n"
   ]
  },
  {
   "cell_type": "code",
   "execution_count": 131,
   "metadata": {},
   "outputs": [],
   "source": [
    "def AC2(N_candidat, X, decision, df=df):\n",
    "    candidat=df[df.N_candidat==N_candidat].copy()\n",
    "    if (len(candidat)==0):\n",
    "        return False\n",
    "    vals=candidat.iloc[0].to_dict()\n",
    "    X_var=list(X.keys())\n",
    "    \n",
    "    #W=list(set(candidat.columns)-set(X_var)) #optionnel\n",
    "\n",
    "    variable_domains = {\n",
    "        \"S1\": range(0, 21),\n",
    "        \"S2\": range(0, 21),\n",
    "        \"S3\": range(0, 21),\n",
    "        \"S4\": range(0, 21),\n",
    "        \"S5\": range(0, 21),\n",
    "        \"BDD\": [0, 1],\n",
    "        \"Logique\": [0, 1],\n",
    "        \"PS\": [0, 1],\n",
    "        \"Moyenne\":[0,1,2],\n",
    "        \"Eligible\":[True,False]\n",
    "    }\n",
    "    def generate_combinations(X, variable_domains):\n",
    "        # Générer toutes les combinaisons possibles de valeurs pour les clés de X_var\n",
    "        combinations = product(*[variable_domains[var] for var in X])\n",
    "\n",
    "        # Exclure la combinaison identique à X\n",
    "        return [combination for combination in combinations if combination != tuple(X.values())]\n",
    "\n",
    "    combinations = generate_combinations(X, variable_domains)\n",
    "    \n",
    "    # Vérifier chaque combinaison\n",
    "    for combination in combinations:\n",
    "        x_prime = dict(zip(X_var, combination))\n",
    "        for k in x_prime.keys():\n",
    "            vals[k]=x_prime[k]\n",
    "        m,e,d=med(**{k: v for k, v in vals.items() if k in ['S1', 'S2', 'S3', 'S4', 'S5', 'Logique', 'BDD', 'PS']})\n",
    "\n",
    "        if ('Eligible' in x_prime and x_prime['Eligible']!=e) or ('Moyenne' in x_prime and x_prime['Moyenne']!=m) :\n",
    "            continue\n",
    "        if d!=decision:\n",
    "            print(f\"AC2 est vérifié pour une affectation x_prime: {x_prime}\")\n",
    "            return True\n",
    "    return False"
   ]
  },
  {
   "cell_type": "code",
   "execution_count": 134,
   "metadata": {},
   "outputs": [
    {
     "name": "stdout",
     "output_type": "stream",
     "text": [
      "AC2 est vérifié pour une affectation x_prime: {'Logique': 0}\n",
      " Cas succès 1 :  True\n",
      "AC2 est vérifié pour une affectation x_prime: {'Logique': 1, 'BDD': 1}\n",
      " Cas succès 2 :  True\n",
      "AC2 est vérifié pour une affectation x_prime: {'S2': 0, 'S5': 20}\n",
      " Cas succès 3 :  True\n",
      "AC2 est vérifié pour une affectation x_prime: {'Logique': 1, 'BDD': 1, 'PS': 1, 'Moyenne': 1}\n",
      " Cas succès 4 :  True\n",
      " Cas échec 1 :  False\n",
      " Cas échec 2 :  False\n"
     ]
    }
   ],
   "source": [
    "print(\" Cas succès 1 : \", AC2(\"0001\", {\"Logique\":1}, 'A'))\n",
    "print(\" Cas succès 2 : \", AC2(\"0004\", {\"Logique\":0, \"BDD\":0}, 'R'))\n",
    "print(\" Cas succès 3 : \", AC2(\"0002\", {\"S2\":9,'S5':11}, 'R'))\n",
    "print(\" Cas succès 4 : \", AC2(\"0005\", {\"Logique\":0,\"BDD\":0,\"PS\":0, \"Moyenne\":0}, 'R'))\n",
    "\n",
    "print(\" Cas échec 1 : \", AC2(\"0005\", {\"BDD\":0,\"PS\":0, \"Moyenne\":0}, 'R'))\n",
    "print(\" Cas échec 2 : \", AC2(\"xxxx\", {\"S1\":15, \"BDD\":1, \"Moyenne\":2, 'Eligible': True}, 'A'))"
   ]
  },
  {
   "cell_type": "code",
   "execution_count": 86,
   "metadata": {},
   "outputs": [],
   "source": [
    "def BC3(X1, X2, df=None):\n",
    "    \n",
    "    # Check si les deux X1 et X2 contiennent les memes variables\n",
    "    if set(X1.keys()) != set(X2.keys()):\n",
    "        return False\n",
    "    \n",
    "    # Check que l'intersection des deux affectations est vide\n",
    "    for key in X1.keys():\n",
    "        if X1[key] == X2[key]:\n",
    "            return False\n",
    "    \n",
    "    return True"
   ]
  },
  {
   "cell_type": "code",
   "execution_count": 87,
   "metadata": {},
   "outputs": [
    {
     "name": "stdout",
     "output_type": "stream",
     "text": [
      " Cas succès 1 :  True\n",
      " Cas échec 1 :  False\n",
      " Cas échec 2 :  False\n"
     ]
    }
   ],
   "source": [
    "print(\" Cas succès 1 : \", BC3({\"S2\":12, \"BDD\":0},{\"S2\":11, \"BDD\":1}))\n",
    "\n",
    "print(\" Cas échec 1 : \", BC3({\"S1\":15, \"BDD\":1, \"Moyenne\":2, 'Eligible': False},{\"S1\":15, \"BDD\":0, \"Moyenne\":1, 'Eligible': True}))\n",
    "print(\" Cas échec 2 : \", BC3({\"S1\":15, \"BDD\":1, 'Eligible': False},{\"S1\":15, \"BDD\":0, \"Moyenne\":1, 'Eligible': True}))"
   ]
  },
  {
   "cell_type": "code",
   "execution_count": 6,
   "metadata": {
    "id": "0xBiYURxl_Zx"
   },
   "outputs": [],
   "source": [
    "def BCi1_3(N_candidat=None, X=None):\n",
    "  return True"
   ]
  },
  {
   "cell_type": "code",
   "execution_count": 7,
   "metadata": {
    "id": "xc2VyL4gb-46"
   },
   "outputs": [],
   "source": [
    "def BC4(N_candidat, X, df=df):\n",
    "\n",
    "  # S'assurer que X verifie tous les Bci1-3\n",
    "  if BCi1_3(X):\n",
    "    return False\n",
    "\n",
    "  candidat=df[df.N_candidat==N_candidat].copy()\n",
    "  X_var=list(X.keys())\n",
    "  V_var=list(candidat.columns)[1:-1] # Prendre toutes les variables qui décrivent un candidat sauf N_candidat et Décision\n",
    "  V_minus_X_var=[var for var in V_var if not var in X_var]\n",
    "\n",
    "  # Trouver toutes les combinaisons possibles de longueur 1 à la longueur de la liste\n",
    "  all_combinaisons_var = []\n",
    "  print(V_minus_X_var)\n",
    "  for nb_var in range(1, len(V_minus_X_var) + 1):\n",
    "      all_combinaisons_var.extend(all_combinaisons_var(V_minus_X_var, nb_var))\n",
    "\n",
    "  for var in all_combinaisons_var:\n",
    "    if (BCi1_3(N_candidat, X+list(var))):\n",
    "      return False # Retourner False car on aurait trouvé un superset qui verifie tous les BC1-3\n",
    "\n",
    "  return True\n",
    "\n"
   ]
  },
  {
   "cell_type": "code",
   "execution_count": 8,
   "metadata": {
    "colab": {
     "base_uri": "https://localhost:8080/"
    },
    "id": "AHz9ZC3_gijO",
    "outputId": "55c09615-20aa-4d1c-a84c-df0c8325cb56"
   },
   "outputs": [],
   "source": [
    "# ma_liste = [1, 2, 3]\n",
    "# combinaisons = []\n",
    "# for taille in range(1, len(ma_liste) + 1):\n",
    "#     combinaisons.extend(combinations(ma_liste, taille))\n",
    "# combinaisons"
   ]
  },
  {
   "cell_type": "code",
   "execution_count": null,
   "metadata": {
    "id": "zNpEhPfwhLfW"
   },
   "outputs": [],
   "source": []
  }
 ],
 "metadata": {
  "colab": {
   "provenance": []
  },
  "kernelspec": {
   "display_name": "Python 3 (ipykernel)",
   "language": "python",
   "name": "python3"
  },
  "language_info": {
   "codemirror_mode": {
    "name": "ipython",
    "version": 3
   },
   "file_extension": ".py",
   "mimetype": "text/x-python",
   "name": "python",
   "nbconvert_exporter": "python",
   "pygments_lexer": "ipython3",
   "version": "3.9.13"
  }
 },
 "nbformat": 4,
 "nbformat_minor": 1
}
