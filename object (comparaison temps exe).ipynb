{
 "cells": [
  {
   "cell_type": "code",
   "execution_count": 50,
   "metadata": {},
   "outputs": [],
   "source": [
    "import pandas as pd\n",
    "import numpy as np\n",
    "import random \n",
    "from itertools import product, combinations\n",
    "import copy\n",
    "from tqdm import tqdm\n",
    "from sklearn.cluster import KMeans\n",
    "from sklearn.metrics import silhouette_score\n",
    "import time\n",
    "import matplotlib.pyplot as plt\n",
    "def get_domains(data):\n",
    "\t#TODO: get domains from file\n",
    "\treturn None"
   ]
  },
  {
   "cell_type": "markdown",
   "metadata": {},
   "source": [
    "# 1. La conception du modèle"
   ]
  },
  {
   "cell_type": "code",
   "execution_count": 2,
   "metadata": {},
   "outputs": [],
   "source": [
    "class Data:\n",
    "\tdef __init__(self, variable_data, N, f, mydata=None, mydomains=None,verbose=False):\n",
    "\t\tif mydata is None:\n",
    "\t\t\tself.data = pd.DataFrame(self.generate_random_data(variable_data, N))\n",
    "\t\telse:\n",
    "\t\t\tself.data = mydata\n",
    "\t\tif mydomains is None:\n",
    "\t\t\tself.domains = self.extract_domains(variable_data)\n",
    "\t\telse:\n",
    "\t\t\tself.domains = mydomains\n",
    "\t\tself.data['y'] = self.data.apply(lambda row: f(*row[1:]), axis=1)\n",
    "\t\tself.f = f\n",
    "\t\tif verbose:\n",
    "\t\t\tprint(\"Données récupérées avec succés !\")\n",
    "\n",
    "\tdef generate_random_data(self, variable_data, N=10):\n",
    "\t\tdata = {}\n",
    "\t\tdata['id'] = range(N)\n",
    "\t\t\n",
    "\t\tfor i, variable in enumerate(variable_data):\n",
    "\t\t\tname = variable['name']\n",
    "\t\t\tvar_type = variable['type']\n",
    "\t\t\tstep = int(variable['step']) if variable['step'] else 0\n",
    "\n",
    "\t\t\tif var_type == 'boolean':\n",
    "\t\t\t\tdata[name] = [random.choice([False, True]) for _ in range(N)]\n",
    "\t\t\telse:\n",
    "\t\t\t\tif var_type=='int':\n",
    "\t\t\t\t\tmin_value = int(variable['min'])\n",
    "\t\t\t\t\tmax_value = int(variable['max'])\n",
    "\t\t\t\t\tmean = np.random.uniform(((5*min_value+3*max_value)/8)*1.2, ((3*min_value+5*max_value)/8)*1.2)\n",
    "\t\t\t\t\tstd = np.random.uniform((max_value-min_value)/15, (max_value-min_value)/5)\n",
    "\t\t\t\t\tdata[name]  = np.random.normal(mean, std, N).astype(int)\n",
    "\t\t\t\telif var_type == 'float':\n",
    "\t\t\t\t\tmin_value = float(variable['min'])\n",
    "\t\t\t\t\tmax_value = float(variable['max'])\n",
    "\t\t\t\t\tmean = np.random.uniform((3*min_value+max_value)/4, (min_value+3*max_value)/4)\n",
    "\t\t\t\t\tstd = np.random.uniform((max_value-min_value)/100, (max_value-min_value)/5)\n",
    "\t\t\t\t\tdata[name] = np.random.normal(mean, std, N).round(step).astype(float)\n",
    "\t\n",
    "\t\tdata['y'] = [None for _ in range(N)]\n",
    "\t\tdf = pd.DataFrame(data)\n",
    "\t\treturn df\n",
    "\t\n",
    "\tdef extract_domains(self, variable_data):\n",
    "\t\tdomains = {}\n",
    "\t\tfor variable in variable_data:\n",
    "\t\t\tname = variable['name']\n",
    "\t\t\tvar_type = variable['type']\n",
    "\t\t\tif var_type == 'boolean':\n",
    "\t\t\t\tdomains[name] = [True, False]\n",
    "\t\t\telse:\n",
    "\t\t\t\tif var_type == 'int':\n",
    "\t\t\t\t\tmin_value = int(variable['min'])\n",
    "\t\t\t\t\tmax_value = int(variable['max'])\n",
    "\t\t\t\t\tdomains[name] = list(range(min_value, max_value+1))\n",
    "\t\t\t\telif var_type == 'float':\n",
    "\t\t\t\t\tmin_value = float(variable['min'])\n",
    "\t\t\t\t\tmax_value = float(variable['max'])\n",
    "\t\t\t\t\tstep = int(variable['step'])\n",
    "\t\t\t\t\tstep_value = 10** -step  # Define your step value here\n",
    "\t\t\t\t\tdomains[name] = np.arange(min_value, max_value, step_value).tolist()\n",
    "\t\treturn domains\n",
    "\n",
    "\tdef get_values(self, id1, id2=None, X=[]):\n",
    "\t\tif id2 is None:\n",
    "\t\t\tif X == [] or X == self.data.keys():\n",
    "\t\t\t\treturn self.data[self.data.id == id1]  # retourner toutes les valeurs\n",
    "\t\t\telse:\n",
    "\t\t\t\treturn self.data[self.data.id == id1][X].to_dict()  # retourner les valeurs selectionnées\n",
    "\n",
    "\t\telse:\n",
    "\t\t\tif X == [] or X == self.data.keys():\n",
    "\t\t\t\treturn self.data[self.data.id == id1], self.data[self.data.id == id2]  # retourner toutes les valeurs\n",
    "\t\t\telse:\n",
    "\t\t\t\treturn self.data[self.data.id == id1][X].to_dict(), self.data[self.data.id == id2][X].to_dict()\n",
    "\n",
    "\tdef V(self):\n",
    "\t\treturn self.domains.keys()\n",
    "\n",
    "\tdef save(self, file = 'data/data.csv'):\n",
    "\t\tself.data.to_csv(file, index=False)\n",
    "\n",
    "\tdef load(self, file = 'data/data.csv'):\n",
    "\t\tself.data = pd.read_csv(file)\n",
    "\t\tself.domains = get_domains(self.data)\n"
   ]
  },
  {
   "cell_type": "code",
   "execution_count": 3,
   "metadata": {},
   "outputs": [],
   "source": [
    "class Bifact:\n",
    "\tdef __init__(self, data):\n",
    "\t\tself.data = data\n",
    "\t\n",
    "\tdef AC1(self, id, X, y,verbose=False):\n",
    "\t#ligne existe, la décision est bonne et toutes les variables de X ont les bonnes valeurs aussi\n",
    "\t\tif verbose:\n",
    "\t\t\tprint(f\"Verification de AC1 pour la ligne dont l'id est {id}...\")\n",
    "\t\tdf = self.data.data\n",
    "\t\tligne = df[df.id == id].copy()\n",
    "\t\treturn len(ligne) == 1 and  ligne.y.iloc[0] == y #and all((str(ligne.loc[:, [a]].iloc[0, 0]) == str(X[a])) for a in X) \n",
    "\t\t# pas besoin de l'autre partie du moment les X sont retirés de la table par l'ordinateur.\n",
    "\n",
    "\tdef AC23(self, id, X, y,verbose=False):\n",
    "\t\t#display(\"--------------------Appel de la AC23\")\n",
    "\t\tif verbose:\n",
    "\t\t\tprint(f\"Verification de AC2 et AC3 pour la ligne dont l'id est {id}...\")\n",
    "\t\tdf=self.data.data\n",
    "\t\tligne=df[df.id==id].copy()\n",
    "\t\tif (len(ligne)==0):\n",
    "\t\t\treturn False\n",
    "\t\tvals=ligne.iloc[0].to_dict()\n",
    "\t\tX_var=list(X.keys())\n",
    "\n",
    "\t\tvariable_domains = self.data.domains\n",
    "\n",
    "\t\tdef subdict_combinations(dictionary):\n",
    "\t\t\tif not dictionary:\n",
    "\t\t\t\treturn [{}]\n",
    "\n",
    "\t\t\tkey = next(iter(dictionary))\n",
    "\t\t\trest = dictionary.copy()\n",
    "\t\t\tdel rest[key]\n",
    "\n",
    "\t\t\tsubcombos = subdict_combinations(rest)\n",
    "\t\t\tresult = []\n",
    "\t\t\tfor subcombo in subcombos:\n",
    "\t\t\t\tresult.append(subcombo)\n",
    "\t\t\t\twith_key = {key: dictionary[key]}\n",
    "\t\t\t\tresult.append({**with_key, **subcombo})\n",
    "\t\t\treturn result\n",
    "\n",
    "\t\tdef generate_combinations(X, variable_domains):\n",
    "\t\t\t# Générer toutes les combinaisons possibles de valeurs pour les clés de X_var\n",
    "\t\t\tcombinations = product(*[variable_domains[var] for var in X if var != 'y'])\n",
    "\n",
    "\t\t\t# Exclure la combinaison identique à X\n",
    "\t\t\treturn [combination for combination in combinations if combination != tuple(X.values())]\n",
    "\n",
    "\t\tcombinations = generate_combinations(X, variable_domains)\n",
    "\n",
    "\t\tsub=subdict_combinations(X)\n",
    "\t\tfor subX in sub:\n",
    "\t\t\tif len(subX):\n",
    "\t\t\t\tX_var=list(subX.keys())\n",
    "\t\t\t\tvals=ligne.iloc[0].to_dict()\n",
    "\t\t\t\tcombinations = generate_combinations(subX, variable_domains)\n",
    "\t\t\t\t# Vérifier chaque combinaison\n",
    "\t\t\t\tfor combination in combinations:\n",
    "\t\t\t\t\tx_prime = dict(zip(X_var, combination))\n",
    "\t\t\t\t\tfor k in x_prime.keys():\n",
    "\t\t\t\t\t\tvals[k]=x_prime[k]\n",
    "\t\t\t\t\targs = {k: v for k, v in vals.items() if k in self.data.V()}\n",
    "\t\t\t\t\tyhat=self.data.f(*args.values())\n",
    "\t\t\t\t\tif yhat!=y and len(x_prime)==len(X):\n",
    "\t\t\t\t\t\tif verbose:\n",
    "\t\t\t\t\t\t\tprint(\"ID= \", id, \" AC2 et AC3 sont vérifiées pour une affectation x_prime:\",x_prime, \" la decision devient :\", yhat)\n",
    "\t\t\t\t\t\treturn True\n",
    "\t\t\t\t\telif yhat!=y:\n",
    "\t\t\t\t\t\tif verbose:\n",
    "\t\t\t\t\t\t\tprint(\"ID= \", id, \" Erreur :AC3 n'est pas vérifiée car il existe une affectation x_prime :\", x_prime, \" pour laquelle la decision change à :\", yhat)\n",
    "\t\t\t\t\t\treturn False\n",
    "\n",
    "\t\tif verbose:\n",
    "\t\t\tprint(\"ID= \", id, \" Erreur : AC2 n'est pas vérifiée, veuillez saisir un superset de l'ensemble des variables sélectionnées\")\n",
    "\t\treturn False\n",
    "\t\t#ca ameliore les cas où AC3 n'est pas vérifié tout en ayant une meme complexité dans le cas où AC2 et AC3 sont verifiés\n",
    "\t\n",
    "\tdef AC2(self, id, X, y,verbose=False):\n",
    "\t\t#display(\"--------------------Appel de la AC2\")\n",
    "\t\tligne=self.data.data[self.data.data.id==id].copy()\n",
    "\t\tif (len(ligne)==0):\n",
    "\t\t\treturn False\n",
    "\t\tvals=ligne.iloc[0].to_dict()\n",
    "\t\tX_var=list(X.keys())\n",
    "\n",
    "\t\t#W=list(set(candidat.columns)-set(X_var)) #optionnel\n",
    "\n",
    "\t\tvariable_domains = self.data.domains\n",
    "\t\tdef generate_combinations(X, variable_domains):\n",
    "\t\t\t# Générer toutes les combinaisons possibles de valeurs pour les clés de X_var\n",
    "\t\t\tcombinations = product(*[variable_domains[var] for var in X if var != 'y'])\n",
    "\n",
    "\t\t\t# Exclure la combinaison identique à X\n",
    "\t\t\treturn [combination for combination in combinations if combination != tuple(X.values())]\n",
    "\n",
    "\t\tcombinations = generate_combinations(X, variable_domains)\n",
    "\n",
    "\t\t# Vérifier chaque combinaison\n",
    "\t\tfor combination in combinations:\n",
    "\t\t\tx_prime = dict(zip(X_var, combination))\n",
    "\t\t\tfor k in x_prime.keys():\n",
    "\t\t\t\tvals[k]=x_prime[k]\n",
    "\t\t\targs = {k: v for k, v in vals.items() if k in self.data.V()}\n",
    "\t\t\tyhat=self.data.f(*args.values())\n",
    "\t\t\tif yhat!=y:\n",
    "\t\t\t\tif verbose: print(f\"AC2 est vérifiée pour une affectation x_prime: {x_prime}\")\n",
    "\t\t\t\treturn True\n",
    "\n",
    "\t\tif verbose: print(f\"AC2 n'est pas vérifiée pour une affectation x_prime: {x_prime}\")\n",
    "\t\treturn False\n",
    "\n",
    "\tdef AC3(self, id, X, y,verbose=False):\n",
    "\t\tif verbose: print(\"Verification de AC3...\")\n",
    "\t\tkeys = list(X.keys())\n",
    "\t\tsubsets = [dict(zip(combination, (X[key] for key in combination))) for r in range(1, len(keys)) for combination in combinations(keys, r)]\n",
    "\t\treturn all(not self.AC1(id, subset, y,verbose=verbose) or not self.AC2(id, subset, y,verbose=verbose) for subset in subsets)\n",
    "\n",
    "\tdef BC1_2_beta2(self, id, X, y, var_notAC_candidat=set(),verbose=False):\n",
    "\t\tif verbose: print(\"Verification de BC1_2...\")\n",
    "\t\tdef generate_supersets(id, X):\n",
    "\t\t\tligne = self.data.data[self.data.data['id']==id]\n",
    "\t\t\tV_sauf_X=[var for var in self.data.V() if not var in X.keys()]\n",
    "\t\t\tsupersets = [X]\n",
    "\t\t\tfor var in V_sauf_X:\n",
    "\t\t\t\tvaleur = ligne[var].iloc[0]\n",
    "\t\t\t\tcopie = copy.deepcopy(supersets)\n",
    "\t\t\t\tfor dictio in copie:\n",
    "\t\t\t\t\tdictio[var]= valeur\n",
    "\t\t\t\tsupersets =supersets + copie\n",
    "\t\t\tunique_dicts = {tuple(sorted(d.items())) for d in supersets}\n",
    "\t\t\tunique_list_of_dicts = [dict(item) for item in unique_dicts]\n",
    "\t\t\treturn sorted(unique_list_of_dicts, key=lambda x:len(x))\n",
    "\n",
    "\t\t# verifier que X peut etre une cause partielle\n",
    "\t\tac1 = self.AC1(id, X, y)\n",
    "\t\tif not ac1:\n",
    "\t\t\treturn False, var_notAC_candidat\n",
    "\t\tac2 , ac3= self.AC2(id, X, y), self.AC3(id, X, y)\n",
    "\t\tif ac2 and not ac3: # AC1 et AC2 sont vérifiés et AC3 ne l'est pas --> il existe un sous enesemble de X qui verifie une actual cause donc X ne peut pas etre une partial cause\n",
    "\t\t\treturn False, var_notAC_candidat\n",
    "\t\tif ac2 and ac3: # si X est une actual cause alors c'est une partial cause\n",
    "\t\t\treturn True, var_notAC_candidat\n",
    "\n",
    "\t\t# Créer une structure de données pour enregistrer tous les supersets testés afin d'éviter\n",
    "\t\tsupersets = generate_supersets(id, X)[1:] \n",
    "\t\tif verbose: print(\"id : \",id)\n",
    "\t\tfor superset in tqdm(supersets):\n",
    "\t\t\tif tuple(superset.keys()) in var_notAC_candidat: # ignorer tous les supersets (passés en entrée) qui ne verifient pas les ACi\n",
    "\t\t\t\tcontinue\n",
    "\n",
    "\t\t\tif not self.AC1(id, superset,y,verbose=verbose):\n",
    "\t\t\t\treturn False, var_notAC_candidat\n",
    "\t\t\tif  self.AC23(id, superset,y,verbose=verbose):\n",
    "\t\t\t\tif verbose: print(f\"La actual cause est: {superset} \\n\")\n",
    "\t\t\t\treturn True, var_notAC_candidat\n",
    "\n",
    "\t\t\tvar_notAC_candidat.add(tuple(superset.keys())) # Enregistrer tous les supersets qui ne verifient pas les ACi\n",
    "\n",
    "\t\treturn False, var_notAC_candidat\n",
    "\n",
    "\tdef BC1_4(self, id1, id2, X, y,verbose=False):\n",
    "\t\tif verbose: print(\"Verification de BC4...\")\n",
    "\t\tligne1=self.data.data[self.data.data.id==id1]\n",
    "\t\tligne2=self.data.data[self.data.data.id==id2]\n",
    "\t\tif verbose: display(ligne1,ligne2)\n",
    "\n",
    "\t\t# Vérifier que X1 de candidat1 et X2 de candidat2 sont testés sur les memes variables (si ce n'est pas vérifié alors BC3 échoue)\n",
    "\t\tif X[0].keys()!=X[1].keys():\n",
    "\t\t\tif verbose: print(f\"Les variables prises pour la ligne {id1}: {X[0].keys()} ne correspondent pas aux variables prises pour la ligne {id2}:{X[1].keys()}\")\n",
    "\t\t\treturn False\n",
    "\n",
    "\t\tVmax=[]\n",
    "\t\t# Générer Vmax : la liste des attributs distincts entre candidat1 et candidat2\n",
    "\t\tfor col in ligne1.columns[1:-1]:\n",
    "\t\t\tif ligne1.loc[:,[col]].iloc[0,0]!=ligne2.loc[:,[col]].iloc[0,0]:\n",
    "\t\t\t\tVmax.append(col)\n",
    "\n",
    "\t\t# Vérifier si X est inclu dans Vmax (si ce n'est pas vérifié alors BC3 échoue)\n",
    "\t\tX_var=[ var for var in X[0]]\n",
    "\t\tif not set(X_var).issubset(set(Vmax)):\n",
    "\t\t\tif verbose: print(f\"BC3 n'est pas vérifié, pas besoin de verifier BC4\")\n",
    "\t\t\treturn False\n",
    "\n",
    "\t\t# Trouver toutes les combinaisons possibles de longueur 1 à la longueur de la liste\n",
    "\t\tall_combinaisons_var = []\n",
    "\n",
    "\t\tfor nb_var in range(1, len(Vmax) + 1):\n",
    "\t\t\tall_combinaisons_var.extend(combinations(Vmax, nb_var))\n",
    "\n",
    "\t\tall_combinaisons_var_reversed=all_combinaisons_var[::-1]\n",
    "\n",
    "\t\tvar_notAC_candidat1=set()\n",
    "\t\tvar_notAC_candidat2=set()\n",
    "\n",
    "\t\t# Verifier si cet element est partial cause\n",
    "\t\tfor combinaison in tqdm(all_combinaisons_var_reversed):\n",
    "\n",
    "\t\t\tif not set(X_var).issubset(combinaison) : # On en veut évaluer que les supersets de X\n",
    "\t\t\t\tcontinue\n",
    "\n",
    "\t\t\tdict_candidat1=ligne1.loc[:,combinaison].iloc[0].to_dict()\n",
    "\t\t\tdict_candidat2=ligne2.loc[:,combinaison].iloc[0].to_dict()\n",
    "\t\t\tBC1_2_beta_bool1, var_notAC_candidat1=self.BC1_2_beta2(id1, dict_candidat1, y[0],var_notAC_candidat1,verbose=verbose)\n",
    "\t\t\tif not (BC1_2_beta_bool1):\n",
    "\t\t\t\tcontinue\n",
    "\n",
    "\t\t\tBC1_2_beta_bool2, var_notAC_candidat2=self.BC1_2_beta2(id2, dict_candidat2, y[1], var_notAC_candidat2,verbose=verbose)\n",
    "\t\t\tif not BC1_2_beta_bool2:\n",
    "\t\t\t\tcontinue\n",
    "\n",
    "\n",
    "\t\t\t# Verifier la BC4\n",
    "\t\t\tif len(set(X_var)) < len(combinaison):  # BC4 n'est pas vérifiée car nous avons trouver un superset qui verifie BC1_3\n",
    "\t\t\t\tif verbose: print(f\"BC4 n'est pas vérifiée car nous avons trouver un superset {combinaison} qui verifie les BC1_2 et BC3\")\n",
    "\t\t\t\treturn False\n",
    "\n",
    "\t\t\telse : # len(X_var)==len(combinaison)\n",
    "\t\t\t\tif verbose: print(f\"BC4 est vérifée pour les causes bifactuelles {X}\")\n",
    "\t\t\t\treturn True\n",
    "\n",
    "\t\tif verbose: print(f\"Les BC1_2 et BC3 ne sont pas vérifiées. {X[0].keys()} ne peut etre une cause bifactuelle\")\n",
    "\t\treturn False # Cas ou c'est un sous ensemble de X_var qui vérifie BC1_4\n",
    "\t\t\n",
    "\tdef find_cause(self, id1, id2,verbose=False):\n",
    "\t\tres=[]\n",
    "\t\tif verbose: print(\"Recherche des causes bifactuelles pour les lignes {id1} et {id2}\")\n",
    "\t\tligne1=self.data.data[self.data.data.id==id1]\n",
    "\t\tligne2=self.data.data[self.data.data.id==id2]\n",
    "\n",
    "\t\tVmax=[]\n",
    "\t\t# Générer Vmax : la liste des attributs distincts entre candidat1 et candidat2\n",
    "\t\tfor col in ligne1.columns[1:-1]:\n",
    "\t\t\tif ligne1.loc[:,[col]].iloc[0,0]!=ligne2.loc[:,[col]].iloc[0,0]:\n",
    "\t\t\t\tVmax.append(col)\n",
    "\n",
    "\t\t# Trouver toutes les combinaisons possibles de longueur 1 à la longueur de la liste Vmax_diff\n",
    "\t\tall_combinaisons_var = []\n",
    "\n",
    "\t\tfor nb_var in range(1, len(Vmax) + 1):\n",
    "\t\t\tall_combinaisons_var.extend(combinations(Vmax, nb_var))\n",
    "\n",
    "\t\tall_combinaisons_var_reversed=all_combinaisons_var[::-1]\n",
    "\n",
    "\t\tvar_notAC_candidat1=set()\n",
    "\t\tvar_notAC_candidat2=set()\n",
    "\n",
    "\t\tfor combinaison in tqdm(all_combinaisons_var_reversed):\n",
    "\t\t# Verifier si cet element est partial cause\n",
    "\t\t\tif verbose: print(\"Exploration de : \",combinaison)\n",
    "\t\t\tfound_in_res = False\n",
    "\t\t\tfor el in res: #critere maximalité: un sur ensemble de cet element est deja une bifactual cause, celui là ne peut l'etre\n",
    "\t\t\t\tif set(combinaison).issubset(set(el)): found_in_res = True\n",
    "\t\t\tif found_in_res:\n",
    "\t\t\t\tcontinue\n",
    "\t\t\tdict_candidat1=ligne1.loc[:,combinaison].iloc[0].to_dict()\n",
    "\t\t\tdict_candidat2=ligne2.loc[:,combinaison].iloc[0].to_dict()\n",
    "\t\t\ty=(ligne1['y'].values[0],ligne2['y'].values[0])\n",
    "\n",
    "\t\t\tBC1_2_beta_bool1, var_notAC_candidat1=self.BC1_2_beta2(id1, dict_candidat1, y[0], var_notAC_candidat1,verbose=verbose)\n",
    "\t\t\tif not (BC1_2_beta_bool1):\n",
    "\t\t\t\tcontinue\n",
    "\n",
    "\t\t\tBC1_2_beta_bool2, var_notAC_candidat2=self.BC1_2_beta2(id2, dict_candidat2, y[1], var_notAC_candidat2,verbose=verbose)\n",
    "\t\t\tif not BC1_2_beta_bool2:\n",
    "\t\t\t\tcontinue\n",
    "\t\t\telse : \n",
    "\t\t\t\tif verbose: print(f\"Une bifactual cause a été trouvée: {combinaison}\")\n",
    "\t\t\t\tres.append(combinaison)\n",
    "\n",
    "\t\treturn res\n",
    "\t\t\n",
    "\tdef BC(self, id1, id2, X, y,verbose=False):\n",
    "\t\treturn self.BC1_2_beta2(id1, X[0], y[0],verbose=verbose) and self.BC1_2_beta2(id2, X[1], y[1],verbose=verbose) and self.BC1_4(id1, id2, X, y,verbose=verbose)\n"
   ]
  },
  {
   "cell_type": "markdown",
   "metadata": {},
   "source": [
    "# 2. L'application avec une GUI simple"
   ]
  },
  {
   "cell_type": "code",
   "execution_count": 4,
   "metadata": {},
   "outputs": [],
   "source": [
    "import tkinter as tk\n",
    "from tkinter import filedialog\n",
    "from tkinter import ttk\n",
    "import numpy as np\n",
    "import pandas as pd\n",
    "\n",
    "WINDOW_WIDTH = 1200\n",
    "WINDOW_HEIGHT = 800\n",
    "\n",
    "variable_entry = None\n",
    "variable_type_var = None\n",
    "min_entry = None\n",
    "max_entry = None\n",
    "step_entry = None\n",
    "variables_tree = None\n",
    "variable_counter = 0  # Counter pour variable names\n",
    "\n",
    "min_label = None\n",
    "max_label = None\n",
    "step_label = None\n",
    "\n",
    "def import_csv():\n",
    "\tfile_path = filedialog.askopenfilename()\n",
    "\tif file_path:\n",
    "\t\tselect_variables_window()\n",
    "\n",
    "def generate_random():\n",
    "\tglobal variable_counter\n",
    "\tvariable_counter = 0\n",
    "\tselect_variables_window()\n",
    "\n",
    "def add_variable():\n",
    "\tglobal variable_entry, variable_type_var, min_entry, max_entry, step_entry, variable_counter, variables_tree\n",
    "\n",
    "\ttoggle_min_max_step_visibility()\n",
    "\tsuggested_name = f\"x{variable_counter + 1}\"  # variables x1, x2, x3 ... par défaut\n",
    "\tvariable_name = variable_entry.get() or suggested_name\n",
    "\tvariable_type = variable_type_var.get()\n",
    "\t\n",
    "\tif variable_type == \"int\":\n",
    "\t\t\tstep_value = get_default_step_value(\"int\")\n",
    "\t\t\tmin_value = min_entry.get() if min_entry.get() else get_default_min_value(variable_type)\n",
    "\t\t\tmax_value = max_entry.get() if max_entry.get() else get_default_max_value(variable_type)\n",
    "\telif variable_type == \"boolean\":\n",
    "\t\t\tstep_value = get_default_step_value(\"boolean\")\n",
    "\t\t\tmin_value = get_default_min_value(\"boolean\")\n",
    "\t\t\tmax_value = get_default_max_value(\"boolean\")\n",
    "\telse:\n",
    "\t\tmin_value = min_entry.get() if min_entry.get() else get_default_min_value(variable_type)\n",
    "\t\tmax_value = max_entry.get() if max_entry.get() else get_default_max_value(variable_type)\n",
    "\t\tstep_value = step_entry.get() if step_entry.get() else get_default_step_value(variable_type)\n",
    "\n",
    "\tif variable_name:\n",
    "\t\tvariable_counter += 1\n",
    "\t\tvariable_entry.delete(0, tk.END)\n",
    "\t\tvariable_entry.insert(0, f\"x{variable_counter + 1}\") \n",
    "\t\tmin_entry.delete(0, tk.END)\n",
    "\t\tmin_entry.insert(0, get_default_min_value(\"int\"))  \n",
    "\t\tmax_entry.delete(0, tk.END)\n",
    "\t\tmax_entry.insert(0, get_default_max_value(\"int\")) \n",
    "\t\tstep_entry.delete(0, tk.END)\n",
    "\t\tstep_entry.insert(0, get_default_step_value(\"int\")) \n",
    "\t\tvariables_tree.insert(\"\", \"end\", values=(variable_name, variable_type, min_value, max_value, step_value))\n",
    "\n",
    "\ttoggle_min_max_step_visibility()\n",
    "\n",
    "def update_variable_type(var_type = variable_type_var):\n",
    "\tglobal variable_type_var\n",
    "\ttoggle_min_max_step_visibility()\n",
    "\tvariable_type_var.set(variable_type_var.get())\n",
    "\n",
    "def select_variables_window():\n",
    "\tglobal variable_entry, variable_type_var, min_entry, max_entry, step_entry, num_rows_entry, variables_tree, variables_window\n",
    "\tglobal min_label, max_label, step_label, next_button, function_var\n",
    "\n",
    "\tvariables_window = tk.Toplevel(root)\n",
    "\tvariables_window.title(\"Select Variables\")\n",
    "\tvariables_window.geometry(f\"{WINDOW_WIDTH}x{WINDOW_HEIGHT}\")\n",
    "\n",
    "\tvariable_label = tk.Label(variables_window, text=\"Variable Name:\")\n",
    "\tvariable_label.grid(row=0, column=0, padx=5, pady=5)\n",
    "\tsuggested_name = f\"x{variable_counter + 1}\" \n",
    "\tvariable_entry = tk.Entry(variables_window)\n",
    "\tvariable_entry.insert(0, suggested_name)  \n",
    "\tvariable_entry.grid(row=0, column=1, padx=5, pady=5)\n",
    "\n",
    "\t# variable type\n",
    "\ttype_label = tk.Label(variables_window, text=\"Variable Type:\")\n",
    "\ttype_label.grid(row=0, column=2, padx=5, pady=5)\n",
    "\tvariable_type_var = tk.StringVar(variables_window)\n",
    "\tvariable_type_var.set(\"int\")  # Default type\n",
    "\ttype_dropdown = tk.OptionMenu(variables_window, variable_type_var, \"int\", \"float\", \"boolean\", command=update_variable_type)\n",
    "\ttype_dropdown.grid(row=0, column=3, padx=5, pady=5)\n",
    "\n",
    "\t#  min value\n",
    "\tmin_label = tk.Label(variables_window, text=\"Min:\")\n",
    "\tmin_label.grid(row=0, column=4, padx=5, pady=5)\n",
    "\tmin_entry = tk.Entry(variables_window)\n",
    "\tmin_entry.grid(row=0, column=5, padx=5, pady=5)\n",
    "\n",
    "\t# max value \n",
    "\tmax_label = tk.Label(variables_window, text=\"Max:\")\n",
    "\tmax_label.grid(row=0, column=6, padx=5, pady=5)\n",
    "\tmax_entry = tk.Entry(variables_window)\n",
    "\tmax_entry.grid(row=0, column=7, padx=5, pady=5)\n",
    "\n",
    "\t# step value \n",
    "\tstep_label = tk.Label(variables_window, text=\"Arrond:\")\n",
    "\tstep_label.grid(row=0, column=8, padx=5, pady=5)\n",
    "\tstep_entry = tk.Entry(variables_window)\n",
    "\tstep_entry.grid(row=0, column=9, padx=5, pady=5)\n",
    "\n",
    "\t#  add variable\n",
    "\tadd_button = tk.Button(variables_window, text=\"Add\", command=add_variable)\n",
    "\tadd_button.grid(row=0, column=10, padx=5, pady=5)\n",
    "\n",
    "\t# Treeview\n",
    "\tvariables_tree = ttk.Treeview(variables_window, columns=(\"Name\", \"Type\", \"Min\", \"Max\", \"Step\"), show=\"headings\")\n",
    "\tvariables_tree.heading(\"Name\", text=\"Name\")\n",
    "\tvariables_tree.heading(\"Type\", text=\"Type\")\n",
    "\tvariables_tree.heading(\"Min\", text=\"Min\")\n",
    "\tvariables_tree.heading(\"Max\", text=\"Max\")\n",
    "\tvariables_tree.heading(\"Step\", text=\"Step\")\n",
    "\tvariables_tree.grid(row=1, column=0, columnspan=11, padx=5, pady=5)\n",
    "\n",
    "\n",
    "\t# my f selector\n",
    "\tfunction_label = tk.Label(variables_window, text=\"Function:\")\n",
    "\tfunction_label.grid(row=2, column=5, padx=5, pady=5)\n",
    "\tfunction_var = tk.StringVar(variables_window)\n",
    "\tfunction_var.set(\"and\")  # Default function\n",
    "\tfunction_dropdown = tk.OptionMenu(variables_window, function_var, \"and\", \"or\", \"mean\", \"clustering\", \"monmaster\", \"monmaster discretisé\")\n",
    "\tfunction_dropdown.grid(row=2, column=6, padx=5, pady=5)\n",
    "\n",
    "\t# N = \n",
    "\tnum_rows_label = tk.Label(variables_window, text=\"N:\")\n",
    "\tnum_rows_label.grid(row=2, column=7, padx=5, pady=5)\n",
    "\tnum_rows_entry = tk.Entry(variables_window)\n",
    "\tnum_rows_entry.insert(0, \"10\")  # Default number of rows\n",
    "\tnum_rows_entry.grid(row=2, column=8, padx=5, pady=5)\n",
    "\t\n",
    "\t# add variable (pourquoi pas deux?)\n",
    "\tadd_button2 = tk.Button(variables_window, text=\"Add\", command=add_variable)\n",
    "\tadd_button2.grid(row=2, column=9, padx=5, pady=5)\n",
    "\n",
    "\t# generer\n",
    "\tnext_button = tk.Button(variables_window, text=\"Generate\", command= lambda: display_data(get_variable_data()[0], get_variable_data()[1]))\n",
    "\tnext_button.grid(row=2, column=10, columnspan=11, padx=5, pady=5)\n",
    "\n",
    "\ttoggle_min_max_step_visibility()\t\n",
    "\n",
    "def get_variable_data():\n",
    "\tvariable_data = []\n",
    "\tfor item in variables_tree.get_children():\n",
    "\t\tname = variables_tree.item(item, \"values\")[0]\n",
    "\t\ttype = variables_tree.item(item, \"values\")[1]\n",
    "\t\tmin_value = variables_tree.item(item, \"values\")[2]\n",
    "\t\tmax_value = variables_tree.item(item, \"values\")[3]\n",
    "\t\tstep_value = variables_tree.item(item, \"values\")[4]\n",
    "\t\tvariable_data.append({\"name\": name, \"type\": type, \"min\": min_value, \"max\": max_value, \"step\": step_value})\n",
    "\treturn [variable_data, int(num_rows_entry.get()) if num_rows_entry.get() else 10]\n",
    "\n",
    "def display_data(variable_data, N):\n",
    "\tglobal id1_entry, id2_entry, data_object, res_label\n",
    "\tselected_function = function_var.get()\n",
    "\tif selected_function == \"and\":\n",
    "\t\tf = f1\n",
    "\telif selected_function == \"or\":\n",
    "\t\tf = f2\n",
    "\telif selected_function == \"mean\":\n",
    "\t\tf = f3\n",
    "\telif selected_function == \"clustering\":\n",
    "\t\tf = f4\n",
    "\telif selected_function == \"monmaster\":\n",
    "\t\tf = f5\n",
    "\telif selected_function == \"monmaster discretisé\":\n",
    "\t\tf=f6\n",
    "\tdata_object = Data(variable_data, N,f)\n",
    "\tdf = data_object.data\n",
    "\t# calculate the last column of data_object using f for each row\n",
    "\tprint(\"test\")\n",
    "\n",
    "\tdata_window = tk.Toplevel(root)\n",
    "\tdata_window.title(\"Data Table\")\n",
    "\tdata_window.geometry(f\"{WINDOW_WIDTH}x{WINDOW_HEIGHT}\")\n",
    "\tframe = tk.Frame(data_window)\n",
    "\tframe.grid(sticky='nsew')\n",
    "\n",
    "\tid1_label = tk.Label(frame, text=\"ID1:\")\n",
    "\tid1_label.grid(row=0, column=0, padx=5, pady=5)\n",
    "\tid1_entry = tk.Entry(frame)\n",
    "\tid1_entry.insert(0, \"0\") \n",
    "\tid1_entry.grid(row=1, column=0, padx=5, pady=5)\n",
    "\n",
    "\tid2_label = tk.Label(frame, text=\"ID2:\")\n",
    "\tid2_label.grid(row=2, column=0, padx=5, pady=5)\n",
    "\tid2_entry = tk.Entry(frame)\n",
    "\tid2_entry.insert(0, \"1\")\n",
    "\tid2_entry.grid(row=3, column=0, padx=5, pady=5)\n",
    "\n",
    "\t# Find a cause button\n",
    "\tfind_cause_button = tk.Button(frame, text=\"Find a Cause\", command=find_cause)\n",
    "\tfind_cause_button.grid(row=6, column=0, padx=5, pady=5)\n",
    "\t\n",
    "\t# result:\n",
    "\tres_label = tk.Label(frame, text=\"\")\n",
    "\tres_label.grid(row=7, column=0, padx=5, pady=5)\n",
    "\n",
    "\tv_scrollbar = ttk.Scrollbar(frame, orient=\"vertical\")\n",
    "\tv_scrollbar.grid(row=8, column=1, sticky='ns')\n",
    "\th_scrollbar = ttk.Scrollbar(frame, orient=\"horizontal\")\n",
    "\th_scrollbar.grid(row=9, column=0, sticky='ew')\n",
    "\n",
    "\ttable = ttk.Treeview(frame, height=20, columns=[\"Index\"] + [variable['name'] for variable in variable_data]+['y'],\n",
    "\t\t\t\t\t\tyscrollcommand=v_scrollbar.set, xscrollcommand=h_scrollbar.set, show=\"headings\")\n",
    "\ttable.grid(row=10, column=0, sticky='nsew')\n",
    "\n",
    "\ttable.heading(\"Index\", text=\"Index\")\n",
    "\ttable.column(\"Index\", width=100) \n",
    "\n",
    "\tfor variable in variable_data +  [{'name': 'y'}]:\n",
    "\t\ttable.heading(variable['name'], text=variable['name'])\n",
    "\t\ttable.column(variable['name'], width=100) \n",
    "\n",
    "\tfor index, row in df.iterrows():\n",
    "\t\ttable.insert(\"\", \"end\", values=list(row))\n",
    "\n",
    "\tv_scrollbar.config(command=table.yview)\n",
    "\th_scrollbar.config(command=table.xview)\n",
    "\ttable.configure(yscrollcommand=v_scrollbar.set, xscrollcommand=h_scrollbar.set)\n",
    "\tframe.grid_rowconfigure(0, weight=1)\n",
    "\tframe.grid_columnconfigure(0, weight=1)\n",
    "\tdata_window.grid_columnconfigure(0, weight=1)\n",
    "\tdata_window.grid_rowconfigure(0, weight=1)\n",
    "\n",
    "\ttoggle_min_max_step_visibility()\n",
    "\n",
    "def f1(*args):\n",
    "\treturn all(bool(arg) for arg in args)\n",
    "\n",
    "def f2(*args):\n",
    "\treturn any(bool(arg) for arg in args)\n",
    "\n",
    "def f3(*args):\n",
    "\ttotal = sum(arg for arg in args)\n",
    "\treturn total/len(args) if isinstance(total,int) else float(total)/len(args)\n",
    "\n",
    "def f4(*args):\n",
    "\tdata = [arg for arg in args if isinstance(arg, (int, float, bool))]\n",
    "\tdata = np.array(data).reshape(-1, 1)\n",
    "\tkmeans = KMeans(n_clusters=2)\n",
    "\tkmeans.fit(data)\n",
    "\tlabels = kmeans.labels_\n",
    "\tsilhouette = silhouette_score(data, labels)\n",
    "\t#print(f'Silhouette Score: {silhouette}')\n",
    "\t#print(f'Inertia: {kmeans.inertia_}')\n",
    "\tdef classify(*new_data):\n",
    "\t\tnew_data = np.array(new_data).reshape(-1, 1)\n",
    "\t\treturn int(''.join((map(str, kmeans.predict(new_data)))),2)\n",
    "\treturn classify(*args)\n",
    "\n",
    "def f5(*args):\n",
    "\tcoeffs= [1, 1, 1, 1, 1] #calcul de la Moyenne\n",
    "\tseuils = [12, 12, 12] # Calcul du status d'éligibilité (logique, BDD, PS)\n",
    "\tthresholds2 = [12, 14] # prendre la décision\n",
    "\tS1, S2, S3, S4, S5, Logique, BDD, PS = args\n",
    "\tmoyenne = (S1 * coeffs[0] + S2 * coeffs[1] + S3 * coeffs[2] + S4 * coeffs[3] + S5 * coeffs[4]) / sum(coeffs)\n",
    "\te = (Logique> seuils[0] and BDD> seuils[1] and PS> seuils[2])\n",
    "\tm = (moyenne>thresholds2[1])*2 + (thresholds2[0] <= moyenne <= thresholds2[1])\n",
    "\tif e and m==2:\n",
    "\t\treturn 'Accepté'\n",
    "\telif e and m==1:\n",
    "\t\treturn 'En liste d\\'attente'\n",
    "\telse:\n",
    "\t\treturn 'Rejeté'\n",
    "\n",
    "def f6(*args):\n",
    "\tcoeffs= [1, 1, 1, 1, 1] #calcul de la Moyenne\n",
    "\tthresholds2 = [12, 14] # prendre la décision\n",
    "\tif len(args)==8:\n",
    "\t\tS1, S2, S3, S4, S5, Logique, BDD, PS = args\n",
    "\telif len(args)==9:\n",
    "\t\tS1, S2, S3, S4, S5, Logique, BDD, PS, _ = args\n",
    "\tmoyenne = (S1 * coeffs[0] + S2 * coeffs[1] + S3 * coeffs[2] + S4 * coeffs[3] + S5 * coeffs[4]) / sum(coeffs)\n",
    "\te = (Logique and BDD and PS)\n",
    "\tm = (moyenne>thresholds2[1])*2 + (thresholds2[0] <= moyenne <= thresholds2[1])\n",
    "\tif e and m==2:\n",
    "\t\treturn 'Accepté'\n",
    "\telif e and m==1:\n",
    "\t\treturn 'En liste d\\'attente'\n",
    "\telse:\n",
    "\t\treturn 'Rejeté'\n",
    "\n",
    "def find_cause():\n",
    "\tModelBifact = Bifact(data_object)\n",
    "\tid1 = int(id1_entry.get())\n",
    "\tid2 = int(id2_entry.get())\n",
    "\tcause = ModelBifact.find_cause(id1, id2)\n",
    "\tres_label.config(text = str(cause))\n",
    "\n",
    "def toggle_min_max_step_visibility():\n",
    "\tglobal min_label, max_label, step_label, min_entry, max_entry, step_entry\n",
    "\tselected_type = variable_type_var.get()\n",
    "\n",
    "\tif selected_type in [\"int\", \"float\"]:\n",
    "\t\tmin_label.grid()\n",
    "\t\tmin_entry.grid()\n",
    "\t\tmax_label.grid()\n",
    "\t\tmax_entry.grid()\n",
    "\n",
    "\t\tif selected_type == \"float\":\n",
    "\t\t\tstep_label.grid()\n",
    "\t\t\tstep_entry.grid()\n",
    "\t\telse:\n",
    "\t\t\t\n",
    "\t\t\tstep_label.grid_remove()\n",
    "\t\t\tstep_entry.grid_remove()\n",
    "\telse:\n",
    "\t\tmin_label.grid_remove()\n",
    "\t\tmin_entry.grid_remove()\n",
    "\t\tmax_label.grid_remove()\n",
    "\t\tmax_entry.grid_remove()\n",
    "\t\tstep_label.grid_remove()\n",
    "\t\tstep_entry.grid_remove()\n",
    "\n",
    "def get_default_min_value(var_type):\n",
    "\tif var_type == \"boolean\":\n",
    "\t\treturn \"False\"\n",
    "\telif var_type == \"int\":\n",
    "\t\treturn \"0\"\n",
    "\telif var_type == \"float\":\n",
    "\t\treturn \"0.0\"\n",
    "\n",
    "def get_default_max_value(var_type):\n",
    "\tif var_type == \"boolean\":\n",
    "\t\treturn \"True\"\n",
    "\telif var_type == \"int\":\n",
    "\t\treturn \"20\"\n",
    "\telif var_type == \"float\":\n",
    "\t\treturn \"20.0\"\n",
    "\n",
    "def get_default_step_value(var_type):\n",
    "\tif var_type == \"float\":\n",
    "\t\treturn \"2\"\n",
    "\telse:\n",
    "\t\treturn \"\"\n",
    "\n",
    "# mon gui principal\n",
    "root = tk.Tk()\n",
    "root.title(\"Bifact\")\n",
    "root.geometry(f\"{WINDOW_WIDTH}x{WINDOW_HEIGHT}\")\n",
    "\n",
    "#import_button = tk.Button(root, text=\"Import a CSV File\", command=import_csv)\n",
    "#import_button.pack()\n",
    "generate_button = tk.Button(root, text=\"Generate Randomly\", command=generate_random)\n",
    "generate_button.pack()\n",
    "\n",
    "\n",
    "\n",
    "\n",
    "#root.mainloop() \n",
    "# remove le # pour lancer l'interface graphique\n"
   ]
  },
  {
   "cell_type": "markdown",
   "metadata": {},
   "source": [
    "# Tester la BC() sur notre exemple de monmaster"
   ]
  },
  {
   "cell_type": "code",
   "execution_count": 5,
   "metadata": {},
   "outputs": [
    {
     "data": {
      "text/plain": [
       "['S1', 'S2', 'S3', 'S4', 'S5', 'Logique', 'BDD']"
      ]
     },
     "metadata": {},
     "output_type": "display_data"
    },
    {
     "data": {
      "text/html": [
       "<div>\n",
       "<style scoped>\n",
       "    .dataframe tbody tr th:only-of-type {\n",
       "        vertical-align: middle;\n",
       "    }\n",
       "\n",
       "    .dataframe tbody tr th {\n",
       "        vertical-align: top;\n",
       "    }\n",
       "\n",
       "    .dataframe thead th {\n",
       "        text-align: right;\n",
       "    }\n",
       "</style>\n",
       "<table border=\"1\" class=\"dataframe\">\n",
       "  <thead>\n",
       "    <tr style=\"text-align: right;\">\n",
       "      <th></th>\n",
       "      <th>id</th>\n",
       "      <th>S1</th>\n",
       "      <th>S2</th>\n",
       "      <th>S3</th>\n",
       "      <th>S4</th>\n",
       "      <th>S5</th>\n",
       "      <th>Logique</th>\n",
       "      <th>BDD</th>\n",
       "      <th>PS</th>\n",
       "    </tr>\n",
       "  </thead>\n",
       "  <tbody>\n",
       "    <tr>\n",
       "      <th>0</th>\n",
       "      <td>1</td>\n",
       "      <td>15</td>\n",
       "      <td>13</td>\n",
       "      <td>16</td>\n",
       "      <td>17</td>\n",
       "      <td>13</td>\n",
       "      <td>1</td>\n",
       "      <td>1</td>\n",
       "      <td>1</td>\n",
       "    </tr>\n",
       "    <tr>\n",
       "      <th>1</th>\n",
       "      <td>2</td>\n",
       "      <td>11</td>\n",
       "      <td>5</td>\n",
       "      <td>8</td>\n",
       "      <td>12</td>\n",
       "      <td>10</td>\n",
       "      <td>1</td>\n",
       "      <td>1</td>\n",
       "      <td>1</td>\n",
       "    </tr>\n",
       "    <tr>\n",
       "      <th>2</th>\n",
       "      <td>3</td>\n",
       "      <td>14</td>\n",
       "      <td>12</td>\n",
       "      <td>11</td>\n",
       "      <td>15</td>\n",
       "      <td>13</td>\n",
       "      <td>1</td>\n",
       "      <td>1</td>\n",
       "      <td>1</td>\n",
       "    </tr>\n",
       "    <tr>\n",
       "      <th>3</th>\n",
       "      <td>4</td>\n",
       "      <td>16</td>\n",
       "      <td>15</td>\n",
       "      <td>15</td>\n",
       "      <td>18</td>\n",
       "      <td>15</td>\n",
       "      <td>0</td>\n",
       "      <td>0</td>\n",
       "      <td>1</td>\n",
       "    </tr>\n",
       "    <tr>\n",
       "      <th>4</th>\n",
       "      <td>5</td>\n",
       "      <td>11</td>\n",
       "      <td>11</td>\n",
       "      <td>11</td>\n",
       "      <td>11</td>\n",
       "      <td>11</td>\n",
       "      <td>0</td>\n",
       "      <td>0</td>\n",
       "      <td>0</td>\n",
       "    </tr>\n",
       "    <tr>\n",
       "      <th>5</th>\n",
       "      <td>6</td>\n",
       "      <td>0</td>\n",
       "      <td>1</td>\n",
       "      <td>0</td>\n",
       "      <td>0</td>\n",
       "      <td>0</td>\n",
       "      <td>1</td>\n",
       "      <td>1</td>\n",
       "      <td>1</td>\n",
       "    </tr>\n",
       "    <tr>\n",
       "      <th>6</th>\n",
       "      <td>7</td>\n",
       "      <td>1</td>\n",
       "      <td>0</td>\n",
       "      <td>0</td>\n",
       "      <td>0</td>\n",
       "      <td>0</td>\n",
       "      <td>1</td>\n",
       "      <td>1</td>\n",
       "      <td>1</td>\n",
       "    </tr>\n",
       "  </tbody>\n",
       "</table>\n",
       "</div>"
      ],
      "text/plain": [
       "   id  S1  S2  S3  S4  S5  Logique  BDD  PS\n",
       "0   1  15  13  16  17  13        1    1   1\n",
       "1   2  11   5   8  12  10        1    1   1\n",
       "2   3  14  12  11  15  13        1    1   1\n",
       "3   4  16  15  15  18  15        0    0   1\n",
       "4   5  11  11  11  11  11        0    0   0\n",
       "5   6   0   1   0   0   0        1    1   1\n",
       "6   7   1   0   0   0   0        1    1   1"
      ]
     },
     "metadata": {},
     "output_type": "display_data"
    }
   ],
   "source": [
    "from tools import *\n",
    "import pandas as pd\n",
    " \n",
    "df= pd.DataFrame({\n",
    "    \"id\": [1,2,3,4,5,6,7],\n",
    "    \"S1\":[15, 11, 14, 16, 11,0,1],\n",
    "    \"S2\": [13, 5, 12, 15, 11,1,0],\n",
    "    \"S3\":[16, 8, 11, 15, 11,0,0],\n",
    "    \"S4\": [17, 12, 15, 18, 11,0,0],\n",
    "    \"S5\": [13, 10, 13, 15, 11,0,0],\n",
    "\n",
    "    \"Logique\": [1, 1, 1, 0, 0,1,1],\n",
    "    \"BDD\": [1, 1, 1, 0, 0,1,1],\n",
    "    \"PS\": [1, 1, 1, 1, 0,1,1]\n",
    "})\n",
    "V = list(df.columns)[1:-1]\n",
    "display(V, df)\n",
    "\n",
    "domains = {\n",
    "        \"S1\": range(0, 21),\n",
    "        \"S2\": range(0, 21),\n",
    "        \"S3\": range(0, 21),\n",
    "        \"S4\": range(0, 21),\n",
    "        \"S5\": range(0, 21),\n",
    "        \"BDD\": [0, 1],\n",
    "        \"Logique\": [0, 1],\n",
    "        \"PS\": [0, 1]\n",
    "    }\n",
    "\n",
    "data = Data(None, 10,med, df, domains )\n",
    "model = Bifact(data)\n"
   ]
  },
  {
   "cell_type": "code",
   "execution_count": 6,
   "metadata": {},
   "outputs": [
    {
     "name": "stderr",
     "output_type": "stream",
     "text": [
      "  0%|          | 0/3 [00:00<?, ?it/s]"
     ]
    },
    {
     "name": "stderr",
     "output_type": "stream",
     "text": [
      "  2%|▏         | 1/63 [00:00<00:05, 10.78it/s]\n",
      "  2%|▏         | 1/63 [00:00<00:04, 12.67it/s]\n",
      "100%|██████████| 3/3 [00:00<00:00, 13.91it/s]\n"
     ]
    },
    {
     "data": {
      "text/plain": [
       "[('S1', 'S2')]"
      ]
     },
     "execution_count": 6,
     "metadata": {},
     "output_type": "execute_result"
    }
   ],
   "source": [
    "model.find_cause(6,7)"
   ]
  },
  {
   "cell_type": "code",
   "execution_count": 7,
   "metadata": {},
   "outputs": [
    {
     "name": "stderr",
     "output_type": "stream",
     "text": [
      "  0%|          | 0/31 [00:00<?, ?it/s]"
     ]
    },
    {
     "name": "stderr",
     "output_type": "stream",
     "text": [
      "  2%|▏         | 3/127 [00:00<00:00, 206.25it/s]\n",
      "  2%|▏         | 3/127 [00:00<00:00, 259.82it/s]\n",
      "  0%|          | 0/127 [00:00<?, ?it/s].47it/s]\n",
      "  1%|          | 1/127 [00:00<00:01, 110.29it/s]\n",
      "100%|██████████| 31/31 [00:02<00:00, 13.55it/s]\n"
     ]
    },
    {
     "data": {
      "text/plain": [
       "[('S5',), ('S4',), ('S3',), ('S2',), ('S1',)]"
      ]
     },
     "execution_count": 7,
     "metadata": {},
     "output_type": "execute_result"
    }
   ],
   "source": [
    "model.find_cause(1,2)"
   ]
  },
  {
   "cell_type": "code",
   "execution_count": null,
   "metadata": {},
   "outputs": [],
   "source": [
    "model.find_cause(2,4)"
   ]
  },
  {
   "cell_type": "code",
   "execution_count": 9,
   "metadata": {},
   "outputs": [
    {
     "name": "stderr",
     "output_type": "stream",
     "text": [
      " 94%|█████████▎| 29/31 [00:02<00:00, 10.91it/s]\n"
     ]
    }
   ],
   "source": [
    "assert model.BC(1,2, ({\"S2\":\"13\"}, {\"S2\":\"5\"}), ('A', 'R')) # OK"
   ]
  },
  {
   "cell_type": "code",
   "execution_count": 10,
   "metadata": {},
   "outputs": [
    {
     "name": "stderr",
     "output_type": "stream",
     "text": [
      "  0%|          | 0/127 [00:00<?, ?it/s]"
     ]
    },
    {
     "name": "stderr",
     "output_type": "stream",
     "text": [
      "100%|██████████| 127/127 [00:10<00:00, 11.72it/s]\n"
     ]
    }
   ],
   "source": [
    "assert not model.BC(3,4, ({\"Logique\":\"1\", 'BDD':\"1\"}, {\"Logique\":\"0\", \"BDD\":'0'}), ('L', 'R')) # False car une varaible suffit pour que 0003 change de decision (devient 'R')"
   ]
  },
  {
   "cell_type": "code",
   "execution_count": 11,
   "metadata": {},
   "outputs": [
    {
     "name": "stderr",
     "output_type": "stream",
     "text": [
      "100%|██████████| 127/127 [00:10<00:00, 11.79it/s]\n"
     ]
    },
    {
     "data": {
      "text/plain": [
       "False"
      ]
     },
     "execution_count": 11,
     "metadata": {},
     "output_type": "execute_result"
    }
   ],
   "source": [
    "model.BC(3,4, ({\"Logique\":\"1\", 'BDD':\"1\", 'S2':\"12\"}, {\"Logique\":\"0\", \"BDD\":'0', 'S2':\"15\"}), ('L', 'R')) # False car une varaible suffit pour que 0003 change de decision (devient 'R')"
   ]
  },
  {
   "cell_type": "code",
   "execution_count": 12,
   "metadata": {},
   "outputs": [
    {
     "name": "stderr",
     "output_type": "stream",
     "text": [
      " 10%|▉         | 6/63 [00:00<00:00, 144.81it/s]"
     ]
    },
    {
     "name": "stderr",
     "output_type": "stream",
     "text": [
      "\n"
     ]
    },
    {
     "data": {
      "text/plain": [
       "False"
      ]
     },
     "execution_count": 12,
     "metadata": {},
     "output_type": "execute_result"
    }
   ],
   "source": [
    "model.BC(4,5, ({\"Logique\":\"0\", 'BDD':\"0\"}, {\"Logique\":\"0\", \"BDD\":'0'}), ('R', 'R')) # False car intersection n'est pas vide"
   ]
  },
  {
   "cell_type": "code",
   "execution_count": 13,
   "metadata": {},
   "outputs": [
    {
     "data": {
      "text/plain": [
       "False"
      ]
     },
     "execution_count": 13,
     "metadata": {},
     "output_type": "execute_result"
    }
   ],
   "source": [
    "model.BC(1,3, ({\"S5\":\"13\"}, {\"S5\":\"13\"}), ('A', 'L'))  # False car intersection n'est pas vide"
   ]
  },
  {
   "cell_type": "code",
   "execution_count": 14,
   "metadata": {},
   "outputs": [
    {
     "name": "stderr",
     "output_type": "stream",
     "text": [
      "  0%|          | 0/15 [00:00<?, ?it/s]"
     ]
    },
    {
     "name": "stderr",
     "output_type": "stream",
     "text": [
      " 93%|█████████▎| 14/15 [00:00<00:00, 116.06it/s]\n"
     ]
    },
    {
     "data": {
      "text/plain": [
       "True"
      ]
     },
     "execution_count": 14,
     "metadata": {},
     "output_type": "execute_result"
    }
   ],
   "source": [
    "model.BC(1,3, ({\"S1\":\"15\"}, {\"S1\":\"14\"}), ('A', 'L')) # OK"
   ]
  },
  {
   "cell_type": "code",
   "execution_count": 15,
   "metadata": {},
   "outputs": [
    {
     "name": "stderr",
     "output_type": "stream",
     "text": [
      "  0%|          | 0/15 [00:00<?, ?it/s]"
     ]
    },
    {
     "name": "stderr",
     "output_type": "stream",
     "text": [
      "100%|██████████| 15/15 [00:00<00:00, 128.07it/s]\n"
     ]
    },
    {
     "data": {
      "text/plain": [
       "False"
      ]
     },
     "execution_count": 15,
     "metadata": {},
     "output_type": "execute_result"
    }
   ],
   "source": [
    "model.BC(1,3, ({\"S1\":\"15\", 'S2':'13'}, {\"S1\":\"14\", 'S2':'12'}), ('A', 'L')) # False car l'ensemble n'est pas minimal (S1 ou S2 aurait suffit)"
   ]
  },
  {
   "cell_type": "markdown",
   "metadata": {},
   "source": [
    "## Evaluation du temps d'execution"
   ]
  },
  {
   "cell_type": "markdown",
   "metadata": {},
   "source": [
    "### AC2/AC3 vs AC23"
   ]
  },
  {
   "cell_type": "code",
   "execution_count": 69,
   "metadata": {},
   "outputs": [
    {
     "data": {
      "image/png": "[encoded data removed]",
      "text/plain": [
       "<Figure size 640x480 with 1 Axes>"
      ]
     },
     "metadata": {},
     "output_type": "display_data"
    },
    {
     "data": {
      "text/plain": [
       "Text(0.5, 1.0, \"Comparaison des temps d'exécution entre AC2/AC3 et AC23\")"
      ]
     },
     "execution_count": 69,
     "metadata": {},
     "output_type": "execute_result"
    },
    {
     "data": {
      "image/png": "[encoded data removed]",
      "text/plain": [
       "<Figure size 640x480 with 1 Axes>"
      ]
     },
     "metadata": {},
     "output_type": "display_data"
    }
   ],
   "source": [
    "\n",
    "list_duree=[]\n",
    "list_duree_opt=[]\n",
    "list_id=[1,2,4,1,6]\n",
    "list_X=[{\"S1\": 15}, {\"S1\": 11, \"S5\": 10}, {\"S5\": 11, \"BDD\": 0}, {\"Logique\":\"1\", 'BDD':\"1\"}, {\"S1\":\"0\", 'S2':\"1\", 'S3':\"0\"} ]\n",
    "list_y=['A', 'R', 'R', 'A', 'R']\n",
    "\n",
    "for id, X, y in zip(list_id,list_X, list_y ):\n",
    "    duree_moy=0\n",
    "    for repetition in range(50):\n",
    "        start_time=time.time()\n",
    "        model.AC2(id, X, y)\n",
    "        model.AC3(id, X, y)\n",
    "        duree=int((time.time()-start_time)*1000)\n",
    "        duree_moy+=duree\n",
    "    list_duree.append(duree_moy/50)\n",
    "\n",
    "    duree_moy=0\n",
    "    for repetition in range(50):\n",
    "        start_time=time.time()\n",
    "        model.AC23(id, X, y)\n",
    "        duree=int((time.time()-start_time)*1000)\n",
    "        duree_moy+=duree\n",
    "    list_duree_opt.append(duree_moy/50)\n",
    "\n",
    "print(\"Temps d'execution de la version naive\", list_duree)\n",
    "print(\"Temps d'execution de la version optimisée\", list_duree_opt)\n",
    "plt.bar(list(range(len(list_id))), list_duree, label=\"Naive\")\n",
    "plt.bar(list(range(len(list_id))), list_duree_opt, label=\"Optimisé\")\n",
    "plt.legend()\n",
    "plt.xlabel(\"Exemples\")\n",
    "plt.ylabel(\"Temps d'exécution en ms\")\n",
    "plt.title(\"Comparaison des temps d'exécution entre AC2/AC3 et AC23\")\n",
    "plt.show()\n",
    "\n",
    "plt.plot(list(range(len(list_id))), list_duree, label=\"Naive\")\n",
    "plt.plot(list(range(len(list_id))), list_duree_opt, label=\"Optimisé\")\n",
    "plt.legend()\n",
    "plt.xlabel(\"Exemples\")\n",
    "plt.ylabel(\"Temps d'exécution en ms\")\n",
    "plt.title(\"Comparaison des temps d'exécution entre AC2/AC3 et AC23\")"
   ]
  },
  {
   "cell_type": "code",
   "execution_count": 70,
   "metadata": {},
   "outputs": [],
   "source": [
    "# start_time=time.time()\n",
    "# assert model.AC2(5, {\"Moyenne\": 0, 'Eligible':False},'R')\n",
    "# assert model.AC3(5, {\"Moyenne\": 0, 'Eligible':False},'R')\n",
    "# duree=int((time.time()-start_time)*1000)\n",
    "# print(duree)\n",
    "\n",
    "# start_time=time.time()\n",
    "# assert model.AC23(5, {\"Moyenne\": 0, 'Eligible':False},'R')\n",
    "# duree=int((time.time()-start_time)*1000)\n",
    "# print(duree)"
   ]
  },
  {
   "cell_type": "markdown",
   "metadata": {},
   "source": [
    "### BC12_beta2 vs BC1"
   ]
  },
  {
   "cell_type": "code",
   "execution_count": 104,
   "metadata": {},
   "outputs": [],
   "source": [
    "def generate_supersets(N, X, V, df):\n",
    "\tcandidat = df[df['id']==N]\n",
    "\tV_sauf_X=[var for var in V if not var in X.keys()]\n",
    "\t#print(V_sauf_X)\n",
    "\tsupersets = [X]\n",
    "\tfor var in V_sauf_X:\n",
    "\t\tvaleur = candidat[var].iloc[0]\n",
    "\t\tcopie = copy.deepcopy(supersets)\n",
    "\t\tfor dictio in copie:\n",
    "\t\t\tdictio[var]= valeur\n",
    "\t\tsupersets =supersets + copie\n",
    "\tunique_dicts = {tuple(sorted(d.items())) for d in supersets}\n",
    "\tunique_list_of_dicts = [dict(item) for item in unique_dicts]\n",
    "\treturn sorted(unique_list_of_dicts, key=lambda x:len(x))\n",
    "\n",
    "def BC1(N, X, decision, df=df, model=model):\n",
    "\tsupersets = generate_supersets(N, X, V, df)\n",
    "\tfor superset in tqdm(supersets):\n",
    "\t\t#print(\"\\n\",superset)\n",
    "\t\tif (model.AC1(N, superset, decision) and model.AC2(N, superset, decision) and model.AC3(N, superset, decision)):\n",
    "\t\t\tprint(f\"La actual cause est: {superset} \\n\")\n",
    "\t\t\treturn True\n",
    "\treturn False\n",
    "\n",
    "\n",
    "def BC_naive(id1, id2, X, y, verbose=False, model=model, df=df):\n",
    "\treturn BC1(id1, X[0], y[0], df) and BC1(id2, X[1], y[1], df) and model.BC1_4(id1, id2, X, y,verbose=verbose)\n"
   ]
  },
  {
   "cell_type": "code",
   "execution_count": 108,
   "metadata": {},
   "outputs": [
    {
     "name": "stderr",
     "output_type": "stream",
     "text": [
      "  0%|          | 0/64 [00:00<?, ?it/s]\n"
     ]
    },
    {
     "name": "stdout",
     "output_type": "stream",
     "text": [
      "La actual cause est: {'S2': '13'} \n",
      "\n"
     ]
    },
    {
     "name": "stderr",
     "output_type": "stream",
     "text": [
      "  0%|          | 0/64 [00:00<?, ?it/s]\n"
     ]
    },
    {
     "name": "stdout",
     "output_type": "stream",
     "text": [
      "La actual cause est: {'S2': '5'} \n",
      "\n"
     ]
    },
    {
     "name": "stderr",
     "output_type": "stream",
     "text": [
      " 94%|█████████▎| 29/31 [00:01<00:00, 17.27it/s]\n",
      " 94%|█████████▎| 29/31 [00:01<00:00, 18.51it/s]\n",
      "100%|██████████| 32/32 [00:16<00:00,  2.00it/s] \n",
      "100%|██████████| 15/15 [00:00<00:00, 188.21it/s]\n",
      "  0%|          | 0/64 [00:00<?, ?it/s]\n"
     ]
    },
    {
     "name": "stdout",
     "output_type": "stream",
     "text": [
      "La actual cause est: {'S1': '15'} \n",
      "\n"
     ]
    },
    {
     "name": "stderr",
     "output_type": "stream",
     "text": [
      "  0%|          | 0/64 [00:00<?, ?it/s]\n"
     ]
    },
    {
     "name": "stdout",
     "output_type": "stream",
     "text": [
      "La actual cause est: {'S1': '14'} \n",
      "\n"
     ]
    },
    {
     "name": "stderr",
     "output_type": "stream",
     "text": [
      " 93%|█████████▎| 14/15 [00:00<00:00, 161.63it/s]\n",
      " 93%|█████████▎| 14/15 [00:00<00:00, 110.12it/s]\n",
      "  0%|          | 0/64 [00:00<?, ?it/s]\n"
     ]
    },
    {
     "name": "stdout",
     "output_type": "stream",
     "text": [
      "La actual cause est: {'S5': '13'} \n",
      "\n"
     ]
    },
    {
     "name": "stderr",
     "output_type": "stream",
     "text": [
      "  0%|          | 0/64 [00:00<?, ?it/s]\n"
     ]
    },
    {
     "name": "stdout",
     "output_type": "stream",
     "text": [
      "La actual cause est: {'S5': '13'} \n",
      "\n"
     ]
    },
    {
     "name": "stderr",
     "output_type": "stream",
     "text": [
      "  0%|          | 0/32 [00:00<?, ?it/s]\n"
     ]
    },
    {
     "name": "stdout",
     "output_type": "stream",
     "text": [
      "La actual cause est: {'BDD': '0', 'Logique': '0'} \n",
      "\n"
     ]
    },
    {
     "name": "stderr",
     "output_type": "stream",
     "text": [
      "100%|██████████| 32/32 [01:52<00:00,  3.51s/it] \n",
      " 10%|▉         | 6/63 [00:00<00:00, 1200.89it/s]\n",
      "100%|██████████| 16/16 [00:06<00:00,  2.34it/s]\n",
      "100%|██████████| 127/127 [00:06<00:00, 18.45it/s]\n",
      "100%|██████████| 32/32 [00:07<00:00,  4.55it/s] \n",
      "100%|██████████| 127/127 [00:07<00:00, 17.38it/s]\n"
     ]
    },
    {
     "data": {
      "image/png": "[encoded data removed]",
      "text/plain": [
       "<Figure size 640x480 with 1 Axes>"
      ]
     },
     "metadata": {},
     "output_type": "display_data"
    },
    {
     "data": {
      "text/plain": [
       "Text(0.5, 1.0, \"Comparaison des temps d'exécution entre BC1 et BC12_beta\")"
      ]
     },
     "execution_count": 108,
     "metadata": {},
     "output_type": "execute_result"
    },
    {
     "data": {
      "image/png": "[encoded data removed]",
      "text/plain": [
       "<Figure size 640x480 with 1 Axes>"
      ]
     },
     "metadata": {},
     "output_type": "display_data"
    }
   ],
   "source": [
    "list_duree=[]\n",
    "list_duree_opt=[]\n",
    "list_id=[(1,2), (1,3), (1,3), (1,3), (4,5), (3,4), (3,4)]\n",
    "list_X=[({\"S2\":\"13\"}, {\"S2\":\"5\"}), ({\"S1\":\"15\", 'S2':'13'}, {\"S1\":\"14\", 'S2':'12'}), ({\"S1\":\"15\"}, {\"S1\":\"14\"}), ({\"S5\":\"13\"}, {\"S5\":\"13\"}), \n",
    "        ({\"Logique\":\"0\", 'BDD':\"0\"}, {\"Logique\":\"0\", \"BDD\":'0'}), ({\"Logique\":\"1\", 'BDD':\"1\", 'S2':\"12\"}, {\"Logique\":\"0\", \"BDD\":'0', 'S2':\"15\"}), ({\"Logique\":\"1\", 'BDD':\"1\"}, {\"Logique\":\"0\", \"BDD\":'0'})]\n",
    "list_y=[('A', 'R'), ('A', 'L'), ('A', 'L'), ('A', 'L'), ('R', 'R'), ('L', 'R'), ('L', 'R')]\n",
    "\n",
    "\n",
    "for id, X, y in zip(list_id,list_X, list_y ):\n",
    "    nb_repetitions=1\n",
    "    duree_moy=0\n",
    "    for repetition in range(nb_repetitions):\n",
    "        start_time=time.time()\n",
    "        BC_naive(id[0],id[1], X, y)\n",
    "        duree=int((time.time()-start_time))\n",
    "        duree_moy+=duree\n",
    "    list_duree.append(duree_moy/nb_repetitions)\n",
    "\n",
    "    duree_moy=0\n",
    "    for repetition in range(nb_repetitions):\n",
    "        start_time=time.time()\n",
    "        model.BC(id[0],id[1], X, y)\n",
    "        duree=int((time.time()-start_time))\n",
    "        duree_moy+=duree\n",
    "    list_duree_opt.append(duree_moy/nb_repetitions)\n",
    "\n",
    "\n",
    "print(\"Temps d'execution de la version naive\", list_duree)\n",
    "print(\"Temps d'execution de la version optimisée\", list_duree_opt)\n",
    "plt.bar(list(range(1,len(list_id)+1)), list_duree, label=\"Naive\")\n",
    "plt.bar(list(range(1,len(list_id)+1)), list_duree_opt, label=\"Optimisé\")\n",
    "plt.legend()\n",
    "plt.xlabel(\"Exemples\")\n",
    "plt.ylabel(\"Temps d'exécution en s\")\n",
    "plt.title(\"Comparaison des temps d'exécution entre BC1 et BC12_beta\")\n",
    "plt.show()\n",
    "\n",
    "plt.plot(list(range(1,len(list_id)+1)), list_duree, label=\"Naive\")\n",
    "plt.plot(list(range(1,len(list_id)+1)), list_duree_opt, label=\"Optimisé\")\n",
    "plt.legend()\n",
    "plt.xlabel(\"Exemples\")\n",
    "plt.ylabel(\"Temps d'exécution en s\")\n",
    "plt.title(\"Comparaison des temps d'exécution entre BC1 et BC12_beta\")\n"
   ]
  },
  {
   "cell_type": "markdown",
   "metadata": {},
   "source": [
    "### BC1_4 vs BC3/BC4"
   ]
  },
  {
   "cell_type": "code",
   "execution_count": 114,
   "metadata": {},
   "outputs": [
    {
     "data": {
      "text/html": [
       "<div>\n",
       "<style scoped>\n",
       "    .dataframe tbody tr th:only-of-type {\n",
       "        vertical-align: middle;\n",
       "    }\n",
       "\n",
       "    .dataframe tbody tr th {\n",
       "        vertical-align: top;\n",
       "    }\n",
       "\n",
       "    .dataframe thead th {\n",
       "        text-align: right;\n",
       "    }\n",
       "</style>\n",
       "<table border=\"1\" class=\"dataframe\">\n",
       "  <thead>\n",
       "    <tr style=\"text-align: right;\">\n",
       "      <th></th>\n",
       "      <th>id</th>\n",
       "      <th>S1</th>\n",
       "      <th>S2</th>\n",
       "      <th>S3</th>\n",
       "      <th>S4</th>\n",
       "      <th>S5</th>\n",
       "      <th>Logique</th>\n",
       "      <th>BDD</th>\n",
       "      <th>PS</th>\n",
       "      <th>y</th>\n",
       "    </tr>\n",
       "  </thead>\n",
       "  <tbody>\n",
       "    <tr>\n",
       "      <th>0</th>\n",
       "      <td>1</td>\n",
       "      <td>15</td>\n",
       "      <td>13</td>\n",
       "      <td>16</td>\n",
       "      <td>17</td>\n",
       "      <td>13</td>\n",
       "      <td>1</td>\n",
       "      <td>1</td>\n",
       "      <td>1</td>\n",
       "      <td>A</td>\n",
       "    </tr>\n",
       "    <tr>\n",
       "      <th>1</th>\n",
       "      <td>2</td>\n",
       "      <td>11</td>\n",
       "      <td>5</td>\n",
       "      <td>8</td>\n",
       "      <td>12</td>\n",
       "      <td>10</td>\n",
       "      <td>1</td>\n",
       "      <td>1</td>\n",
       "      <td>1</td>\n",
       "      <td>R</td>\n",
       "    </tr>\n",
       "    <tr>\n",
       "      <th>2</th>\n",
       "      <td>3</td>\n",
       "      <td>14</td>\n",
       "      <td>12</td>\n",
       "      <td>11</td>\n",
       "      <td>15</td>\n",
       "      <td>13</td>\n",
       "      <td>1</td>\n",
       "      <td>1</td>\n",
       "      <td>1</td>\n",
       "      <td>L</td>\n",
       "    </tr>\n",
       "    <tr>\n",
       "      <th>3</th>\n",
       "      <td>4</td>\n",
       "      <td>16</td>\n",
       "      <td>15</td>\n",
       "      <td>15</td>\n",
       "      <td>18</td>\n",
       "      <td>15</td>\n",
       "      <td>0</td>\n",
       "      <td>0</td>\n",
       "      <td>1</td>\n",
       "      <td>R</td>\n",
       "    </tr>\n",
       "    <tr>\n",
       "      <th>4</th>\n",
       "      <td>5</td>\n",
       "      <td>11</td>\n",
       "      <td>11</td>\n",
       "      <td>11</td>\n",
       "      <td>11</td>\n",
       "      <td>11</td>\n",
       "      <td>0</td>\n",
       "      <td>0</td>\n",
       "      <td>0</td>\n",
       "      <td>R</td>\n",
       "    </tr>\n",
       "    <tr>\n",
       "      <th>5</th>\n",
       "      <td>6</td>\n",
       "      <td>0</td>\n",
       "      <td>1</td>\n",
       "      <td>0</td>\n",
       "      <td>0</td>\n",
       "      <td>0</td>\n",
       "      <td>1</td>\n",
       "      <td>1</td>\n",
       "      <td>1</td>\n",
       "      <td>R</td>\n",
       "    </tr>\n",
       "    <tr>\n",
       "      <th>6</th>\n",
       "      <td>7</td>\n",
       "      <td>1</td>\n",
       "      <td>0</td>\n",
       "      <td>0</td>\n",
       "      <td>0</td>\n",
       "      <td>0</td>\n",
       "      <td>1</td>\n",
       "      <td>1</td>\n",
       "      <td>1</td>\n",
       "      <td>R</td>\n",
       "    </tr>\n",
       "  </tbody>\n",
       "</table>\n",
       "</div>"
      ],
      "text/plain": [
       "   id  S1  S2  S3  S4  S5  Logique  BDD  PS  y\n",
       "0   1  15  13  16  17  13        1    1   1  A\n",
       "1   2  11   5   8  12  10        1    1   1  R\n",
       "2   3  14  12  11  15  13        1    1   1  L\n",
       "3   4  16  15  15  18  15        0    0   1  R\n",
       "4   5  11  11  11  11  11        0    0   0  R\n",
       "5   6   0   1   0   0   0        1    1   1  R\n",
       "6   7   1   0   0   0   0        1    1   1  R"
      ]
     },
     "metadata": {},
     "output_type": "display_data"
    },
    {
     "name": "stderr",
     "output_type": "stream",
     "text": [
      "  0%|          | 0/64 [00:00<?, ?it/s]\n"
     ]
    },
    {
     "name": "stdout",
     "output_type": "stream",
     "text": [
      "La actual cause est: {'Logique': '1'} \n",
      "\n"
     ]
    },
    {
     "name": "stderr",
     "output_type": "stream",
     "text": [
      "  8%|▊         | 5/64 [00:00<00:00, 375.75it/s]\n"
     ]
    },
    {
     "name": "stdout",
     "output_type": "stream",
     "text": [
      "La actual cause est: {'BDD': 0, 'Logique': '0'} \n",
      "\n",
      "True set()\n"
     ]
    },
    {
     "name": "stderr",
     "output_type": "stream",
     "text": [
      "100%|██████████| 32/32 [00:11<00:00,  2.74it/s]\n",
      "100%|██████████| 32/32 [00:13<00:00,  2.34it/s]\n",
      "100%|██████████| 32/32 [00:10<00:00,  2.97it/s]\n",
      " 97%|█████████▋| 31/32 [00:05<00:00,  5.19it/s]\n",
      "  2%|▏         | 3/127 [00:42<29:01, 14.04s/it]\n"
     ]
    },
    {
     "ename": "KeyboardInterrupt",
     "evalue": "",
     "output_type": "error",
     "traceback": [
      "\u001b[1;31m---------------------------------------------------------------------------\u001b[0m",
      "\u001b[1;31mKeyboardInterrupt\u001b[0m                         Traceback (most recent call last)",
      "Cell \u001b[1;32mIn[114], line 48\u001b[0m\n\u001b[0;32m     46\u001b[0m \t\u001b[38;5;28;01mreturn\u001b[39;00m \u001b[38;5;28;01mTrue\u001b[39;00m\n\u001b[0;32m     47\u001b[0m display(df)\n\u001b[1;32m---> 48\u001b[0m BC4((\u001b[38;5;241m1\u001b[39m,\u001b[38;5;241m4\u001b[39m), ({\u001b[38;5;124m\"\u001b[39m\u001b[38;5;124mLogique\u001b[39m\u001b[38;5;124m\"\u001b[39m:\u001b[38;5;124m\"\u001b[39m\u001b[38;5;124m1\u001b[39m\u001b[38;5;124m\"\u001b[39m}, {\u001b[38;5;124m\"\u001b[39m\u001b[38;5;124mLogique\u001b[39m\u001b[38;5;124m\"\u001b[39m:\u001b[38;5;124m\"\u001b[39m\u001b[38;5;124m0\u001b[39m\u001b[38;5;124m\"\u001b[39m}), (\u001b[38;5;124m'\u001b[39m\u001b[38;5;124mA\u001b[39m\u001b[38;5;124m'\u001b[39m, \u001b[38;5;124m'\u001b[39m\u001b[38;5;124mR\u001b[39m\u001b[38;5;124m'\u001b[39m))\n",
      "Cell \u001b[1;32mIn[114], line 43\u001b[0m, in \u001b[0;36mBC4\u001b[1;34m(N_candidats, X, decisions, df, model)\u001b[0m\n\u001b[0;32m     40\u001b[0m \t\tX2_eval\u001b[38;5;241m.\u001b[39mupdate({v: candidat2\u001b[38;5;241m.\u001b[39miloc[\u001b[38;5;241m0\u001b[39m, candidat2\u001b[38;5;241m.\u001b[39mcolumns\u001b[38;5;241m.\u001b[39mget_loc(v)]})\n\u001b[0;32m     41\u001b[0m \tX_eval\u001b[38;5;241m=\u001b[39m(X1_eval,X2_eval)\n\u001b[1;32m---> 43\u001b[0m \t\u001b[38;5;28;01mif\u001b[39;00m (BCi1_3(N_candidats, X_eval, decisions, df)):\n\u001b[0;32m     44\u001b[0m \t\t\u001b[38;5;28;01mreturn\u001b[39;00m \u001b[38;5;28;01mFalse\u001b[39;00m \u001b[38;5;66;03m# Retourner False car on aurait trouvé un superset qui verifie tous les BC1-3\u001b[39;00m\n\u001b[0;32m     46\u001b[0m \u001b[38;5;28;01mreturn\u001b[39;00m \u001b[38;5;28;01mTrue\u001b[39;00m\n",
      "Cell \u001b[1;32mIn[114], line 7\u001b[0m, in \u001b[0;36mBC4.<locals>.BCi1_3\u001b[1;34m(N_candidats, X, decisions, df)\u001b[0m\n\u001b[0;32m      6\u001b[0m \u001b[38;5;28;01mdef\u001b[39;00m \u001b[38;5;21mBCi1_3\u001b[39m(N_candidats, X, decisions, df\u001b[38;5;241m=\u001b[39mdf):\n\u001b[1;32m----> 7\u001b[0m \t\u001b[38;5;28;01mreturn\u001b[39;00m BC1(N_candidats[\u001b[38;5;241m0\u001b[39m], X[\u001b[38;5;241m0\u001b[39m], decisions[\u001b[38;5;241m0\u001b[39m], df) \u001b[38;5;129;01mand\u001b[39;00m BC1(N_candidats[\u001b[38;5;241m1\u001b[39m], X[\u001b[38;5;241m1\u001b[39m], decisions[\u001b[38;5;241m1\u001b[39m], df) \u001b[38;5;129;01mand\u001b[39;00m BC3(X, df)\n",
      "Cell \u001b[1;32mIn[104], line 20\u001b[0m, in \u001b[0;36mBC1\u001b[1;34m(N, X, decision, df, model)\u001b[0m\n\u001b[0;32m     17\u001b[0m supersets \u001b[38;5;241m=\u001b[39m generate_supersets(N, X, V, df)\n\u001b[0;32m     18\u001b[0m \u001b[38;5;28;01mfor\u001b[39;00m superset \u001b[38;5;129;01min\u001b[39;00m tqdm(supersets):\n\u001b[0;32m     19\u001b[0m \t\u001b[38;5;66;03m#print(\"\\n\",superset)\u001b[39;00m\n\u001b[1;32m---> 20\u001b[0m \t\u001b[38;5;28;01mif\u001b[39;00m (model\u001b[38;5;241m.\u001b[39mAC1(N, superset, decision) \u001b[38;5;129;01mand\u001b[39;00m model\u001b[38;5;241m.\u001b[39mAC2(N, superset, decision) \u001b[38;5;129;01mand\u001b[39;00m model\u001b[38;5;241m.\u001b[39mAC3(N, superset, decision)):\n\u001b[0;32m     21\u001b[0m \t\t\u001b[38;5;28mprint\u001b[39m(\u001b[38;5;124mf\u001b[39m\u001b[38;5;124m\"\u001b[39m\u001b[38;5;124mLa actual cause est: \u001b[39m\u001b[38;5;132;01m{\u001b[39;00msuperset\u001b[38;5;132;01m}\u001b[39;00m\u001b[38;5;124m \u001b[39m\u001b[38;5;130;01m\\n\u001b[39;00m\u001b[38;5;124m\"\u001b[39m)\n\u001b[0;32m     22\u001b[0m \t\t\u001b[38;5;28;01mreturn\u001b[39;00m \u001b[38;5;28;01mTrue\u001b[39;00m\n",
      "Cell \u001b[1;32mIn[3], line 97\u001b[0m, in \u001b[0;36mBifact.AC2\u001b[1;34m(self, id, X, y, verbose)\u001b[0m\n\u001b[0;32m     94\u001b[0m \t\u001b[38;5;66;03m# Exclure la combinaison identique à X\u001b[39;00m\n\u001b[0;32m     95\u001b[0m \t\u001b[38;5;28;01mreturn\u001b[39;00m [combination \u001b[38;5;28;01mfor\u001b[39;00m combination \u001b[38;5;129;01min\u001b[39;00m combinations \u001b[38;5;28;01mif\u001b[39;00m combination \u001b[38;5;241m!=\u001b[39m \u001b[38;5;28mtuple\u001b[39m(X\u001b[38;5;241m.\u001b[39mvalues())]\n\u001b[1;32m---> 97\u001b[0m combinations \u001b[38;5;241m=\u001b[39m generate_combinations(X, variable_domains)\n\u001b[0;32m     99\u001b[0m \u001b[38;5;66;03m# Vérifier chaque combinaison\u001b[39;00m\n\u001b[0;32m    100\u001b[0m \u001b[38;5;28;01mfor\u001b[39;00m combination \u001b[38;5;129;01min\u001b[39;00m combinations:\n",
      "Cell \u001b[1;32mIn[3], line 95\u001b[0m, in \u001b[0;36mBifact.AC2.<locals>.generate_combinations\u001b[1;34m(X, variable_domains)\u001b[0m\n\u001b[0;32m     92\u001b[0m combinations \u001b[38;5;241m=\u001b[39m product(\u001b[38;5;241m*\u001b[39m[variable_domains[var] \u001b[38;5;28;01mfor\u001b[39;00m var \u001b[38;5;129;01min\u001b[39;00m X \u001b[38;5;28;01mif\u001b[39;00m var \u001b[38;5;241m!=\u001b[39m \u001b[38;5;124m'\u001b[39m\u001b[38;5;124my\u001b[39m\u001b[38;5;124m'\u001b[39m])\n\u001b[0;32m     94\u001b[0m \u001b[38;5;66;03m# Exclure la combinaison identique à X\u001b[39;00m\n\u001b[1;32m---> 95\u001b[0m \u001b[38;5;28;01mreturn\u001b[39;00m [combination \u001b[38;5;28;01mfor\u001b[39;00m combination \u001b[38;5;129;01min\u001b[39;00m combinations \u001b[38;5;28;01mif\u001b[39;00m combination \u001b[38;5;241m!=\u001b[39m \u001b[38;5;28mtuple\u001b[39m(X\u001b[38;5;241m.\u001b[39mvalues())]\n",
      "Cell \u001b[1;32mIn[3], line 95\u001b[0m, in \u001b[0;36m<listcomp>\u001b[1;34m(.0)\u001b[0m\n\u001b[0;32m     92\u001b[0m combinations \u001b[38;5;241m=\u001b[39m product(\u001b[38;5;241m*\u001b[39m[variable_domains[var] \u001b[38;5;28;01mfor\u001b[39;00m var \u001b[38;5;129;01min\u001b[39;00m X \u001b[38;5;28;01mif\u001b[39;00m var \u001b[38;5;241m!=\u001b[39m \u001b[38;5;124m'\u001b[39m\u001b[38;5;124my\u001b[39m\u001b[38;5;124m'\u001b[39m])\n\u001b[0;32m     94\u001b[0m \u001b[38;5;66;03m# Exclure la combinaison identique à X\u001b[39;00m\n\u001b[1;32m---> 95\u001b[0m \u001b[38;5;28;01mreturn\u001b[39;00m [combination \u001b[38;5;28;01mfor\u001b[39;00m combination \u001b[38;5;129;01min\u001b[39;00m combinations \u001b[38;5;28;01mif\u001b[39;00m combination \u001b[38;5;241m!=\u001b[39m \u001b[38;5;28mtuple\u001b[39m(X\u001b[38;5;241m.\u001b[39mvalues())]\n",
      "\u001b[1;31mKeyboardInterrupt\u001b[0m: "
     ]
    }
   ],
   "source": [
    "def BC3(X,df=df):\n",
    "  print(set(X[0].keys()) == set(X[1].keys()),(set(X[0].items()) & set(X[1].items())))\n",
    "  return set(X[0].keys()) == set(X[1].keys()) and (set(X[0].items()) & set(X[1].items())) == set()\n",
    "\n",
    "def BC4(N_candidats, X, decisions, df=df, model=model):\n",
    "\tdef BCi1_3(N_candidats, X, decisions, df=df):\n",
    "\t\treturn BC1(N_candidats[0], X[0], decisions[0], df) and BC1(N_candidats[1], X[1], decisions[1], df) and BC3(X, df)\n",
    "\n",
    "\t# S'assurer que X verifie tous les Bci1-3\n",
    "\tif not BCi1_3(N_candidats, X, decisions, df):\n",
    "\t\treturn False\n",
    "\n",
    "\tcandidat1=df[df.id==N_candidats[0]].copy()\n",
    "\tcandidat2=df[df.id==N_candidats[1]].copy()\n",
    "\tX1=X[0]\n",
    "\tX2=X[1]\n",
    "\tX_var1=list(X1.keys())\n",
    "\tX_var2=list(X2.keys())\n",
    "\n",
    "\tV_var=list(candidat1.columns)[1:-1] # Prendre toutes les variables qui décrivent un candidat1 sauf N_candidat et Décision\n",
    "\n",
    "\tif X_var1 != X_var2 : # les deux candidats doivent etre testés sur les memes attributs (X)\n",
    "\t\treturn False\n",
    "\n",
    "\tX_var=X_var1\n",
    "\tV_minus_X_var=[var for var in V_var if not var in X_var]\n",
    "\n",
    "\t# Trouver toutes les combinaisons possibles de longueur 1 à la longueur de la liste\n",
    "\tall_combinaisons_var = []\n",
    "\n",
    "\tfor nb_var in range(1, len(V_minus_X_var) + 1):\n",
    "\t\t\tall_combinaisons_var.extend(combinations(V_minus_X_var, nb_var))\n",
    "\n",
    "\tfor var in tqdm(all_combinaisons_var):\n",
    "\t\t# Remise à l'état initial des sur-ensemble de X1 et X2\n",
    "\t\tX1_eval=X1.copy()\n",
    "\t\tX2_eval=X2.copy()\n",
    "\t\tfor v in var:\n",
    "\t\t\tX1_eval.update({v: candidat1.iloc[0, candidat1.columns.get_loc(v)]})\n",
    "\t\t\tX2_eval.update({v: candidat2.iloc[0, candidat2.columns.get_loc(v)]})\n",
    "\t\tX_eval=(X1_eval,X2_eval)\n",
    "\t\n",
    "\t\tif (BCi1_3(N_candidats, X_eval, decisions, df)):\n",
    "\t\t\treturn False # Retourner False car on aurait trouvé un superset qui verifie tous les BC1-3\n",
    "\n",
    "\treturn True\n",
    "display(df)\n",
    "BC4((1,4), ({\"Logique\":\"1\"}, {\"Logique\":\"0\"}), ('A', 'R')) # Crash : RAM insuffisante"
   ]
  },
  {
   "cell_type": "code",
   "execution_count": null,
   "metadata": {},
   "outputs": [],
   "source": []
  }
 ],
 "metadata": {
  "kernelspec": {
   "display_name": "base",
   "language": "python",
   "name": "python3"
  },
  "language_info": {
   "codemirror_mode": {
    "name": "ipython",
    "version": 3
   },
   "file_extension": ".py",
   "mimetype": "text/x-python",
   "name": "python",
   "nbconvert_exporter": "python",
   "pygments_lexer": "ipython3",
   "version": "3.11.5"
  }
 },
 "nbformat": 4,
 "nbformat_minor": 2
}
