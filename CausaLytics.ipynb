{
 "cells": [
  {
   "cell_type": "code",
   "execution_count": 6,
   "metadata": {},
   "outputs": [],
   "source": [
    "import pandas as pd\n",
    "import numpy as np\n",
    "import random \n",
    "from itertools import product, combinations\n",
    "import copy\n",
    "from tqdm import tqdm\n",
    "from sklearn.cluster import KMeans\n",
    "from sklearn.metrics import silhouette_score\n",
    "import ast"
   ]
  },
  {
   "cell_type": "markdown",
   "metadata": {},
   "source": [
    "# 1. La conception du modèle"
   ]
  },
  {
   "cell_type": "code",
   "execution_count": 8,
   "metadata": {},
   "outputs": [],
   "source": [
    "class Data:\n",
    "\tdef __init__(self, variable_data, N, f, mydata=None, mydomains=None,verbose=False):\n",
    "\t\tif mydata is None:\n",
    "\t\t\tself.data = pd.DataFrame(self.generate_random_data(variable_data, N))\n",
    "\t\telse:\n",
    "\t\t\tself.data = mydata\n",
    "\t\tif mydomains is None:\n",
    "\t\t\tself.domains = self.extract_domains(variable_data)\n",
    "\t\telse:\n",
    "\t\t\tself.domains = mydomains\n",
    "\t\tself.data['y'] = self.data.apply(lambda row: f(*row[1:-1]), axis=1)\n",
    "\t\tself.f = f\n",
    "\t\tif verbose:\n",
    "\t\t\tprint(\"Données récupérées avec succés !\")\n",
    "\n",
    "\tdef generate_random_data(self, variable_data, N=10):\n",
    "\t\tdata = {}\n",
    "\t\tdata['id'] = range(N)\n",
    "\t\t\n",
    "\t\tfor i, variable in enumerate(variable_data):\n",
    "\t\t\tname = variable['name']\n",
    "\t\t\tvar_type = variable['type']\n",
    "\t\t\tstep = int(variable['step']) if variable['step'] else 0\n",
    "\n",
    "\t\t\tif var_type == 'boolean':\n",
    "\t\t\t\tdata[name] = [random.choice([False, True, True]) for _ in range(N)]\n",
    "\t\t\telse:\n",
    "\t\t\t\tif var_type=='int':\n",
    "\t\t\t\t\tmin_value = int(variable['min'])\n",
    "\t\t\t\t\tmax_value = int(variable['max'])\n",
    "\t\t\t\t\tmean = np.random.uniform(((5*min_value+3*max_value)/8)*1.2, ((3*min_value+5*max_value)/8)*1.2)\n",
    "\t\t\t\t\tstd = np.random.uniform((max_value-min_value)/15, (max_value-min_value)/5)\n",
    "\t\t\t\t\tdata[name]  = np.random.normal(mean, std, N).astype(int)\n",
    "\t\t\t\telif var_type == 'float':\n",
    "\t\t\t\t\tmin_value = float(variable['min'])\n",
    "\t\t\t\t\tmax_value = float(variable['max'])\n",
    "\t\t\t\t\tmean = np.random.uniform((3*min_value+max_value)/4, (min_value+3*max_value)/4)\n",
    "\t\t\t\t\tstd = np.random.uniform((max_value-min_value)/100, (max_value-min_value)/5)\n",
    "\t\t\t\t\tdata[name] = np.random.normal(mean, std, N).round(step).astype(float)\n",
    "\t\n",
    "\t\tdata['y'] = [None for _ in range(N)]\n",
    "\t\tdf = pd.DataFrame(data)\n",
    "\t\treturn df\n",
    "\t\n",
    "\tdef extract_domains(self, variable_data):\n",
    "\t\tdomains = {}\n",
    "\t\tfor variable in variable_data:\n",
    "\t\t\tname = variable['name']\n",
    "\t\t\tvar_type = variable['type']\n",
    "\t\t\tif var_type == 'boolean':\n",
    "\t\t\t\tdomains[name] = [True, False]\n",
    "\t\t\telse:\n",
    "\t\t\t\tif var_type == 'int':\n",
    "\t\t\t\t\tmin_value = int(variable['min'])\n",
    "\t\t\t\t\tmax_value = int(variable['max'])\n",
    "\t\t\t\t\tdomains[name] = list(range(min_value, max_value+1))\n",
    "\t\t\t\telif var_type == 'float':\n",
    "\t\t\t\t\tmin_value = float(variable['min'])\n",
    "\t\t\t\t\tmax_value = float(variable['max'])\n",
    "\t\t\t\t\tstep = int(variable['step'])\n",
    "\t\t\t\t\tstep_value = 10** -step  # Define your step value here\n",
    "\t\t\t\t\tdomains[name] = np.arange(min_value, max_value, step_value).tolist()\n",
    "\t\treturn domains\n",
    "\n",
    "\tdef get_values(self, id1, id2=None, X=[]):\n",
    "\t\tif id2 is None:\n",
    "\t\t\tif X == [] or X == self.data.keys():\n",
    "\t\t\t\treturn self.data[self.data.id == id1]  # retourner toutes les valeurs\n",
    "\t\t\telse:\n",
    "\t\t\t\treturn self.data[self.data.id == id1][X].to_dict()  # retourner les valeurs selectionnées\n",
    "\n",
    "\t\telse:\n",
    "\t\t\tif X == [] or X == self.data.keys():\n",
    "\t\t\t\treturn self.data[self.data.id == id1], self.data[self.data.id == id2]  # retourner toutes les valeurs\n",
    "\t\t\telse:\n",
    "\t\t\t\treturn self.data[self.data.id == id1][X].to_dict(), self.data[self.data.id == id2][X].to_dict()\n",
    "\n",
    "\tdef V(self):\n",
    "\t\treturn self.domains.keys()\n",
    "\n",
    "\tdef save(self, file = 'data/data.csv'):\n",
    "\t\tself.data.to_csv(file, index=False)\n",
    "\n",
    "\tdef load(self, file = 'data/data.csv'):\n",
    "\t\tself.data = pd.read_csv(file)\n",
    "\t\tself.domains = get_domains(self.data)\n"
   ]
  },
  {
   "cell_type": "code",
   "execution_count": 10,
   "metadata": {},
   "outputs": [],
   "source": [
    "class Bifact:\n",
    "\tdef __init__(self, data):\n",
    "\t\tself.data = data\n",
    "\t\n",
    "\tdef AC1(self, id, X, y,verbose=False):\n",
    "\t#ligne existe, la décision est bonne et toutes les variables de X ont les bonnes valeurs aussi\n",
    "\t\tif verbose:\n",
    "\t\t\tprint(f\"Verification de AC1 pour la ligne dont l'id est {id}...\")\n",
    "\t\tdf = self.data.data\n",
    "\t\tligne = df[df.id == id].copy()\n",
    "\t\treturn len(ligne) == 1 and  ligne.y.iloc[0] == y #and all((str(ligne.loc[:, [a]].iloc[0, 0]) == str(X[a])) for a in X) \n",
    "\t\t# pas besoin de l'autre partie du moment les X sont retirés de la table par l'ordinateur.\n",
    "\n",
    "\tdef AC23(self, id, X, y,verbose=False):\n",
    "\t\t#display(\"--------------------Appel de la AC23\")\n",
    "\t\tif verbose:\n",
    "\t\t\tprint(f\"Verification de AC2 et AC3 pour la ligne dont l'id est {id}...\")\n",
    "\t\tdf=self.data.data\n",
    "\t\tligne=df[df.id==id].copy()\n",
    "\t\tif (len(ligne)==0):\n",
    "\t\t\treturn False\n",
    "\t\tvals=ligne.iloc[0].to_dict()\n",
    "\t\tX_var=list(X.keys())\n",
    "\n",
    "\t\tvariable_domains = self.data.domains\n",
    "\n",
    "\t\tdef subdict_combinations(dictionary):\n",
    "\t\t\tif not dictionary:\n",
    "\t\t\t\treturn [{}]\n",
    "\n",
    "\t\t\tkey = next(iter(dictionary))\n",
    "\t\t\trest = dictionary.copy()\n",
    "\t\t\tdel rest[key]\n",
    "\n",
    "\t\t\tsubcombos = subdict_combinations(rest)\n",
    "\t\t\tresult = []\n",
    "\t\t\tfor subcombo in subcombos:\n",
    "\t\t\t\tresult.append(subcombo)\n",
    "\t\t\t\twith_key = {key: dictionary[key]}\n",
    "\t\t\t\tresult.append({**with_key, **subcombo})\n",
    "\t\t\treturn result\n",
    "\n",
    "\t\tdef generate_combinations(X, variable_domains):\n",
    "\t\t\t# Générer toutes les combinaisons possibles de valeurs pour les clés de X_var\n",
    "\t\t\tcombinations = product(*[variable_domains[var] for var in X if var != 'y'])\n",
    "\n",
    "\t\t\t# Exclure la combinaison identique à X\n",
    "\t\t\treturn [combination for combination in combinations if combination != tuple(X.values())]\n",
    "\n",
    "\t\tcombinations = generate_combinations(X, variable_domains)\n",
    "\n",
    "\t\tsub=subdict_combinations(X)\n",
    "\t\tfor subX in sub:\n",
    "\t\t\tif len(subX):\n",
    "\t\t\t\tX_var=list(subX.keys())\n",
    "\t\t\t\tvals=ligne.iloc[0].to_dict()\n",
    "\t\t\t\tcombinations = generate_combinations(subX, variable_domains)\n",
    "\t\t\t\t# Vérifier chaque combinaison\n",
    "\t\t\t\tfor combination in combinations:\n",
    "\t\t\t\t\tx_prime = dict(zip(X_var, combination))\n",
    "\t\t\t\t\tfor k in x_prime.keys():\n",
    "\t\t\t\t\t\tvals[k]=x_prime[k]\n",
    "\t\t\t\t\targs = {k: v for k, v in vals.items() if k in self.data.V()}\n",
    "\t\t\t\t\tyhat=self.data.f(*args.values())\n",
    "\t\t\t\t\tif yhat!=y and len(x_prime)==len(X):\n",
    "\t\t\t\t\t\tif verbose:\n",
    "\t\t\t\t\t\t\tprint(\"ID= \", id, \" AC2 et AC3 sont vérifiées pour une affectation x_prime:\",x_prime, \" la decision devient :\", yhat)\n",
    "\t\t\t\t\t\treturn True\n",
    "\t\t\t\t\telif yhat!=y:\n",
    "\t\t\t\t\t\tif verbose:\n",
    "\t\t\t\t\t\t\tprint(\"ID= \", id, \" Erreur :AC3 n'est pas vérifiée car il existe une affectation x_prime :\", x_prime, \" pour laquelle la decision change à :\", yhat)\n",
    "\t\t\t\t\t\treturn False\n",
    "\n",
    "\t\tif verbose:\n",
    "\t\t\tprint(\"ID= \", id, \" Erreur : AC2 n'est pas vérifiée, veuillez saisir un superset de l'ensemble des variables sélectionnées\")\n",
    "\t\treturn False\n",
    "\t\t#ca ameliore les cas où AC3 n'est pas vérifié tout en ayant une meme complexité dans le cas où AC2 et AC3 sont verifiés\n",
    "\t\n",
    "\tdef AC2(self, id, X, y,verbose=False):\n",
    "\t\t#display(\"--------------------Appel de la AC2\")\n",
    "\t\tligne=self.data.data[self.data.data.id==id].copy()\n",
    "\t\tif (len(ligne)==0):\n",
    "\t\t\treturn False\n",
    "\t\tvals=ligne.iloc[0].to_dict()\n",
    "\t\tX_var=list(X.keys())\n",
    "\n",
    "\t\t#W=list(set(candidat.columns)-set(X_var)) #optionnel\n",
    "\n",
    "\t\tvariable_domains = self.data.domains\n",
    "\t\tdef generate_combinations(X, variable_domains):\n",
    "\t\t\t# Générer toutes les combinaisons possibles de valeurs pour les clés de X_var\n",
    "\t\t\tcombinations = product(*[variable_domains[var] for var in X if var != 'y'])\n",
    "\n",
    "\t\t\t# Exclure la combinaison identique à X\n",
    "\t\t\treturn [combination for combination in combinations if combination != tuple(X.values())]\n",
    "\n",
    "\t\tcombinations = generate_combinations(X, variable_domains)\n",
    "\n",
    "\t\t# Vérifier chaque combinaison\n",
    "\t\tfor combination in combinations:\n",
    "\t\t\tx_prime = dict(zip(X_var, combination))\n",
    "\t\t\tfor k in x_prime.keys():\n",
    "\t\t\t\tvals[k]=x_prime[k]\n",
    "\t\t\targs = {k: v for k, v in vals.items() if k in self.data.V()}\n",
    "\t\t\tyhat=self.data.f(*args.values())\n",
    "\t\t\tif yhat!=y:\n",
    "\t\t\t\tif verbose: print(f\"AC2 est vérifiée pour une affectation x_prime: {x_prime}\")\n",
    "\t\t\t\treturn True\n",
    "\n",
    "\t\tif verbose: print(f\"AC2 n'est pas vérifiée pour une affectation x_prime: {x_prime}\")\n",
    "\t\treturn False\n",
    "\n",
    "\tdef AC3(self, id, X, y,verbose=False):\n",
    "\t\tif verbose: print(\"Verification de AC3...\")\n",
    "\t\tkeys = list(X.keys())\n",
    "\t\tsubsets = [dict(zip(combination, (X[key] for key in combination))) for r in range(1, len(keys)) for combination in combinations(keys, r)]\n",
    "\t\treturn all(not self.AC1(id, subset, y,verbose=verbose) or not self.AC2(id, subset, y,verbose=verbose) for subset in subsets)\n",
    "\n",
    "\tdef BC1_2_beta2(self, id, X, y, var_notAC_candidat=set(),verbose=False):\n",
    "\t\tif verbose: print(\"Verification de BC1_2...\")\n",
    "\t\tdef generate_supersets(id, X):\n",
    "\t\t\tligne = self.data.data[self.data.data['id']==id]\n",
    "\t\t\tV_sauf_X=[var for var in self.data.V() if not var in X.keys()]\n",
    "\t\t\tsupersets = [X]\n",
    "\t\t\tfor var in V_sauf_X:\n",
    "\t\t\t\tvaleur = ligne[var].iloc[0]\n",
    "\t\t\t\tcopie = copy.deepcopy(supersets)\n",
    "\t\t\t\tfor dictio in copie:\n",
    "\t\t\t\t\tdictio[var]= valeur\n",
    "\t\t\t\tsupersets =supersets + copie\n",
    "\t\t\tunique_dicts = {tuple(sorted(d.items())) for d in supersets}\n",
    "\t\t\tunique_list_of_dicts = [dict(item) for item in unique_dicts]\n",
    "\t\t\treturn sorted(unique_list_of_dicts, key=lambda x:len(x))\n",
    "\n",
    "\t\t# verifier que X peut etre une cause partielle\n",
    "\t\tac1 = self.AC1(id, X, y)\n",
    "\t\tif not ac1:\n",
    "\t\t\treturn False, var_notAC_candidat\n",
    "\t\tac2 , ac3= self.AC2(id, X, y), self.AC3(id, X, y)\n",
    "\t\tif ac2 and not ac3: # AC1 et AC2 sont vérifiés et AC3 ne l'est pas --> il existe un sous enesemble de X qui verifie une actual cause donc X ne peut pas etre une partial cause\n",
    "\t\t\treturn False, var_notAC_candidat\n",
    "\t\tif ac2 and ac3: # si X est une actual cause alors c'est une partial cause\n",
    "\t\t\treturn True, var_notAC_candidat\n",
    "\n",
    "\t\t# Créer une structure de données pour enregistrer tous les supersets testés afin d'éviter\n",
    "\t\tsupersets = generate_supersets(id, X)[1:] \n",
    "\t\tif verbose: print(\"id : \",id)\n",
    "\t\tfor superset in tqdm(supersets):\n",
    "\t\t\tif tuple(superset.keys()) in var_notAC_candidat: # ignorer tous les supersets (passés en entrée) qui ne verifient pas les ACi\n",
    "\t\t\t\tcontinue\n",
    "\n",
    "\t\t\tif not self.AC1(id, superset,y,verbose=verbose):\n",
    "\t\t\t\treturn False, var_notAC_candidat\n",
    "\t\t\tif  self.AC23(id, superset,y,verbose=verbose):\n",
    "\t\t\t\tif verbose: print(f\"La actual cause est: {superset} \\n\")\n",
    "\t\t\t\treturn True, var_notAC_candidat\n",
    "\n",
    "\t\t\tvar_notAC_candidat.add(tuple(superset.keys())) # Enregistrer tous les supersets qui ne verifient pas les ACi\n",
    "\n",
    "\t\treturn False, var_notAC_candidat\n",
    "\n",
    "\tdef BC1_4(self, id1, id2, X, y,verbose=False):\n",
    "\t\tif verbose: print(\"Verification de BC4...\")\n",
    "\t\tligne1=self.data.data[self.data.data.id==id1]\n",
    "\t\tligne2=self.data.data[self.data.data.id==id2]\n",
    "\t\tif verbose: display(ligne1,ligne2)\n",
    "\n",
    "\t\t# Vérifier que X1 de candidat1 et X2 de candidat2 sont testés sur les memes variables (si ce n'est pas vérifié alors BC3 échoue)\n",
    "\t\tif X[0].keys()!=X[1].keys():\n",
    "\t\t\tif verbose: print(f\"Les variables prises pour la ligne {id1}: {X[0].keys()} ne correspondent pas aux variables prises pour la ligne {id2}:{X[1].keys()}\")\n",
    "\t\t\treturn False\n",
    "\n",
    "\t\tVmax=[]\n",
    "\t\t# Générer Vmax : la liste des attributs distincts entre candidat1 et candidat2\n",
    "\t\tfor col in ligne1.columns[1:-1]:\n",
    "\t\t\tif ligne1.loc[:,[col]].iloc[0,0]!=ligne2.loc[:,[col]].iloc[0,0]:\n",
    "\t\t\t\tVmax.append(col)\n",
    "\n",
    "\t\t# Vérifier si X est inclu dans Vmax (si ce n'est pas vérifié alors BC3 échoue)\n",
    "\t\tX_var=[ var for var in X[0]]\n",
    "\t\tif not set(X_var).issubset(set(Vmax)):\n",
    "\t\t\tif verbose: print(f\"BC3 n'est pas vérifié, pas besoin de verifier BC4\")\n",
    "\t\t\treturn False\n",
    "\n",
    "\t\t# Trouver toutes les combinaisons possibles de longueur 1 à la longueur de la liste\n",
    "\t\tall_combinaisons_var = []\n",
    "\n",
    "\t\tfor nb_var in range(1, len(Vmax) + 1):\n",
    "\t\t\tall_combinaisons_var.extend(combinations(Vmax, nb_var))\n",
    "\n",
    "\t\tall_combinaisons_var_reversed=all_combinaisons_var[::-1]\n",
    "\n",
    "\t\tvar_notAC_candidat1=set()\n",
    "\t\tvar_notAC_candidat2=set()\n",
    "\n",
    "\t\t# Verifier si cet element est partial cause\n",
    "\t\tfor combinaison in tqdm(all_combinaisons_var_reversed):\n",
    "\n",
    "\t\t\tif not set(X_var).issubset(combinaison) : # On en veut évaluer que les supersets de X\n",
    "\t\t\t\tcontinue\n",
    "\n",
    "\t\t\tdict_candidat1=ligne1.loc[:,combinaison].iloc[0].to_dict()\n",
    "\t\t\tdict_candidat2=ligne2.loc[:,combinaison].iloc[0].to_dict()\n",
    "\t\t\tBC1_2_beta_bool1, var_notAC_candidat1=self.BC1_2_beta2(id1, dict_candidat1, y[0],var_notAC_candidat1,verbose=verbose)\n",
    "\t\t\tif not (BC1_2_beta_bool1):\n",
    "\t\t\t\tcontinue\n",
    "\n",
    "\t\t\tBC1_2_beta_bool2, var_notAC_candidat2=self.BC1_2_beta2(id2, dict_candidat2, y[1], var_notAC_candidat2,verbose=verbose)\n",
    "\t\t\tif not BC1_2_beta_bool2:\n",
    "\t\t\t\tcontinue\n",
    "\n",
    "\n",
    "\t\t\t# Verifier la BC4\n",
    "\t\t\tif len(set(X_var)) < len(combinaison):  # BC4 n'est pas vérifiée car nous avons trouver un superset qui verifie BC1_3\n",
    "\t\t\t\tif verbose: print(f\"BC4 n'est pas vérifiée car nous avons trouver un superset {combinaison} qui verifie les BC1_2 et BC3\")\n",
    "\t\t\t\treturn False\n",
    "\n",
    "\t\t\telse : # len(X_var)==len(combinaison)\n",
    "\t\t\t\tif verbose: print(f\"BC4 est vérifée pour les causes bifactuelles {X}\")\n",
    "\t\t\t\treturn True\n",
    "\n",
    "\t\tif verbose: print(f\"Les BC1_2 et BC3 ne sont pas vérifiées. {X[0].keys()} ne peut etre une cause bifactuelle\")\n",
    "\t\treturn False # Cas ou c'est un sous ensemble de X_var qui vérifie BC1_4\n",
    "\t\t\n",
    "\tdef find_cause(self, id1, id2,verbose=False):\n",
    "\t\tres=[]\n",
    "\t\tif verbose: print(\"Recherche des causes bifactuelles pour les lignes {id1} et {id2}\")\n",
    "\t\tligne1=self.data.data[self.data.data.id==id1]\n",
    "\t\tligne2=self.data.data[self.data.data.id==id2]\n",
    "\n",
    "\t\tVmax=[]\n",
    "\t\t# Générer Vmax : la liste des attributs distincts entre candidat1 et candidat2\n",
    "\t\tfor col in ligne1.columns[1:-1]:\n",
    "\t\t\tif ligne1.loc[:,[col]].iloc[0,0]!=ligne2.loc[:,[col]].iloc[0,0]:\n",
    "\t\t\t\tVmax.append(col)\n",
    "\n",
    "\t\t# Trouver toutes les combinaisons possibles de longueur 1 à la longueur de la liste Vmax_diff\n",
    "\t\tall_combinaisons_var = []\n",
    "\n",
    "\t\tfor nb_var in range(1, len(Vmax) + 1):\n",
    "\t\t\tall_combinaisons_var.extend(combinations(Vmax, nb_var))\n",
    "\n",
    "\t\tall_combinaisons_var_reversed=all_combinaisons_var[::-1]\n",
    "\n",
    "\t\tvar_notAC_candidat1=set()\n",
    "\t\tvar_notAC_candidat2=set()\n",
    "\n",
    "\t\tfor combinaison in tqdm(all_combinaisons_var_reversed):\n",
    "\t\t# Verifier si cet element est partial cause\n",
    "\t\t\tif verbose: print(\"Exploration de : \",combinaison)\n",
    "\t\t\tfound_in_res = False\n",
    "\t\t\tfor el in res: #critere maximalité: un sur ensemble de cet element est deja une bifactual cause, celui là ne peut l'etre\n",
    "\t\t\t\tif set(combinaison).issubset(set(el)): found_in_res = True\n",
    "\t\t\tif found_in_res:\n",
    "\t\t\t\tcontinue\n",
    "\t\t\tdict_candidat1=ligne1.loc[:,combinaison].iloc[0].to_dict()\n",
    "\t\t\tdict_candidat2=ligne2.loc[:,combinaison].iloc[0].to_dict()\n",
    "\t\t\ty=(ligne1['y'].values[0],ligne2['y'].values[0])\n",
    "\n",
    "\t\t\tBC1_2_beta_bool1, var_notAC_candidat1=self.BC1_2_beta2(id1, dict_candidat1, y[0], var_notAC_candidat1,verbose=verbose)\n",
    "\t\t\tif not (BC1_2_beta_bool1):\n",
    "\t\t\t\tcontinue\n",
    "\n",
    "\t\t\tBC1_2_beta_bool2, var_notAC_candidat2=self.BC1_2_beta2(id2, dict_candidat2, y[1], var_notAC_candidat2,verbose=verbose)\n",
    "\t\t\tif not BC1_2_beta_bool2:\n",
    "\t\t\t\tcontinue\n",
    "\t\t\telse : \n",
    "\t\t\t\tif verbose: print(f\"Une bifactual cause a été trouvée: {combinaison}\")\n",
    "\t\t\t\tres.append(combinaison)\n",
    "\n",
    "\t\treturn res\n",
    "\t\t\n",
    "\tdef BC(self, id1, id2, X, y,verbose=False):\n",
    "\t\treturn self.BC1_2_beta2(id1, X[0], y[0],verbose=verbose) and self.BC1_2_beta2(id2, X[1], y[1],verbose=verbose) and self.BC1_4(id1, id2, X, y,verbose=verbose)"
   ]
  },
  {
   "cell_type": "markdown",
   "metadata": {},
   "source": [
    "# 2. L'application avec une GUI simple"
   ]
  },
  {
   "cell_type": "code",
   "execution_count": 5,
   "metadata": {},
   "outputs": [],
   "source": [
    "import tkinter as tk\n",
    "from tkinter import filedialog\n",
    "from tkinter import ttk\n",
    "import numpy as np\n",
    "import pandas as pd\n",
    "\n",
    "WINDOW_WIDTH = 1200\n",
    "WINDOW_HEIGHT = 800\n",
    "\n",
    "variable_entry = None\n",
    "variable_type_var = None\n",
    "min_entry = None\n",
    "max_entry = None\n",
    "step_entry = None\n",
    "variables_tree = None\n",
    "variable_counter = 0  # Counter pour variable names\n",
    "\n",
    "min_label = None\n",
    "max_label = None\n",
    "step_label = None\n",
    "\n",
    "def import_csv():\n",
    "\tfile_path = filedialog.askopenfilename()\n",
    "\tif file_path:\n",
    "\t\tselect_variables_window()\n",
    "\n",
    "def generate_random():\n",
    "\tglobal variable_counter\n",
    "\tvariable_counter = 0\n",
    "\tselect_variables_window()\n",
    "\n",
    "def add_variable():\n",
    "\tglobal variable_entry, variable_type_var, min_entry, max_entry, step_entry, variable_counter, variables_tree\n",
    "\n",
    "\ttoggle_min_max_step_visibility()\n",
    "\tsuggested_name = f\"x{variable_counter + 1}\"  # variables x1, x2, x3 ... par défaut\n",
    "\tvariable_name = variable_entry.get() or suggested_name\n",
    "\tvariable_type = variable_type_var.get()\n",
    "\t\n",
    "\tif variable_type == \"int\":\n",
    "\t\t\tstep_value = get_default_step_value(\"int\")\n",
    "\t\t\tmin_value = min_entry.get() if min_entry.get() else get_default_min_value(variable_type)\n",
    "\t\t\tmax_value = max_entry.get() if max_entry.get() else get_default_max_value(variable_type)\n",
    "\telif variable_type == \"boolean\":\n",
    "\t\t\tstep_value = get_default_step_value(\"boolean\")\n",
    "\t\t\tmin_value = get_default_min_value(\"boolean\")\n",
    "\t\t\tmax_value = get_default_max_value(\"boolean\")\n",
    "\telse:\n",
    "\t\tmin_value = min_entry.get() if min_entry.get() else get_default_min_value(variable_type)\n",
    "\t\tmax_value = max_entry.get() if max_entry.get() else get_default_max_value(variable_type)\n",
    "\t\tstep_value = step_entry.get() if step_entry.get() else get_default_step_value(variable_type)\n",
    "\n",
    "\tif variable_name:\n",
    "\t\tvariable_counter += 1\n",
    "\t\tvariable_entry.delete(0, tk.END)\n",
    "\t\tvariable_entry.insert(0, f\"x{variable_counter + 1}\") \n",
    "\t\tmin_entry.delete(0, tk.END)\n",
    "\t\tmin_entry.insert(0, get_default_min_value(\"int\"))  \n",
    "\t\tmax_entry.delete(0, tk.END)\n",
    "\t\tmax_entry.insert(0, get_default_max_value(\"int\")) \n",
    "\t\tstep_entry.delete(0, tk.END)\n",
    "\t\tstep_entry.insert(0, get_default_step_value(\"int\")) \n",
    "\t\tvariables_tree.insert(\"\", \"end\", values=(variable_name, variable_type, min_value, max_value, step_value))\n",
    "\n",
    "\ttoggle_min_max_step_visibility()\n",
    "\n",
    "def update_variable_type(var_type = variable_type_var):\n",
    "\tglobal variable_type_var\n",
    "\ttoggle_min_max_step_visibility()\n",
    "\tvariable_type_var.set(variable_type_var.get())\n",
    "\n",
    "def select_variables_window():\n",
    "\tglobal variable_entry, variable_type_var, min_entry, max_entry, step_entry, num_rows_entry, variables_tree, variables_window\n",
    "\tglobal min_label, max_label, step_label, next_button, function_var\n",
    "\n",
    "\tvariables_window = tk.Toplevel(root)\n",
    "\tvariables_window.title(\"Select Variables\")\n",
    "\tvariables_window.geometry(f\"{WINDOW_WIDTH}x{WINDOW_HEIGHT}\")\n",
    "\n",
    "\tvariable_label = tk.Label(variables_window, text=\"Variable Name:\")\n",
    "\tvariable_label.grid(row=0, column=0, padx=5, pady=5)\n",
    "\tsuggested_name = f\"x{variable_counter + 1}\" \n",
    "\tvariable_entry = tk.Entry(variables_window)\n",
    "\tvariable_entry.insert(0, suggested_name)  \n",
    "\tvariable_entry.grid(row=0, column=1, padx=5, pady=5)\n",
    "\n",
    "\t# variable type\n",
    "\ttype_label = tk.Label(variables_window, text=\"Variable Type:\")\n",
    "\ttype_label.grid(row=0, column=2, padx=5, pady=5)\n",
    "\tvariable_type_var = tk.StringVar(variables_window)\n",
    "\tvariable_type_var.set(\"int\")  # Default type\n",
    "\ttype_dropdown = tk.OptionMenu(variables_window, variable_type_var, \"int\", \"float\", \"boolean\", command=update_variable_type)\n",
    "\ttype_dropdown.grid(row=0, column=3, padx=5, pady=5)\n",
    "\n",
    "\t#  min value\n",
    "\tmin_label = tk.Label(variables_window, text=\"Min:\")\n",
    "\tmin_label.grid(row=0, column=4, padx=5, pady=5)\n",
    "\tmin_entry = tk.Entry(variables_window)\n",
    "\tmin_entry.grid(row=0, column=5, padx=5, pady=5)\n",
    "\n",
    "\t# max value \n",
    "\tmax_label = tk.Label(variables_window, text=\"Max:\")\n",
    "\tmax_label.grid(row=0, column=6, padx=5, pady=5)\n",
    "\tmax_entry = tk.Entry(variables_window)\n",
    "\tmax_entry.grid(row=0, column=7, padx=5, pady=5)\n",
    "\n",
    "\t# step value \n",
    "\tstep_label = tk.Label(variables_window, text=\"Arrond:\")\n",
    "\tstep_label.grid(row=0, column=8, padx=5, pady=5)\n",
    "\tstep_entry = tk.Entry(variables_window)\n",
    "\tstep_entry.grid(row=0, column=9, padx=5, pady=5)\n",
    "\n",
    "\t#  add variable\n",
    "\tadd_button = tk.Button(variables_window, text=\"Add\", command=add_variable)\n",
    "\tadd_button.grid(row=0, column=10, padx=5, pady=5)\n",
    "\n",
    "\t# Treeview\n",
    "\tvariables_tree = ttk.Treeview(variables_window, columns=(\"Name\", \"Type\", \"Min\", \"Max\", \"Step\"), show=\"headings\")\n",
    "\tvariables_tree.heading(\"Name\", text=\"Name\")\n",
    "\tvariables_tree.heading(\"Type\", text=\"Type\")\n",
    "\tvariables_tree.heading(\"Min\", text=\"Min\")\n",
    "\tvariables_tree.heading(\"Max\", text=\"Max\")\n",
    "\tvariables_tree.heading(\"Step\", text=\"Step\")\n",
    "\tvariables_tree.grid(row=1, column=0, columnspan=11, padx=5, pady=5)\n",
    "\n",
    "\n",
    "\t# my f selector\n",
    "\tfunction_label = tk.Label(variables_window, text=\"Function:\")\n",
    "\tfunction_label.grid(row=2, column=5, padx=5, pady=5)\n",
    "\tfunction_var = tk.StringVar(variables_window)\n",
    "\tfunction_var.set(\"and\")  # Default function\n",
    "\tfunction_dropdown = tk.OptionMenu(variables_window, function_var, \"and\", \"or\", \"mean\", \"clustering\", \"monmaster\", \"monmaster discretisé\")\n",
    "\tfunction_dropdown.grid(row=2, column=6, padx=5, pady=5)\n",
    "\n",
    "\tnum_rows_label = tk.Label(variables_window, text=\"N:\")\n",
    "\tnum_rows_label.grid(row=2, column=7, padx=5, pady=5)\n",
    "\tnum_rows_entry = tk.Entry(variables_window)\n",
    "\tnum_rows_entry.insert(0, \"10\")  # Default number of rows\n",
    "\tnum_rows_entry.grid(row=2, column=8, padx=5, pady=5)\n",
    "\t\n",
    "\t# add variable (pourquoi pas deux?)\n",
    "\tadd_button2 = tk.Button(variables_window, text=\"Add\", command=add_variable)\n",
    "\tadd_button2.grid(row=2, column=9, padx=5, pady=5)\n",
    "\n",
    "\t# generer\n",
    "\tnext_button = tk.Button(variables_window, text=\"Generate\", command= lambda: display_data(get_variable_data()[0], get_variable_data()[1]))\n",
    "\tnext_button.grid(row=2, column=10, columnspan=11, padx=5, pady=5)\n",
    "\n",
    "\ttoggle_min_max_step_visibility()\t\n",
    "\n",
    "def get_variable_data():\n",
    "\tvariable_data = []\n",
    "\tfor item in variables_tree.get_children():\n",
    "\t\tname = variables_tree.item(item, \"values\")[0]\n",
    "\t\ttype = variables_tree.item(item, \"values\")[1]\n",
    "\t\tmin_value = variables_tree.item(item, \"values\")[2]\n",
    "\t\tmax_value = variables_tree.item(item, \"values\")[3]\n",
    "\t\tstep_value = variables_tree.item(item, \"values\")[4]\n",
    "\t\tvariable_data.append({\"name\": name, \"type\": type, \"min\": min_value, \"max\": max_value, \"step\": step_value})\n",
    "\treturn [variable_data, int(num_rows_entry.get()) if num_rows_entry.get() else 10]\n",
    "\n",
    "def display_data(variable_data, N):\n",
    "\tglobal id1_entry, id2_entry, data_object, res_label\n",
    "\tselected_function = function_var.get()\n",
    "\tif selected_function == \"and\":\n",
    "\t\tf = f1\n",
    "\telif selected_function == \"or\":\n",
    "\t\tf = f2\n",
    "\telif selected_function == \"mean\":\n",
    "\t\tf = f3\n",
    "\telif selected_function == \"clustering\":\n",
    "\t\tf = f4\n",
    "\telif selected_function == \"monmaster\":\n",
    "\t\tf = f5\n",
    "\telif selected_function == \"monmaster discretisé\":\n",
    "\t\tf=f6\n",
    "\tdata_object = Data(variable_data, N,f)\n",
    "\tdf = data_object.data\n",
    "\t# calculate the last column of data_object using f for each row\n",
    "\tprint(\"test\")\n",
    "\n",
    "\tdata_window = tk.Toplevel(root)\n",
    "\tdata_window.title(\"Data Table\")\n",
    "\tdata_window.geometry(f\"{WINDOW_WIDTH}x{WINDOW_HEIGHT}\")\n",
    "\tframe = tk.Frame(data_window)\n",
    "\tframe.grid(sticky='nsew')\n",
    "\n",
    "\tid1_label = tk.Label(frame, text=\"ID1:\")\n",
    "\tid1_label.grid(row=0, column=0, padx=5, pady=5)\n",
    "\tid1_entry = tk.Entry(frame)\n",
    "\tid1_entry.insert(0, \"0\") \n",
    "\tid1_entry.grid(row=1, column=0, padx=5, pady=5)\n",
    "\n",
    "\tid2_label = tk.Label(frame, text=\"ID2:\")\n",
    "\tid2_label.grid(row=2, column=0, padx=5, pady=5)\n",
    "\tid2_entry = tk.Entry(frame)\n",
    "\tid2_entry.insert(0, \"1\")\n",
    "\tid2_entry.grid(row=3, column=0, padx=5, pady=5)\n",
    "\n",
    "\t# Find a cause button\n",
    "\tfind_cause_button = tk.Button(frame, text=\"Find a Cause\", command=find_cause)\n",
    "\tfind_cause_button.grid(row=6, column=0, padx=5, pady=5)\n",
    "\t\n",
    "\t# result:\n",
    "\tres_label = tk.Label(frame, text=\"\")\n",
    "\tres_label.grid(row=7, column=0, padx=5, pady=5)\n",
    "\n",
    "\tv_scrollbar = ttk.Scrollbar(frame, orient=\"vertical\")\n",
    "\tv_scrollbar.grid(row=8, column=1, sticky='ns')\n",
    "\th_scrollbar = ttk.Scrollbar(frame, orient=\"horizontal\")\n",
    "\th_scrollbar.grid(row=9, column=0, sticky='ew')\n",
    "\n",
    "\ttable = ttk.Treeview(frame, height=20, columns=[\"Index\"] + [variable['name'] for variable in variable_data]+['y'],\n",
    "\t\t\t\t\t\tyscrollcommand=v_scrollbar.set, xscrollcommand=h_scrollbar.set, show=\"headings\")\n",
    "\ttable.grid(row=10, column=0, sticky='nsew')\n",
    "\n",
    "\ttable.heading(\"Index\", text=\"Index\")\n",
    "\ttable.column(\"Index\", width=100) \n",
    "\n",
    "\tfor variable in variable_data +  [{'name': 'y'}]:\n",
    "\t\ttable.heading(variable['name'], text=variable['name'])\n",
    "\t\ttable.column(variable['name'], width=100) \n",
    "\n",
    "\tfor index, row in df.iterrows():\n",
    "\t\ttable.insert(\"\", \"end\", values=list(row))\n",
    "\n",
    "\tv_scrollbar.config(command=table.yview)\n",
    "\th_scrollbar.config(command=table.xview)\n",
    "\ttable.configure(yscrollcommand=v_scrollbar.set, xscrollcommand=h_scrollbar.set)\n",
    "\tframe.grid_rowconfigure(0, weight=1)\n",
    "\tframe.grid_columnconfigure(0, weight=1)\n",
    "\tdata_window.grid_columnconfigure(0, weight=1)\n",
    "\tdata_window.grid_rowconfigure(0, weight=1)\n",
    "\n",
    "\ttoggle_min_max_step_visibility()\n",
    "\n",
    "def f1(*args):\n",
    "\treturn all(bool(arg) for arg in args)\n",
    "\n",
    "def f2(*args):\n",
    "\treturn any(bool(arg) for arg in args)\n",
    "\n",
    "def f3(*args):\n",
    "\ttotal = sum(arg for arg in args)\n",
    "\treturn total/len(args) if isinstance(total,int) else float(total)/len(args)\n",
    "\n",
    "def f4(*args):\n",
    "\tdata = [arg for arg in args if isinstance(arg, (int, float, bool))]\n",
    "\tdata = np.array(data).reshape(-1, 1)\n",
    "\tkmeans = KMeans(n_clusters=2)\n",
    "\tkmeans.fit(data)\n",
    "\tlabels = kmeans.labels_\n",
    "\tsilhouette = silhouette_score(data, labels)\n",
    "\t#print(f'Silhouette Score: {silhouette}')\n",
    "\t#print(f'Inertia: {kmeans.inertia_}')\n",
    "\tdef classify(*new_data):\n",
    "\t\tnew_data = np.array(new_data).reshape(-1, 1)\n",
    "\t\treturn int(''.join((map(str, kmeans.predict(new_data)))),2)\n",
    "\treturn classify(*args)\n",
    "\n",
    "def f5(*args):\n",
    "\tcoeffs= [1, 1, 1, 1, 1] #calcul de la Moyenne\n",
    "\tseuils = [12, 12, 12] # Calcul du status d'éligibilité (logique, BDD, PS)\n",
    "\tthresholds2 = [12, 14] # prendre la décision\n",
    "\tS1, S2, S3, S4, S5, Logique, BDD, PS = args\n",
    "\tmoyenne = (S1 * coeffs[0] + S2 * coeffs[1] + S3 * coeffs[2] + S4 * coeffs[3] + S5 * coeffs[4]) / sum(coeffs)\n",
    "\te = (Logique> seuils[0] and BDD> seuils[1] and PS> seuils[2])\n",
    "\tm = (moyenne>thresholds2[1])*2 + (thresholds2[0] <= moyenne <= thresholds2[1])\n",
    "\tif e and m==2:\n",
    "\t\treturn 'Accepté'\n",
    "\telif e and m==1:\n",
    "\t\treturn 'En liste d\\'attente'\n",
    "\telse:\n",
    "\t\treturn 'Rejeté'\n",
    "\n",
    "def f6(*args):\n",
    "\tcoeffs= [1, 1, 1, 1, 1] #calcul de la Moyenne\n",
    "\tthresholds2 = [12, 14] # prendre la décision\n",
    "\tif len(args)==8:\n",
    "\t\tS1, S2, S3, S4, S5, Logique, BDD, PS = args\n",
    "\telif len(args)==9:\n",
    "\t\tS1, S2, S3, S4, S5, Logique, BDD, PS, _ = args\n",
    "\tmoyenne = (S1 * coeffs[0] + S2 * coeffs[1] + S3 * coeffs[2] + S4 * coeffs[3] + S5 * coeffs[4]) / sum(coeffs)\n",
    "\te = (Logique and BDD and PS)\n",
    "\tm = (moyenne>thresholds2[1])*2 + (thresholds2[0] <= moyenne <= thresholds2[1])\n",
    "\tif e and m==2:\n",
    "\t\treturn 'Accepté'\n",
    "\telif e and m==1:\n",
    "\t\treturn 'En liste d\\'attente'\n",
    "\telse:\n",
    "\t\treturn 'Rejeté'\n",
    "\n",
    "def find_cause():\n",
    "\tModelBifact = Bifact(data_object)\n",
    "\tid1 = int(id1_entry.get())\n",
    "\tid2 = int(id2_entry.get())\n",
    "\tres_label.config(text=\"Generating causes...\")\n",
    "\tcause = ModelBifact.find_cause(id1, id2)\n",
    "\tdata_list = ast.literal_eval(str(cause))\n",
    "\tif not data_list:\n",
    "\t\ttransformed_data = \"No causes found\"\n",
    "\telse:\n",
    "\t\tif len(data_list) > 1:\n",
    "\t\t\ttransformed_data = f'The {len(data_list)} found causes are: '+'  --  '.join([' & '.join(names) for names in data_list])\n",
    "\t\telif len(data_list) == 1:\n",
    "\t\t\ttransformed_data = f'The found cause is: '+'  --  '.join([' & '.join(names) for names in data_list])\n",
    "\t\telse:\n",
    "\t\t\ttransformed_data = 'No cause found'\n",
    "\tres_label.config(text=transformed_data)\n",
    "\n",
    "\n",
    "def toggle_min_max_step_visibility():\n",
    "\tglobal min_label, max_label, step_label, min_entry, max_entry, step_entry\n",
    "\tselected_type = variable_type_var.get()\n",
    "\n",
    "\tif selected_type in [\"int\", \"float\"]:\n",
    "\t\tmin_label.grid()\n",
    "\t\tmin_entry.grid()\n",
    "\t\tmax_label.grid()\n",
    "\t\tmax_entry.grid()\n",
    "\n",
    "\t\tif selected_type == \"float\":\n",
    "\t\t\tstep_label.grid()\n",
    "\t\t\tstep_entry.grid()\n",
    "\t\telse:\n",
    "\t\t\t\n",
    "\t\t\tstep_label.grid_remove()\n",
    "\t\t\tstep_entry.grid_remove()\n",
    "\telse:\n",
    "\t\tmin_label.grid_remove()\n",
    "\t\tmin_entry.grid_remove()\n",
    "\t\tmax_label.grid_remove()\n",
    "\t\tmax_entry.grid_remove()\n",
    "\t\tstep_label.grid_remove()\n",
    "\t\tstep_entry.grid_remove()\n",
    "\n",
    "def get_default_min_value(var_type):\n",
    "\tif var_type == \"boolean\":\n",
    "\t\treturn \"False\"\n",
    "\telif var_type == \"int\":\n",
    "\t\treturn \"0\"\n",
    "\telif var_type == \"float\":\n",
    "\t\treturn \"0.0\"\n",
    "\n",
    "def get_default_max_value(var_type):\n",
    "\tif var_type == \"boolean\":\n",
    "\t\treturn \"True\"\n",
    "\telif var_type == \"int\":\n",
    "\t\treturn \"20\"\n",
    "\telif var_type == \"float\":\n",
    "\t\treturn \"20.0\"\n",
    "\n",
    "def get_default_step_value(var_type):\n",
    "\tif var_type == \"float\":\n",
    "\t\treturn \"2\"\n",
    "\telse:\n",
    "\t\treturn \"\"\n",
    "\n",
    "# mon gui principal\n",
    "root = tk.Tk()\n",
    "root.title(\"Bifact\")\n",
    "root.geometry(f\"{WINDOW_WIDTH}x{WINDOW_HEIGHT}\")\n",
    "\n",
    "#import_button = tk.Button(root, text=\"Import a CSV File\", command=import_csv)\n",
    "#import_button.pack()\n",
    "generate_button = tk.Button(root, text=\"Generate Randomly\", command=generate_random)\n",
    "generate_button.pack()\n",
    "\n",
    "\n",
    "\n",
    "\n",
    "root.mainloop() \n",
    "# remove le # pour lancer l'interface graphique\n"
   ]
  },
  {
   "cell_type": "markdown",
   "metadata": {},
   "source": [
    "# Tester la BC() sur notre exemple de monmaster"
   ]
  },
  {
   "cell_type": "code",
   "execution_count": 11,
   "metadata": {},
   "outputs": [
    {
     "data": {
      "text/plain": [
       "['S1', 'S2', 'S3', 'S4', 'S5', 'Logique', 'BDD', 'PS']"
      ]
     },
     "metadata": {},
     "output_type": "display_data"
    },
    {
     "data": {
      "text/html": [
       "<div>\n",
       "<style scoped>\n",
       "    .dataframe tbody tr th:only-of-type {\n",
       "        vertical-align: middle;\n",
       "    }\n",
       "\n",
       "    .dataframe tbody tr th {\n",
       "        vertical-align: top;\n",
       "    }\n",
       "\n",
       "    .dataframe thead th {\n",
       "        text-align: right;\n",
       "    }\n",
       "</style>\n",
       "<table border=\"1\" class=\"dataframe\">\n",
       "  <thead>\n",
       "    <tr style=\"text-align: right;\">\n",
       "      <th></th>\n",
       "      <th>id</th>\n",
       "      <th>S1</th>\n",
       "      <th>S2</th>\n",
       "      <th>S3</th>\n",
       "      <th>S4</th>\n",
       "      <th>S5</th>\n",
       "      <th>Logique</th>\n",
       "      <th>BDD</th>\n",
       "      <th>PS</th>\n",
       "      <th>y</th>\n",
       "    </tr>\n",
       "  </thead>\n",
       "  <tbody>\n",
       "    <tr>\n",
       "      <th>0</th>\n",
       "      <td>1</td>\n",
       "      <td>15</td>\n",
       "      <td>13</td>\n",
       "      <td>16</td>\n",
       "      <td>17</td>\n",
       "      <td>13</td>\n",
       "      <td>1</td>\n",
       "      <td>1</td>\n",
       "      <td>1</td>\n",
       "      <td>A</td>\n",
       "    </tr>\n",
       "    <tr>\n",
       "      <th>1</th>\n",
       "      <td>2</td>\n",
       "      <td>11</td>\n",
       "      <td>5</td>\n",
       "      <td>8</td>\n",
       "      <td>12</td>\n",
       "      <td>10</td>\n",
       "      <td>1</td>\n",
       "      <td>1</td>\n",
       "      <td>1</td>\n",
       "      <td>R</td>\n",
       "    </tr>\n",
       "    <tr>\n",
       "      <th>2</th>\n",
       "      <td>3</td>\n",
       "      <td>14</td>\n",
       "      <td>12</td>\n",
       "      <td>11</td>\n",
       "      <td>15</td>\n",
       "      <td>13</td>\n",
       "      <td>1</td>\n",
       "      <td>1</td>\n",
       "      <td>1</td>\n",
       "      <td>L</td>\n",
       "    </tr>\n",
       "    <tr>\n",
       "      <th>3</th>\n",
       "      <td>4</td>\n",
       "      <td>16</td>\n",
       "      <td>15</td>\n",
       "      <td>15</td>\n",
       "      <td>18</td>\n",
       "      <td>15</td>\n",
       "      <td>0</td>\n",
       "      <td>0</td>\n",
       "      <td>1</td>\n",
       "      <td>R</td>\n",
       "    </tr>\n",
       "    <tr>\n",
       "      <th>4</th>\n",
       "      <td>5</td>\n",
       "      <td>11</td>\n",
       "      <td>11</td>\n",
       "      <td>11</td>\n",
       "      <td>11</td>\n",
       "      <td>11</td>\n",
       "      <td>0</td>\n",
       "      <td>0</td>\n",
       "      <td>0</td>\n",
       "      <td>R</td>\n",
       "    </tr>\n",
       "    <tr>\n",
       "      <th>5</th>\n",
       "      <td>6</td>\n",
       "      <td>0</td>\n",
       "      <td>1</td>\n",
       "      <td>0</td>\n",
       "      <td>0</td>\n",
       "      <td>0</td>\n",
       "      <td>1</td>\n",
       "      <td>1</td>\n",
       "      <td>1</td>\n",
       "      <td>R</td>\n",
       "    </tr>\n",
       "    <tr>\n",
       "      <th>6</th>\n",
       "      <td>7</td>\n",
       "      <td>1</td>\n",
       "      <td>0</td>\n",
       "      <td>0</td>\n",
       "      <td>0</td>\n",
       "      <td>0</td>\n",
       "      <td>1</td>\n",
       "      <td>1</td>\n",
       "      <td>1</td>\n",
       "      <td>R</td>\n",
       "    </tr>\n",
       "  </tbody>\n",
       "</table>\n",
       "</div>"
      ],
      "text/plain": [
       "   id  S1  S2  S3  S4  S5  Logique  BDD  PS  y\n",
       "0   1  15  13  16  17  13        1    1   1  A\n",
       "1   2  11   5   8  12  10        1    1   1  R\n",
       "2   3  14  12  11  15  13        1    1   1  L\n",
       "3   4  16  15  15  18  15        0    0   1  R\n",
       "4   5  11  11  11  11  11        0    0   0  R\n",
       "5   6   0   1   0   0   0        1    1   1  R\n",
       "6   7   1   0   0   0   0        1    1   1  R"
      ]
     },
     "metadata": {},
     "output_type": "display_data"
    }
   ],
   "source": [
    "from tools import *\n",
    "import pandas as pd\n",
    " \n",
    "df= pd.DataFrame({\n",
    "    \"id\": [1,2,3,4,5,6,7],\n",
    "    \"S1\":[15, 11, 14, 16, 11,0,1],\n",
    "    \"S2\": [13, 5, 12, 15, 11,1,0],\n",
    "    \"S3\":[16, 8, 11, 15, 11,0,0],\n",
    "    \"S4\": [17, 12, 15, 18, 11,0,0],\n",
    "    \"S5\": [13, 10, 13, 15, 11,0,0],\n",
    "\n",
    "    \"Logique\": [1, 1, 1, 0, 0,1,1],\n",
    "    \"BDD\": [1, 1, 1, 0, 0,1,1],\n",
    "    \"PS\": [1, 1, 1, 1, 0,1,1],\n",
    "    \"y\":['A','R','L','R','R','R','R']\n",
    "})\n",
    "V = list(df.columns)[1:-1]\n",
    "display(V, df)\n",
    "\n",
    "domains = {\n",
    "        \"S1\": range(0, 21),\n",
    "        \"S2\": range(0, 21),\n",
    "        \"S3\": range(0, 21),\n",
    "        \"S4\": range(0, 21),\n",
    "        \"S5\": range(0, 21),\n",
    "        \"BDD\": [0, 1],\n",
    "        \"Logique\": [0, 1],\n",
    "        \"PS\": [0, 1]\n",
    "    }\n",
    "\n",
    "data = Data(None, 10,med, df, domains)\n",
    "model = Bifact(data)\n"
   ]
  },
  {
   "cell_type": "code",
   "execution_count": 64,
   "metadata": {},
   "outputs": [
    {
     "name": "stderr",
     "output_type": "stream",
     "text": [
      "  2%|▏         | 1/63 [00:00<00:05, 12.27it/s]\n",
      "  2%|▏         | 1/63 [00:00<00:08,  7.19it/s]\n",
      "100%|██████████| 3/3 [00:00<00:00, 11.18it/s]\n"
     ]
    },
    {
     "data": {
      "text/plain": [
       "[('S1', 'S2')]"
      ]
     },
     "execution_count": 64,
     "metadata": {},
     "output_type": "execute_result"
    }
   ],
   "source": [
    "model.find_cause(6,7)"
   ]
  },
  {
   "cell_type": "code",
   "execution_count": 65,
   "metadata": {},
   "outputs": [
    {
     "name": "stderr",
     "output_type": "stream",
     "text": [
      "  3%|▎         | 4/127 [00:00<00:00, 448.84it/s]\n",
      "  1%|          | 1/127 [00:00<00:00, 139.23it/s]\n",
      "  0%|          | 0/127 [00:00<?, ?it/s]\n",
      "  1%|          | 1/127 [00:00<00:01, 101.12it/s]\n",
      "100%|██████████| 31/31 [00:01<00:00, 19.00it/s]\n"
     ]
    },
    {
     "data": {
      "text/plain": [
       "[('S5',), ('S4',), ('S3',), ('S2',), ('S1',)]"
      ]
     },
     "execution_count": 65,
     "metadata": {},
     "output_type": "execute_result"
    }
   ],
   "source": [
    "model.find_cause(1,2)"
   ]
  },
  {
   "cell_type": "code",
   "execution_count": 39,
   "metadata": {},
   "outputs": [
    {
     "name": "stdout",
     "output_type": "stream",
     "text": [
      "Recherche des causes bifactuelles pour les lignes {id1} et {id2}\n"
     ]
    },
    {
     "name": "stderr",
     "output_type": "stream",
     "text": [
      "  0%|          | 0/127 [00:00<?, ?it/s]"
     ]
    },
    {
     "name": "stdout",
     "output_type": "stream",
     "text": [
      "Exploration de :  ('S1', 'S2', 'S3', 'S4', 'S5', 'Logique', 'BDD')\n",
      "Verification de BC1_2...\n"
     ]
    },
    {
     "name": "stderr",
     "output_type": "stream",
     "text": [
      "  1%|          | 1/127 [00:06<14:23,  6.86s/it]"
     ]
    },
    {
     "name": "stdout",
     "output_type": "stream",
     "text": [
      "Exploration de :  ('S2', 'S3', 'S4', 'S5', 'Logique', 'BDD')\n",
      "Verification de BC1_2...\n"
     ]
    },
    {
     "name": "stderr",
     "output_type": "stream",
     "text": [
      "  2%|▏         | 2/127 [00:07<06:25,  3.08s/it]"
     ]
    },
    {
     "name": "stdout",
     "output_type": "stream",
     "text": [
      "Exploration de :  ('S1', 'S3', 'S4', 'S5', 'Logique', 'BDD')\n",
      "Verification de BC1_2...\n"
     ]
    },
    {
     "name": "stderr",
     "output_type": "stream",
     "text": [
      "  2%|▏         | 3/127 [00:07<03:57,  1.91s/it]"
     ]
    },
    {
     "name": "stdout",
     "output_type": "stream",
     "text": [
      "Exploration de :  ('S1', 'S2', 'S4', 'S5', 'Logique', 'BDD')\n",
      "Verification de BC1_2...\n"
     ]
    },
    {
     "name": "stderr",
     "output_type": "stream",
     "text": [
      "  3%|▎         | 4/127 [00:08<02:49,  1.38s/it]"
     ]
    },
    {
     "name": "stdout",
     "output_type": "stream",
     "text": [
      "Exploration de :  ('S1', 'S2', 'S3', 'S5', 'Logique', 'BDD')\n",
      "Verification de BC1_2...\n"
     ]
    },
    {
     "name": "stderr",
     "output_type": "stream",
     "text": [
      "  4%|▍         | 5/127 [00:08<02:08,  1.05s/it]"
     ]
    },
    {
     "name": "stdout",
     "output_type": "stream",
     "text": [
      "Exploration de :  ('S1', 'S2', 'S3', 'S4', 'Logique', 'BDD')\n",
      "Verification de BC1_2...\n"
     ]
    },
    {
     "name": "stderr",
     "output_type": "stream",
     "text": [
      "  5%|▍         | 6/127 [00:09<01:39,  1.21it/s]"
     ]
    },
    {
     "name": "stdout",
     "output_type": "stream",
     "text": [
      "Exploration de :  ('S1', 'S2', 'S3', 'S4', 'S5', 'BDD')\n",
      "Verification de BC1_2...\n"
     ]
    },
    {
     "name": "stderr",
     "output_type": "stream",
     "text": [
      "  6%|▌         | 7/127 [00:12<03:09,  1.58s/it]"
     ]
    },
    {
     "name": "stdout",
     "output_type": "stream",
     "text": [
      "Exploration de :  ('S1', 'S2', 'S3', 'S4', 'S5', 'Logique')\n",
      "Verification de BC1_2...\n"
     ]
    },
    {
     "name": "stderr",
     "output_type": "stream",
     "text": [
      "  8%|▊         | 10/127 [00:15<02:09,  1.11s/it]"
     ]
    },
    {
     "name": "stdout",
     "output_type": "stream",
     "text": [
      "Exploration de :  ('S3', 'S4', 'S5', 'Logique', 'BDD')\n",
      "Verification de BC1_2...\n",
      "Exploration de :  ('S2', 'S4', 'S5', 'Logique', 'BDD')\n",
      "Verification de BC1_2...\n",
      "Exploration de :  ('S2', 'S3', 'S5', 'Logique', 'BDD')\n",
      "Verification de BC1_2...\n",
      "Exploration de :  ('S2', 'S3', 'S4', 'Logique', 'BDD')\n",
      "Verification de BC1_2...\n",
      "Exploration de :  ('S2', 'S3', 'S4', 'S5', 'BDD')\n",
      "Verification de BC1_2...\n"
     ]
    },
    {
     "name": "stderr",
     "output_type": "stream",
     "text": [
      " 11%|█         | 14/127 [00:16<00:58,  1.95it/s]"
     ]
    },
    {
     "name": "stdout",
     "output_type": "stream",
     "text": [
      "Exploration de :  ('S2', 'S3', 'S4', 'S5', 'Logique')\n",
      "Verification de BC1_2...\n",
      "Exploration de :  ('S1', 'S4', 'S5', 'Logique', 'BDD')\n",
      "Verification de BC1_2...\n"
     ]
    },
    {
     "name": "stderr",
     "output_type": "stream",
     "text": [
      " 13%|█▎        | 17/127 [00:16<00:32,  3.36it/s]"
     ]
    },
    {
     "name": "stdout",
     "output_type": "stream",
     "text": [
      "Exploration de :  ('S1', 'S3', 'S5', 'Logique', 'BDD')\n",
      "Verification de BC1_2...\n",
      "Exploration de :  ('S1', 'S3', 'S4', 'Logique', 'BDD')\n",
      "Verification de BC1_2...\n",
      "Exploration de :  ('S1', 'S3', 'S4', 'S5', 'BDD')\n",
      "Verification de BC1_2...\n"
     ]
    },
    {
     "name": "stderr",
     "output_type": "stream",
     "text": [
      " 14%|█▍        | 18/127 [00:16<00:33,  3.26it/s]"
     ]
    },
    {
     "name": "stdout",
     "output_type": "stream",
     "text": [
      "Exploration de :  ('S1', 'S3', 'S4', 'S5', 'Logique')\n",
      "Verification de BC1_2...\n"
     ]
    },
    {
     "name": "stderr",
     "output_type": "stream",
     "text": [
      " 17%|█▋        | 21/127 [00:17<00:21,  4.86it/s]"
     ]
    },
    {
     "name": "stdout",
     "output_type": "stream",
     "text": [
      "Exploration de :  ('S1', 'S2', 'S5', 'Logique', 'BDD')\n",
      "Verification de BC1_2...\n",
      "Exploration de :  ('S1', 'S2', 'S4', 'Logique', 'BDD')\n",
      "Verification de BC1_2...\n",
      "Exploration de :  ('S1', 'S2', 'S4', 'S5', 'BDD')\n",
      "Verification de BC1_2...\n"
     ]
    },
    {
     "name": "stderr",
     "output_type": "stream",
     "text": [
      " 17%|█▋        | 22/127 [00:17<00:27,  3.87it/s]"
     ]
    },
    {
     "name": "stdout",
     "output_type": "stream",
     "text": [
      "Exploration de :  ('S1', 'S2', 'S4', 'S5', 'Logique')\n",
      "Verification de BC1_2...\n"
     ]
    },
    {
     "name": "stderr",
     "output_type": "stream",
     "text": [
      " 18%|█▊        | 23/127 [00:17<00:31,  3.29it/s]"
     ]
    },
    {
     "name": "stdout",
     "output_type": "stream",
     "text": [
      "Exploration de :  ('S1', 'S2', 'S3', 'Logique', 'BDD')\n",
      "Verification de BC1_2...\n",
      "Exploration de :  ('S1', 'S2', 'S3', 'S5', 'BDD')\n",
      "Verification de BC1_2...\n"
     ]
    },
    {
     "name": "stderr",
     "output_type": "stream",
     "text": [
      " 20%|██        | 26/127 [00:18<00:24,  4.19it/s]"
     ]
    },
    {
     "name": "stdout",
     "output_type": "stream",
     "text": [
      "Exploration de :  ('S1', 'S2', 'S3', 'S5', 'Logique')\n",
      "Verification de BC1_2...\n",
      "Exploration de :  ('S1', 'S2', 'S3', 'S4', 'BDD')\n",
      "Verification de BC1_2...\n"
     ]
    },
    {
     "name": "stderr",
     "output_type": "stream",
     "text": [
      " 21%|██▏       | 27/127 [00:18<00:24,  4.10it/s]"
     ]
    },
    {
     "name": "stdout",
     "output_type": "stream",
     "text": [
      "Exploration de :  ('S1', 'S2', 'S3', 'S4', 'Logique')\n",
      "Verification de BC1_2...\n"
     ]
    },
    {
     "name": "stderr",
     "output_type": "stream",
     "text": [
      " 22%|██▏       | 28/127 [00:19<00:24,  4.01it/s]"
     ]
    },
    {
     "name": "stdout",
     "output_type": "stream",
     "text": [
      "Exploration de :  ('S1', 'S2', 'S3', 'S4', 'S5')\n",
      "Verification de BC1_2...\n"
     ]
    },
    {
     "name": "stderr",
     "output_type": "stream",
     "text": [
      " 33%|███▎      | 42/127 [00:20<00:08, 10.54it/s]"
     ]
    },
    {
     "name": "stdout",
     "output_type": "stream",
     "text": [
      "Exploration de :  ('S4', 'S5', 'Logique', 'BDD')\n",
      "Verification de BC1_2...\n",
      "Exploration de :  ('S3', 'S5', 'Logique', 'BDD')\n",
      "Verification de BC1_2...\n",
      "Exploration de :  ('S3', 'S4', 'Logique', 'BDD')\n",
      "Verification de BC1_2...\n",
      "Exploration de :  ('S3', 'S4', 'S5', 'BDD')\n",
      "Verification de BC1_2...\n",
      "Exploration de :  ('S3', 'S4', 'S5', 'Logique')\n",
      "Verification de BC1_2...\n",
      "Exploration de :  ('S2', 'S5', 'Logique', 'BDD')\n",
      "Verification de BC1_2...\n",
      "Exploration de :  ('S2', 'S4', 'Logique', 'BDD')\n",
      "Verification de BC1_2...\n",
      "Exploration de :  ('S2', 'S4', 'S5', 'BDD')\n",
      "Verification de BC1_2...\n",
      "Exploration de :  ('S2', 'S4', 'S5', 'Logique')\n",
      "Verification de BC1_2...\n",
      "Exploration de :  ('S2', 'S3', 'Logique', 'BDD')\n",
      "Verification de BC1_2...\n",
      "Exploration de :  ('S2', 'S3', 'S5', 'BDD')\n",
      "Verification de BC1_2...\n",
      "Exploration de :  ('S2', 'S3', 'S5', 'Logique')\n",
      "Verification de BC1_2...\n",
      "Exploration de :  ('S2', 'S3', 'S4', 'BDD')\n",
      "Verification de BC1_2...\n",
      "Exploration de :  ('S2', 'S3', 'S4', 'Logique')\n",
      "Verification de BC1_2...\n",
      "Exploration de :  ('S2', 'S3', 'S4', 'S5')\n",
      "Verification de BC1_2...\n"
     ]
    },
    {
     "name": "stderr",
     "output_type": "stream",
     "text": [
      " 39%|███▉      | 50/127 [00:21<00:05, 15.08it/s]"
     ]
    },
    {
     "name": "stdout",
     "output_type": "stream",
     "text": [
      "Exploration de :  ('S1', 'S5', 'Logique', 'BDD')\n",
      "Verification de BC1_2...\n",
      "Exploration de :  ('S1', 'S4', 'Logique', 'BDD')\n",
      "Verification de BC1_2...\n",
      "Exploration de :  ('S1', 'S4', 'S5', 'BDD')\n",
      "Verification de BC1_2...\n",
      "Exploration de :  ('S1', 'S4', 'S5', 'Logique')\n",
      "Verification de BC1_2...\n",
      "Exploration de :  ('S1', 'S3', 'Logique', 'BDD')\n",
      "Verification de BC1_2...\n",
      "Exploration de :  ('S1', 'S3', 'S5', 'BDD')\n",
      "Verification de BC1_2...\n",
      "Exploration de :  ('S1', 'S3', 'S5', 'Logique')\n",
      "Verification de BC1_2...\n",
      "Exploration de :  ('S1', 'S3', 'S4', 'BDD')\n",
      "Verification de BC1_2...\n"
     ]
    },
    {
     "name": "stderr",
     "output_type": "stream",
     "text": [
      " 44%|████▍     | 56/127 [00:21<00:04, 17.41it/s]"
     ]
    },
    {
     "name": "stdout",
     "output_type": "stream",
     "text": [
      "Exploration de :  ('S1', 'S3', 'S4', 'Logique')\n",
      "Verification de BC1_2...\n",
      "Exploration de :  ('S1', 'S3', 'S4', 'S5')\n",
      "Verification de BC1_2...\n",
      "Exploration de :  ('S1', 'S2', 'Logique', 'BDD')\n",
      "Verification de BC1_2...\n",
      "Exploration de :  ('S1', 'S2', 'S5', 'BDD')\n",
      "Verification de BC1_2...\n",
      "Exploration de :  ('S1', 'S2', 'S5', 'Logique')\n",
      "Verification de BC1_2...\n"
     ]
    },
    {
     "name": "stderr",
     "output_type": "stream",
     "text": [
      " 47%|████▋     | 60/127 [00:21<00:03, 19.06it/s]"
     ]
    },
    {
     "name": "stdout",
     "output_type": "stream",
     "text": [
      "Exploration de :  ('S1', 'S2', 'S4', 'BDD')\n",
      "Verification de BC1_2...\n",
      "Exploration de :  ('S1', 'S2', 'S4', 'Logique')\n",
      "Verification de BC1_2...\n",
      "Exploration de :  ('S1', 'S2', 'S4', 'S5')\n",
      "Verification de BC1_2...\n",
      "Exploration de :  ('S1', 'S2', 'S3', 'BDD')\n",
      "Verification de BC1_2...\n",
      "Exploration de :  ('S1', 'S2', 'S3', 'Logique')\n",
      "Verification de BC1_2...\n",
      "Exploration de :  ('S1', 'S2', 'S3', 'S5')\n",
      "Verification de BC1_2...\n"
     ]
    },
    {
     "name": "stderr",
     "output_type": "stream",
     "text": [
      " 50%|████▉     | 63/127 [00:21<00:03, 20.01it/s]"
     ]
    },
    {
     "name": "stdout",
     "output_type": "stream",
     "text": [
      "Exploration de :  ('S1', 'S2', 'S3', 'S4')\n",
      "Verification de BC1_2...\n",
      "Exploration de :  ('S5', 'Logique', 'BDD')\n",
      "Verification de BC1_2...\n",
      "id :  2\n"
     ]
    },
    {
     "name": "stderr",
     "output_type": "stream",
     "text": []
    },
    {
     "name": "stdout",
     "output_type": "stream",
     "text": [
      "Verification de AC1 pour la ligne dont l'id est 2...\n",
      "Verification de AC2 et AC3 pour la ligne dont l'id est 2...\n",
      "ID=  2  Erreur : AC2 n'est pas vérifiée, veuillez saisir un superset de l'ensemble des variables sélectionnées\n",
      "Verification de AC1 pour la ligne dont l'id est 2...\n",
      "Verification de AC2 et AC3 pour la ligne dont l'id est 2...\n",
      "ID=  2  Erreur :AC3 n'est pas vérifiée car il existe une affectation x_prime : {'S2': 19}  pour laquelle la decision change à : L\n",
      "Verification de AC1 pour la ligne dont l'id est 2...\n",
      "Verification de AC2 et AC3 pour la ligne dont l'id est 2...\n",
      "ID=  2  Erreur :AC3 n'est pas vérifiée car il existe une affectation x_prime : {'S4': 16, 'S5': 20}  pour laquelle la decision change à : L\n",
      "Verification de AC1 pour la ligne dont l'id est 2...\n",
      "Verification de AC2 et AC3 pour la ligne dont l'id est 2...\n",
      "ID=  2  Erreur :AC3 n'est pas vérifiée car il existe une affectation x_prime : {'S1': 15, 'S5': 20}  pour laquelle la decision change à : L\n",
      "Verification de AC1 pour la ligne dont l'id est 2...\n",
      "Verification de AC2 et AC3 pour la ligne dont l'id est 2...\n",
      "ID=  2  Erreur :AC3 n'est pas vérifiée car il existe une affectation x_prime : {'S3': 12, 'S5': 20}  pour laquelle la decision change à : L\n",
      "Verification de AC1 pour la ligne dont l'id est 2...\n",
      "Verification de AC2 et AC3 pour la ligne dont l'id est 2...\n",
      "ID=  2  Erreur :AC3 n'est pas vérifiée car il existe une affectation x_prime : {'S2': 19}  pour laquelle la decision change à : L\n",
      "Verification de AC1 pour la ligne dont l'id est 2...\n",
      "Verification de AC2 et AC3 pour la ligne dont l'id est 2...\n",
      "ID=  2  Erreur :AC3 n'est pas vérifiée car il existe une affectation x_prime : {'S1': 15, 'S5': 20}  pour laquelle la decision change à : L\n",
      "Verification de AC1 pour la ligne dont l'id est 2...\n",
      "Verification de AC2 et AC3 pour la ligne dont l'id est 2...\n",
      "ID=  2  Erreur :AC3 n'est pas vérifiée car il existe une affectation x_prime : {'S3': 12, 'S5': 20}  pour laquelle la decision change à : L\n",
      "Verification de AC1 pour la ligne dont l'id est 2...\n",
      "Verification de AC2 et AC3 pour la ligne dont l'id est 2...\n",
      "ID=  2  Erreur :AC3 n'est pas vérifiée car il existe une affectation x_prime : {'S1': 17, 'S4': 20}  pour laquelle la decision change à : L\n",
      "Verification de AC1 pour la ligne dont l'id est 2...\n",
      "Verification de AC2 et AC3 pour la ligne dont l'id est 2...\n",
      "ID=  2  Erreur :AC3 n'est pas vérifiée car il existe une affectation x_prime : {'S2': 19}  pour laquelle la decision change à : L\n",
      "Verification de AC1 pour la ligne dont l'id est 2...\n",
      "Verification de AC2 et AC3 pour la ligne dont l'id est 2...\n",
      "ID=  2  Erreur :AC3 n'est pas vérifiée car il existe une affectation x_prime : {'S1': 13, 'S3': 20}  pour laquelle la decision change à : L\n",
      "Verification de AC1 pour la ligne dont l'id est 2...\n",
      "Verification de AC2 et AC3 pour la ligne dont l'id est 2...\n",
      "ID=  2  Erreur :AC3 n'est pas vérifiée car il existe une affectation x_prime : {'S4': 16, 'S5': 20}  pour laquelle la decision change à : L\n",
      "Verification de AC1 pour la ligne dont l'id est 2...\n",
      "Verification de AC2 et AC3 pour la ligne dont l'id est 2...\n",
      "ID=  2  Erreur :AC3 n'est pas vérifiée car il existe une affectation x_prime : {'S2': 19}  pour laquelle la decision change à : L\n",
      "Verification de AC1 pour la ligne dont l'id est 2...\n",
      "Verification de AC2 et AC3 pour la ligne dont l'id est 2...\n",
      "ID=  2  Erreur :AC3 n'est pas vérifiée car il existe une affectation x_prime : {'S3': 14, 'S4': 20}  pour laquelle la decision change à : L\n",
      "Verification de AC1 pour la ligne dont l'id est 2...\n",
      "Verification de AC2 et AC3 pour la ligne dont l'id est 2...\n",
      "ID=  2  Erreur :AC3 n'est pas vérifiée car il existe une affectation x_prime : {'S2': 19}  pour laquelle la decision change à : L\n",
      "Verification de AC1 pour la ligne dont l'id est 2...\n",
      "Verification de AC2 et AC3 pour la ligne dont l'id est 2...\n",
      "ID=  2  Erreur :AC3 n'est pas vérifiée car il existe une affectation x_prime : {'S2': 19}  pour laquelle la decision change à : L\n",
      "Verification de AC1 pour la ligne dont l'id est 2...\n",
      "Verification de AC2 et AC3 pour la ligne dont l'id est 2...\n",
      "ID=  2  Erreur :AC3 n'est pas vérifiée car il existe une affectation x_prime : {'S1': 13, 'S3': 20}  pour laquelle la decision change à : L\n",
      "Verification de AC1 pour la ligne dont l'id est 2...\n",
      "Verification de AC2 et AC3 pour la ligne dont l'id est 2...\n"
     ]
    },
    {
     "name": "stderr",
     "output_type": "stream",
     "text": []
    },
    {
     "name": "stdout",
     "output_type": "stream",
     "text": [
      "ID=  2  Erreur :AC3 n'est pas vérifiée car il existe une affectation x_prime : {'S2': 19}  pour laquelle la decision change à : L\n",
      "Verification de AC1 pour la ligne dont l'id est 2...\n",
      "Verification de AC2 et AC3 pour la ligne dont l'id est 2...\n",
      "ID=  2  Erreur :AC3 n'est pas vérifiée car il existe une affectation x_prime : {'S2': 19}  pour laquelle la decision change à : L\n",
      "Verification de AC1 pour la ligne dont l'id est 2...\n",
      "Verification de AC2 et AC3 pour la ligne dont l'id est 2...\n",
      "ID=  2  Erreur :AC3 n'est pas vérifiée car il existe une affectation x_prime : {'S3': 14, 'S4': 20}  pour laquelle la decision change à : L\n",
      "Verification de AC1 pour la ligne dont l'id est 2...\n",
      "Verification de AC2 et AC3 pour la ligne dont l'id est 2...\n",
      "ID=  2  Erreur :AC3 n'est pas vérifiée car il existe une affectation x_prime : {'S1': 17, 'S4': 20}  pour laquelle la decision change à : L\n",
      "Verification de AC1 pour la ligne dont l'id est 2...\n",
      "Verification de AC2 et AC3 pour la ligne dont l'id est 2...\n",
      "ID=  2  Erreur :AC3 n'est pas vérifiée car il existe une affectation x_prime : {'S2': 19}  pour laquelle la decision change à : L\n",
      "Verification de AC1 pour la ligne dont l'id est 2...\n",
      "Verification de AC2 et AC3 pour la ligne dont l'id est 2...\n",
      "ID=  2  Erreur :AC3 n'est pas vérifiée car il existe une affectation x_prime : {'S2': 19}  pour laquelle la decision change à : L\n",
      "Verification de AC1 pour la ligne dont l'id est 2...\n",
      "Verification de AC2 et AC3 pour la ligne dont l'id est 2...\n",
      "ID=  2  Erreur :AC3 n'est pas vérifiée car il existe une affectation x_prime : {'S1': 13, 'S3': 20}  pour laquelle la decision change à : L\n",
      "Verification de AC1 pour la ligne dont l'id est 2...\n",
      "Verification de AC2 et AC3 pour la ligne dont l'id est 2...\n",
      "ID=  2  Erreur :AC3 n'est pas vérifiée car il existe une affectation x_prime : {'S2': 19}  pour laquelle la decision change à : L\n",
      "Verification de AC1 pour la ligne dont l'id est 2...\n",
      "Verification de AC2 et AC3 pour la ligne dont l'id est 2...\n"
     ]
    },
    {
     "name": "stderr",
     "output_type": "stream",
     "text": []
    },
    {
     "name": "stdout",
     "output_type": "stream",
     "text": [
      "ID=  2  Erreur :AC3 n'est pas vérifiée car il existe une affectation x_prime : {'S2': 19}  pour laquelle la decision change à : L\n",
      "Verification de AC1 pour la ligne dont l'id est 2...\n",
      "Verification de AC2 et AC3 pour la ligne dont l'id est 2...\n",
      "ID=  2  Erreur :AC3 n'est pas vérifiée car il existe une affectation x_prime : {'S2': 19}  pour laquelle la decision change à : L\n",
      "Verification de AC1 pour la ligne dont l'id est 2...\n",
      "Verification de AC2 et AC3 pour la ligne dont l'id est 2...\n",
      "ID=  2  Erreur :AC3 n'est pas vérifiée car il existe une affectation x_prime : {'S2': 19}  pour laquelle la decision change à : L\n",
      "Verification de AC1 pour la ligne dont l'id est 2...\n",
      "Verification de AC2 et AC3 pour la ligne dont l'id est 2...\n"
     ]
    },
    {
     "name": "stderr",
     "output_type": "stream",
     "text": []
    },
    {
     "name": "stdout",
     "output_type": "stream",
     "text": [
      "ID=  2  Erreur :AC3 n'est pas vérifiée car il existe une affectation x_prime : {'S2': 19}  pour laquelle la decision change à : L\n",
      "Verification de AC1 pour la ligne dont l'id est 2...\n",
      "Verification de AC2 et AC3 pour la ligne dont l'id est 2...\n",
      "ID=  2  Erreur :AC3 n'est pas vérifiée car il existe une affectation x_prime : {'S1': 13, 'S3': 20}  pour laquelle la decision change à : L\n",
      "Verification de AC1 pour la ligne dont l'id est 2...\n",
      "Verification de AC2 et AC3 pour la ligne dont l'id est 2...\n"
     ]
    },
    {
     "name": "stderr",
     "output_type": "stream",
     "text": [
      "100%|██████████| 31/31 [00:26<00:00,  1.17it/s]]\n",
      " 51%|█████     | 65/127 [00:48<02:46,  2.68s/it]"
     ]
    },
    {
     "name": "stdout",
     "output_type": "stream",
     "text": [
      "ID=  2  Erreur :AC3 n'est pas vérifiée car il existe une affectation x_prime : {'S2': 19}  pour laquelle la decision change à : L\n",
      "Exploration de :  ('S4', 'Logique', 'BDD')\n",
      "Verification de BC1_2...\n",
      "id :  2\n"
     ]
    },
    {
     "name": "stderr",
     "output_type": "stream",
     "text": []
    },
    {
     "name": "stdout",
     "output_type": "stream",
     "text": [
      "Verification de AC1 pour la ligne dont l'id est 2...\n",
      "Verification de AC2 et AC3 pour la ligne dont l'id est 2...\n",
      "ID=  2  Erreur :AC3 n'est pas vérifiée car il existe une affectation x_prime : {'S1': 17, 'S4': 20}  pour laquelle la decision change à : L\n",
      "Verification de AC1 pour la ligne dont l'id est 2...\n",
      "Verification de AC2 et AC3 pour la ligne dont l'id est 2...\n",
      "ID=  2  Erreur :AC3 n'est pas vérifiée car il existe une affectation x_prime : {'S3': 14, 'S4': 20}  pour laquelle la decision change à : L\n",
      "Verification de AC1 pour la ligne dont l'id est 2...\n",
      "Verification de AC2 et AC3 pour la ligne dont l'id est 2...\n",
      "ID=  2  Erreur : AC2 n'est pas vérifiée, veuillez saisir un superset de l'ensemble des variables sélectionnées\n",
      "Verification de AC1 pour la ligne dont l'id est 2...\n",
      "Verification de AC2 et AC3 pour la ligne dont l'id est 2...\n",
      "ID=  2  Erreur :AC3 n'est pas vérifiée car il existe une affectation x_prime : {'S2': 19}  pour laquelle la decision change à : L\n",
      "Verification de AC1 pour la ligne dont l'id est 2...\n",
      "Verification de AC2 et AC3 pour la ligne dont l'id est 2...\n",
      "ID=  2  Erreur :AC3 n'est pas vérifiée car il existe une affectation x_prime : {'S2': 19}  pour laquelle la decision change à : L\n",
      "Verification de AC1 pour la ligne dont l'id est 2...\n",
      "Verification de AC2 et AC3 pour la ligne dont l'id est 2...\n",
      "ID=  2  Erreur :AC3 n'est pas vérifiée car il existe une affectation x_prime : {'S2': 19}  pour laquelle la decision change à : L\n",
      "Verification de AC1 pour la ligne dont l'id est 2...\n",
      "Verification de AC2 et AC3 pour la ligne dont l'id est 2...\n",
      "ID=  2  Erreur :AC3 n'est pas vérifiée car il existe une affectation x_prime : {'S1': 17, 'S4': 20}  pour laquelle la decision change à : L\n",
      "Verification de AC1 pour la ligne dont l'id est 2...\n",
      "Verification de AC2 et AC3 pour la ligne dont l'id est 2...\n",
      "ID=  2  Erreur :AC3 n'est pas vérifiée car il existe une affectation x_prime : {'S3': 14, 'S4': 20}  pour laquelle la decision change à : L\n",
      "Verification de AC1 pour la ligne dont l'id est 2...\n",
      "Verification de AC2 et AC3 pour la ligne dont l'id est 2...\n",
      "ID=  2  Erreur :AC3 n'est pas vérifiée car il existe une affectation x_prime : {'S1': 13, 'S3': 20}  pour laquelle la decision change à : L\n",
      "Verification de AC1 pour la ligne dont l'id est 2...\n",
      "Verification de AC2 et AC3 pour la ligne dont l'id est 2...\n",
      "ID=  2  Erreur :AC3 n'est pas vérifiée car il existe une affectation x_prime : {'S2': 19}  pour laquelle la decision change à : L\n",
      "Verification de AC1 pour la ligne dont l'id est 2...\n",
      "Verification de AC2 et AC3 pour la ligne dont l'id est 2...\n",
      "ID=  2  Erreur :AC3 n'est pas vérifiée car il existe une affectation x_prime : {'S2': 19}  pour laquelle la decision change à : L\n",
      "Verification de AC1 pour la ligne dont l'id est 2...\n",
      "Verification de AC2 et AC3 pour la ligne dont l'id est 2...\n"
     ]
    },
    {
     "name": "stderr",
     "output_type": "stream",
     "text": []
    },
    {
     "name": "stdout",
     "output_type": "stream",
     "text": [
      "ID=  2  Erreur :AC3 n'est pas vérifiée car il existe une affectation x_prime : {'S2': 19}  pour laquelle la decision change à : L\n",
      "Verification de AC1 pour la ligne dont l'id est 2...\n",
      "Verification de AC2 et AC3 pour la ligne dont l'id est 2...\n",
      "ID=  2  Erreur :AC3 n'est pas vérifiée car il existe une affectation x_prime : {'S2': 19}  pour laquelle la decision change à : L\n",
      "Verification de AC1 pour la ligne dont l'id est 2...\n",
      "Verification de AC2 et AC3 pour la ligne dont l'id est 2...\n",
      "ID=  2  Erreur :AC3 n'est pas vérifiée car il existe une affectation x_prime : {'S1': 13, 'S3': 20}  pour laquelle la decision change à : L\n",
      "Verification de AC1 pour la ligne dont l'id est 2...\n",
      "Verification de AC2 et AC3 pour la ligne dont l'id est 2...\n"
     ]
    },
    {
     "name": "stderr",
     "output_type": "stream",
     "text": [
      "100%|██████████| 31/31 [00:01<00:00, 21.89it/s]\n",
      " 52%|█████▏    | 66/127 [00:49<02:34,  2.53s/it]"
     ]
    },
    {
     "name": "stdout",
     "output_type": "stream",
     "text": [
      "ID=  2  Erreur :AC3 n'est pas vérifiée car il existe une affectation x_prime : {'S2': 19}  pour laquelle la decision change à : L\n",
      "Exploration de :  ('S4', 'S5', 'BDD')\n",
      "Verification de BC1_2...\n",
      "Exploration de :  ('S4', 'S5', 'Logique')\n",
      "Verification de BC1_2...\n",
      "Exploration de :  ('S3', 'Logique', 'BDD')\n",
      "Verification de BC1_2...\n",
      "id :  2\n"
     ]
    },
    {
     "name": "stderr",
     "output_type": "stream",
     "text": [
      "100%|██████████| 31/31 [00:00<00:00, 249.03it/s]\n",
      " 54%|█████▍    | 69/127 [00:49<01:36,  1.67s/it]"
     ]
    },
    {
     "name": "stdout",
     "output_type": "stream",
     "text": [
      "Verification de AC1 pour la ligne dont l'id est 2...\n",
      "Verification de AC2 et AC3 pour la ligne dont l'id est 2...\n",
      "ID=  2  Erreur :AC3 n'est pas vérifiée car il existe une affectation x_prime : {'S1': 13, 'S3': 20}  pour laquelle la decision change à : L\n",
      "Verification de AC1 pour la ligne dont l'id est 2...\n",
      "Verification de AC2 et AC3 pour la ligne dont l'id est 2...\n",
      "ID=  2  Erreur : AC2 n'est pas vérifiée, veuillez saisir un superset de l'ensemble des variables sélectionnées\n",
      "Verification de AC1 pour la ligne dont l'id est 2...\n",
      "Verification de AC2 et AC3 pour la ligne dont l'id est 2...\n",
      "ID=  2  Erreur :AC3 n'est pas vérifiée car il existe une affectation x_prime : {'S2': 19}  pour laquelle la decision change à : L\n",
      "Verification de AC1 pour la ligne dont l'id est 2...\n",
      "Verification de AC2 et AC3 pour la ligne dont l'id est 2...\n",
      "ID=  2  Erreur :AC3 n'est pas vérifiée car il existe une affectation x_prime : {'S2': 19}  pour laquelle la decision change à : L\n",
      "Verification de AC1 pour la ligne dont l'id est 2...\n",
      "Verification de AC2 et AC3 pour la ligne dont l'id est 2...\n",
      "ID=  2  Erreur :AC3 n'est pas vérifiée car il existe une affectation x_prime : {'S2': 19}  pour laquelle la decision change à : L\n",
      "Verification de AC1 pour la ligne dont l'id est 2...\n",
      "Verification de AC2 et AC3 pour la ligne dont l'id est 2...\n",
      "ID=  2  Erreur :AC3 n'est pas vérifiée car il existe une affectation x_prime : {'S1': 13, 'S3': 20}  pour laquelle la decision change à : L\n",
      "Verification de AC1 pour la ligne dont l'id est 2...\n",
      "Verification de AC2 et AC3 pour la ligne dont l'id est 2...\n",
      "ID=  2  Erreur :AC3 n'est pas vérifiée car il existe une affectation x_prime : {'S2': 19}  pour laquelle la decision change à : L\n",
      "Exploration de :  ('S3', 'S5', 'BDD')\n",
      "Verification de BC1_2...\n",
      "Exploration de :  ('S3', 'S5', 'Logique')\n",
      "Verification de BC1_2...\n",
      "Exploration de :  ('S3', 'S4', 'BDD')\n",
      "Verification de BC1_2...\n",
      "Exploration de :  ('S3', 'S4', 'Logique')\n",
      "Verification de BC1_2...\n",
      "Exploration de :  ('S3', 'S4', 'S5')\n",
      "Verification de BC1_2...\n",
      "Exploration de :  ('S2', 'Logique', 'BDD')\n",
      "Verification de BC1_2...\n",
      "Exploration de :  ('S2', 'S5', 'BDD')\n",
      "Verification de BC1_2...\n"
     ]
    },
    {
     "name": "stderr",
     "output_type": "stream",
     "text": [
      " 61%|██████    | 77/127 [00:49<00:36,  1.38it/s]"
     ]
    },
    {
     "name": "stdout",
     "output_type": "stream",
     "text": [
      "Exploration de :  ('S2', 'S5', 'Logique')\n",
      "Verification de BC1_2...\n",
      "Exploration de :  ('S2', 'S4', 'BDD')\n",
      "Verification de BC1_2...\n",
      "Exploration de :  ('S2', 'S4', 'Logique')\n",
      "Verification de BC1_2...\n",
      "Exploration de :  ('S2', 'S4', 'S5')\n",
      "Verification de BC1_2...\n",
      "Exploration de :  ('S2', 'S3', 'BDD')\n",
      "Verification de BC1_2...\n",
      "Exploration de :  ('S2', 'S3', 'Logique')\n",
      "Verification de BC1_2...\n",
      "Exploration de :  ('S2', 'S3', 'S5')\n",
      "Verification de BC1_2...\n",
      "Exploration de :  ('S2', 'S3', 'S4')\n",
      "Verification de BC1_2...\n",
      "Exploration de :  ('S1', 'Logique', 'BDD')\n",
      "Verification de BC1_2...\n",
      "id :  2\n"
     ]
    },
    {
     "name": "stderr",
     "output_type": "stream",
     "text": [
      "100%|██████████| 31/31 [00:00<00:00, 1027.63it/s]\n",
      " 67%|██████▋   | 85/127 [00:50<00:17,  2.46it/s]"
     ]
    },
    {
     "name": "stdout",
     "output_type": "stream",
     "text": [
      "Verification de AC1 pour la ligne dont l'id est 2...\n",
      "Verification de AC2 et AC3 pour la ligne dont l'id est 2...\n",
      "ID=  2  Erreur : AC2 n'est pas vérifiée, veuillez saisir un superset de l'ensemble des variables sélectionnées\n",
      "Verification de AC1 pour la ligne dont l'id est 2...\n",
      "Verification de AC2 et AC3 pour la ligne dont l'id est 2...\n",
      "ID=  2  Erreur :AC3 n'est pas vérifiée car il existe une affectation x_prime : {'S2': 19}  pour laquelle la decision change à : L\n",
      "Verification de AC1 pour la ligne dont l'id est 2...\n",
      "Verification de AC2 et AC3 pour la ligne dont l'id est 2...\n",
      "ID=  2  Erreur :AC3 n'est pas vérifiée car il existe une affectation x_prime : {'S2': 19}  pour laquelle la decision change à : L\n",
      "Exploration de :  ('S1', 'S5', 'BDD')\n",
      "Verification de BC1_2...\n",
      "Exploration de :  ('S1', 'S5', 'Logique')\n",
      "Verification de BC1_2...\n",
      "Exploration de :  ('S1', 'S4', 'BDD')\n",
      "Verification de BC1_2...\n",
      "Exploration de :  ('S1', 'S4', 'Logique')\n",
      "Verification de BC1_2...\n",
      "Exploration de :  ('S1', 'S4', 'S5')\n",
      "Verification de BC1_2...\n"
     ]
    },
    {
     "name": "stderr",
     "output_type": "stream",
     "text": [
      " 72%|███████▏  | 91/127 [00:50<00:10,  3.56it/s]"
     ]
    },
    {
     "name": "stdout",
     "output_type": "stream",
     "text": [
      "Exploration de :  ('S1', 'S3', 'BDD')\n",
      "Verification de BC1_2...\n",
      "Exploration de :  ('S1', 'S3', 'Logique')\n",
      "Verification de BC1_2...\n",
      "Exploration de :  ('S1', 'S3', 'S5')\n",
      "Verification de BC1_2...\n",
      "Exploration de :  ('S1', 'S3', 'S4')\n",
      "Verification de BC1_2...\n",
      "Exploration de :  ('S1', 'S2', 'BDD')\n"
     ]
    },
    {
     "name": "stderr",
     "output_type": "stream",
     "text": [
      " 76%|███████▋  | 97/127 [00:50<00:05,  5.06it/s]"
     ]
    },
    {
     "name": "stdout",
     "output_type": "stream",
     "text": [
      "Verification de BC1_2...\n",
      "Exploration de :  ('S1', 'S2', 'Logique')\n",
      "Verification de BC1_2...\n",
      "Exploration de :  ('S1', 'S2', 'S5')\n",
      "Verification de BC1_2...\n",
      "Exploration de :  ('S1', 'S2', 'S4')\n",
      "Verification de BC1_2...\n",
      "Exploration de :  ('S1', 'S2', 'S3')\n",
      "Verification de BC1_2...\n",
      "Exploration de :  ('Logique', 'BDD')\n",
      "Verification de BC1_2...\n",
      "id :  2\n"
     ]
    },
    {
     "name": "stderr",
     "output_type": "stream",
     "text": [
      "100%|██████████| 63/63 [00:00<00:00, 1875.75it/s]\n"
     ]
    },
    {
     "name": "stdout",
     "output_type": "stream",
     "text": [
      "Verification de AC1 pour la ligne dont l'id est 2...\n",
      "Verification de AC2 et AC3 pour la ligne dont l'id est 2...\n",
      "ID=  2  Erreur : AC2 n'est pas vérifiée, veuillez saisir un superset de l'ensemble des variables sélectionnées\n",
      "Verification de AC1 pour la ligne dont l'id est 2...\n",
      "Verification de AC2 et AC3 pour la ligne dont l'id est 2...\n",
      "ID=  2  Erreur : AC2 n'est pas vérifiée, veuillez saisir un superset de l'ensemble des variables sélectionnées\n",
      "Verification de AC1 pour la ligne dont l'id est 2...\n",
      "Verification de AC2 et AC3 pour la ligne dont l'id est 2...\n",
      "ID=  2  Erreur : AC2 n'est pas vérifiée, veuillez saisir un superset de l'ensemble des variables sélectionnées\n",
      "Verification de AC1 pour la ligne dont l'id est 2...\n",
      "Verification de AC2 et AC3 pour la ligne dont l'id est 2...\n",
      "ID=  2  Erreur : AC2 n'est pas vérifiée, veuillez saisir un superset de l'ensemble des variables sélectionnées\n",
      "Verification de AC1 pour la ligne dont l'id est 2...\n",
      "Verification de AC2 et AC3 pour la ligne dont l'id est 2...\n",
      "ID=  2  Erreur : AC2 n'est pas vérifiée, veuillez saisir un superset de l'ensemble des variables sélectionnées\n",
      "Verification de AC1 pour la ligne dont l'id est 2...\n",
      "Verification de AC2 et AC3 pour la ligne dont l'id est 2...\n",
      "ID=  2  Erreur :AC3 n'est pas vérifiée car il existe une affectation x_prime : {'S2': 19}  pour laquelle la decision change à : L\n",
      "Verification de AC1 pour la ligne dont l'id est 2...\n",
      "Verification de AC2 et AC3 pour la ligne dont l'id est 2...\n",
      "ID=  2  Erreur :AC3 n'est pas vérifiée car il existe une affectation x_prime : {'S2': 19}  pour laquelle la decision change à : L\n",
      "Exploration de :  ('S5', 'BDD')\n",
      "Verification de BC1_2...\n",
      "id :  2\n"
     ]
    },
    {
     "name": "stderr",
     "output_type": "stream",
     "text": []
    },
    {
     "name": "stdout",
     "output_type": "stream",
     "text": [
      "Verification de AC1 pour la ligne dont l'id est 2...\n",
      "Verification de AC2 et AC3 pour la ligne dont l'id est 2...\n",
      "ID=  2  Erreur :AC3 n'est pas vérifiée car il existe une affectation x_prime : {'S4': 16, 'S5': 20}  pour laquelle la decision change à : L\n",
      "Verification de AC1 pour la ligne dont l'id est 2...\n",
      "Verification de AC2 et AC3 pour la ligne dont l'id est 2...\n",
      "ID=  2  Erreur :AC3 n'est pas vérifiée car il existe une affectation x_prime : {'S1': 15, 'S5': 20}  pour laquelle la decision change à : L\n",
      "Verification de AC1 pour la ligne dont l'id est 2...\n",
      "Verification de AC2 et AC3 pour la ligne dont l'id est 2...\n",
      "ID=  2  Erreur :AC3 n'est pas vérifiée car il existe une affectation x_prime : {'S3': 12, 'S5': 20}  pour laquelle la decision change à : L\n",
      "Verification de AC1 pour la ligne dont l'id est 2...\n",
      "Verification de AC2 et AC3 pour la ligne dont l'id est 2...\n",
      "ID=  2  Erreur :AC3 n'est pas vérifiée car il existe une affectation x_prime : {'S2': 19}  pour laquelle la decision change à : L\n",
      "Verification de AC1 pour la ligne dont l'id est 2...\n",
      "Verification de AC2 et AC3 pour la ligne dont l'id est 2...\n",
      "ID=  2  Erreur : AC2 n'est pas vérifiée, veuillez saisir un superset de l'ensemble des variables sélectionnées\n",
      "Verification de AC1 pour la ligne dont l'id est 2...\n",
      "Verification de AC2 et AC3 pour la ligne dont l'id est 2...\n",
      "ID=  2  Erreur :AC3 n'est pas vérifiée car il existe une affectation x_prime : {'S1': 13, 'S3': 20}  pour laquelle la decision change à : L\n",
      "Verification de AC1 pour la ligne dont l'id est 2...\n",
      "Verification de AC2 et AC3 pour la ligne dont l'id est 2...\n",
      "ID=  2  Erreur :AC3 n'est pas vérifiée car il existe une affectation x_prime : {'S3': 12, 'S5': 20}  pour laquelle la decision change à : L\n",
      "Verification de AC1 pour la ligne dont l'id est 2...\n",
      "Verification de AC2 et AC3 pour la ligne dont l'id est 2...\n",
      "ID=  2  Erreur :AC3 n'est pas vérifiée car il existe une affectation x_prime : {'S2': 19}  pour laquelle la decision change à : L\n",
      "Verification de AC1 pour la ligne dont l'id est 2...\n",
      "Verification de AC2 et AC3 pour la ligne dont l'id est 2...\n",
      "ID=  2  Erreur :AC3 n'est pas vérifiée car il existe une affectation x_prime : {'S2': 19}  pour laquelle la decision change à : L\n",
      "Verification de AC1 pour la ligne dont l'id est 2...\n",
      "Verification de AC2 et AC3 pour la ligne dont l'id est 2...\n"
     ]
    },
    {
     "name": "stderr",
     "output_type": "stream",
     "text": []
    },
    {
     "name": "stdout",
     "output_type": "stream",
     "text": [
      "ID=  2  Erreur :AC3 n'est pas vérifiée car il existe une affectation x_prime : {'S3': 14, 'S4': 20}  pour laquelle la decision change à : L\n",
      "Verification de AC1 pour la ligne dont l'id est 2...\n",
      "Verification de AC2 et AC3 pour la ligne dont l'id est 2...\n",
      "ID=  2  Erreur :AC3 n'est pas vérifiée car il existe une affectation x_prime : {'S2': 19}  pour laquelle la decision change à : L\n",
      "Verification de AC1 pour la ligne dont l'id est 2...\n",
      "Verification de AC2 et AC3 pour la ligne dont l'id est 2...\n",
      "ID=  2  Erreur :AC3 n'est pas vérifiée car il existe une affectation x_prime : {'S2': 19}  pour laquelle la decision change à : L\n",
      "Verification de AC1 pour la ligne dont l'id est 2...\n",
      "Verification de AC2 et AC3 pour la ligne dont l'id est 2...\n",
      "ID=  2  Erreur :AC3 n'est pas vérifiée car il existe une affectation x_prime : {'S1': 17, 'S4': 20}  pour laquelle la decision change à : L\n",
      "Verification de AC1 pour la ligne dont l'id est 2...\n",
      "Verification de AC2 et AC3 pour la ligne dont l'id est 2...\n",
      "ID=  2  Erreur :AC3 n'est pas vérifiée car il existe une affectation x_prime : {'S4': 16, 'S5': 20}  pour laquelle la decision change à : L\n",
      "Verification de AC1 pour la ligne dont l'id est 2...\n",
      "Verification de AC2 et AC3 pour la ligne dont l'id est 2...\n",
      "ID=  2  Erreur :AC3 n'est pas vérifiée car il existe une affectation x_prime : {'S1': 15, 'S5': 20}  pour laquelle la decision change à : L\n",
      "Verification de AC1 pour la ligne dont l'id est 2...\n",
      "Verification de AC2 et AC3 pour la ligne dont l'id est 2...\n"
     ]
    },
    {
     "name": "stderr",
     "output_type": "stream",
     "text": []
    },
    {
     "name": "stdout",
     "output_type": "stream",
     "text": [
      "ID=  2  Erreur :AC3 n'est pas vérifiée car il existe une affectation x_prime : {'S2': 19}  pour laquelle la decision change à : L\n",
      "Verification de AC1 pour la ligne dont l'id est 2...\n",
      "Verification de AC2 et AC3 pour la ligne dont l'id est 2...\n",
      "ID=  2  Erreur :AC3 n'est pas vérifiée car il existe une affectation x_prime : {'S2': 19}  pour laquelle la decision change à : L\n",
      "Verification de AC1 pour la ligne dont l'id est 2...\n",
      "Verification de AC2 et AC3 pour la ligne dont l'id est 2...\n",
      "ID=  2  Erreur :AC3 n'est pas vérifiée car il existe une affectation x_prime : {'S2': 19}  pour laquelle la decision change à : L\n",
      "Verification de AC1 pour la ligne dont l'id est 2...\n",
      "Verification de AC2 et AC3 pour la ligne dont l'id est 2...\n",
      "ID=  2  Erreur :AC3 n'est pas vérifiée car il existe une affectation x_prime : {'S1': 13, 'S3': 20}  pour laquelle la decision change à : L\n",
      "Verification de AC1 pour la ligne dont l'id est 2...\n",
      "Verification de AC2 et AC3 pour la ligne dont l'id est 2...\n",
      "ID=  2  Erreur :AC3 n'est pas vérifiée car il existe une affectation x_prime : {'S2': 19}  pour laquelle la decision change à : L\n",
      "Verification de AC1 pour la ligne dont l'id est 2...\n",
      "Verification de AC2 et AC3 pour la ligne dont l'id est 2...\n",
      "ID=  2  Erreur :AC3 n'est pas vérifiée car il existe une affectation x_prime : {'S2': 19}  pour laquelle la decision change à : L\n",
      "Verification de AC1 pour la ligne dont l'id est 2...\n",
      "Verification de AC2 et AC3 pour la ligne dont l'id est 2...\n",
      "ID=  2  Erreur :AC3 n'est pas vérifiée car il existe une affectation x_prime : {'S1': 17, 'S4': 20}  pour laquelle la decision change à : L\n",
      "Verification de AC1 pour la ligne dont l'id est 2...\n",
      "Verification de AC2 et AC3 pour la ligne dont l'id est 2...\n",
      "ID=  2  Erreur :AC3 n'est pas vérifiée car il existe une affectation x_prime : {'S2': 19}  pour laquelle la decision change à : L\n",
      "Verification de AC1 pour la ligne dont l'id est 2...\n",
      "Verification de AC2 et AC3 pour la ligne dont l'id est 2...\n"
     ]
    },
    {
     "name": "stderr",
     "output_type": "stream",
     "text": []
    },
    {
     "name": "stdout",
     "output_type": "stream",
     "text": [
      "ID=  2  Erreur :AC3 n'est pas vérifiée car il existe une affectation x_prime : {'S1': 13, 'S3': 20}  pour laquelle la decision change à : L\n",
      "Verification de AC1 pour la ligne dont l'id est 2...\n",
      "Verification de AC2 et AC3 pour la ligne dont l'id est 2...\n",
      "ID=  2  Erreur :AC3 n'est pas vérifiée car il existe une affectation x_prime : {'S3': 14, 'S4': 20}  pour laquelle la decision change à : L\n",
      "Verification de AC1 pour la ligne dont l'id est 2...\n",
      "Verification de AC2 et AC3 pour la ligne dont l'id est 2...\n"
     ]
    },
    {
     "name": "stderr",
     "output_type": "stream",
     "text": []
    },
    {
     "name": "stdout",
     "output_type": "stream",
     "text": [
      "ID=  2  Erreur :AC3 n'est pas vérifiée car il existe une affectation x_prime : {'S1': 13, 'S3': 20}  pour laquelle la decision change à : L\n",
      "Verification de AC1 pour la ligne dont l'id est 2...\n",
      "Verification de AC2 et AC3 pour la ligne dont l'id est 2...\n",
      "ID=  2  Erreur :AC3 n'est pas vérifiée car il existe une affectation x_prime : {'S2': 19}  pour laquelle la decision change à : L\n",
      "Verification de AC1 pour la ligne dont l'id est 2...\n",
      "Verification de AC2 et AC3 pour la ligne dont l'id est 2...\n",
      "ID=  2  Erreur :AC3 n'est pas vérifiée car il existe une affectation x_prime : {'S2': 19}  pour laquelle la decision change à : L\n",
      "Verification de AC1 pour la ligne dont l'id est 2...\n",
      "Verification de AC2 et AC3 pour la ligne dont l'id est 2...\n"
     ]
    },
    {
     "name": "stderr",
     "output_type": "stream",
     "text": []
    },
    {
     "name": "stdout",
     "output_type": "stream",
     "text": [
      "ID=  2  Erreur :AC3 n'est pas vérifiée car il existe une affectation x_prime : {'S2': 19}  pour laquelle la decision change à : L\n",
      "Verification de AC1 pour la ligne dont l'id est 2...\n",
      "Verification de AC2 et AC3 pour la ligne dont l'id est 2...\n"
     ]
    },
    {
     "name": "stderr",
     "output_type": "stream",
     "text": []
    },
    {
     "name": "stdout",
     "output_type": "stream",
     "text": [
      "ID=  2  Erreur :AC3 n'est pas vérifiée car il existe une affectation x_prime : {'S2': 19}  pour laquelle la decision change à : L\n",
      "Verification de AC1 pour la ligne dont l'id est 2...\n",
      "Verification de AC2 et AC3 pour la ligne dont l'id est 2...\n"
     ]
    },
    {
     "name": "stderr",
     "output_type": "stream",
     "text": [
      "100%|██████████| 63/63 [00:14<00:00,  4.44it/s]\n"
     ]
    },
    {
     "name": "stdout",
     "output_type": "stream",
     "text": [
      "ID=  2  Erreur :AC3 n'est pas vérifiée car il existe une affectation x_prime : {'S2': 19}  pour laquelle la decision change à : L\n",
      "Exploration de :  ('S5', 'Logique')\n",
      "Verification de BC1_2...\n",
      "id :  2\n"
     ]
    },
    {
     "name": "stderr",
     "output_type": "stream",
     "text": []
    },
    {
     "name": "stdout",
     "output_type": "stream",
     "text": [
      "Verification de AC1 pour la ligne dont l'id est 2...\n",
      "Verification de AC2 et AC3 pour la ligne dont l'id est 2...\n",
      "ID=  2  Erreur :AC3 n'est pas vérifiée car il existe une affectation x_prime : {'S2': 19}  pour laquelle la decision change à : L\n",
      "Verification de AC1 pour la ligne dont l'id est 2...\n",
      "Verification de AC2 et AC3 pour la ligne dont l'id est 2...\n",
      "ID=  2  Erreur : AC2 n'est pas vérifiée, veuillez saisir un superset de l'ensemble des variables sélectionnées\n",
      "Verification de AC1 pour la ligne dont l'id est 2...\n",
      "Verification de AC2 et AC3 pour la ligne dont l'id est 2...\n",
      "ID=  2  Erreur :AC3 n'est pas vérifiée car il existe une affectation x_prime : {'S4': 16, 'S5': 20}  pour laquelle la decision change à : L\n",
      "Verification de AC1 pour la ligne dont l'id est 2...\n",
      "Verification de AC2 et AC3 pour la ligne dont l'id est 2...\n",
      "ID=  2  Erreur :AC3 n'est pas vérifiée car il existe une affectation x_prime : {'S1': 15, 'S5': 20}  pour laquelle la decision change à : L\n",
      "Verification de AC1 pour la ligne dont l'id est 2...\n",
      "Verification de AC2 et AC3 pour la ligne dont l'id est 2...\n",
      "ID=  2  Erreur :AC3 n'est pas vérifiée car il existe une affectation x_prime : {'S3': 12, 'S5': 20}  pour laquelle la decision change à : L\n",
      "Verification de AC1 pour la ligne dont l'id est 2...\n",
      "Verification de AC2 et AC3 pour la ligne dont l'id est 2...\n",
      "ID=  2  Erreur :AC3 n'est pas vérifiée car il existe une affectation x_prime : {'S1': 17, 'S4': 20}  pour laquelle la decision change à : L\n",
      "Verification de AC1 pour la ligne dont l'id est 2...\n",
      "Verification de AC2 et AC3 pour la ligne dont l'id est 2...\n",
      "ID=  2  Erreur :AC3 n'est pas vérifiée car il existe une affectation x_prime : {'S4': 16, 'S5': 20}  pour laquelle la decision change à : L\n",
      "Verification de AC1 pour la ligne dont l'id est 2...\n",
      "Verification de AC2 et AC3 pour la ligne dont l'id est 2...\n",
      "ID=  2  Erreur :AC3 n'est pas vérifiée car il existe une affectation x_prime : {'S1': 15, 'S5': 20}  pour laquelle la decision change à : L\n",
      "Verification de AC1 pour la ligne dont l'id est 2...\n",
      "Verification de AC2 et AC3 pour la ligne dont l'id est 2...\n",
      "ID=  2  Erreur :AC3 n'est pas vérifiée car il existe une affectation x_prime : {'S1': 13, 'S3': 20}  pour laquelle la decision change à : L\n",
      "Verification de AC1 pour la ligne dont l'id est 2...\n",
      "Verification de AC2 et AC3 pour la ligne dont l'id est 2...\n",
      "ID=  2  Erreur :AC3 n'est pas vérifiée car il existe une affectation x_prime : {'S3': 12, 'S5': 20}  pour laquelle la decision change à : L\n",
      "Verification de AC1 pour la ligne dont l'id est 2...\n",
      "Verification de AC2 et AC3 pour la ligne dont l'id est 2...\n",
      "ID=  2  Erreur :AC3 n'est pas vérifiée car il existe une affectation x_prime : {'S2': 19}  pour laquelle la decision change à : L\n",
      "Verification de AC1 pour la ligne dont l'id est 2...\n",
      "Verification de AC2 et AC3 pour la ligne dont l'id est 2...\n",
      "ID=  2  Erreur :AC3 n'est pas vérifiée car il existe une affectation x_prime : {'S3': 14, 'S4': 20}  pour laquelle la decision change à : L\n",
      "Verification de AC1 pour la ligne dont l'id est 2...\n",
      "Verification de AC2 et AC3 pour la ligne dont l'id est 2...\n",
      "ID=  2  Erreur :AC3 n'est pas vérifiée car il existe une affectation x_prime : {'S2': 19}  pour laquelle la decision change à : L\n",
      "Verification de AC1 pour la ligne dont l'id est 2...\n",
      "Verification de AC2 et AC3 pour la ligne dont l'id est 2...\n",
      "ID=  2  Erreur :AC3 n'est pas vérifiée car il existe une affectation x_prime : {'S2': 19}  pour laquelle la decision change à : L\n",
      "Verification de AC1 pour la ligne dont l'id est 2...\n",
      "Verification de AC2 et AC3 pour la ligne dont l'id est 2...\n",
      "ID=  2  Erreur :AC3 n'est pas vérifiée car il existe une affectation x_prime : {'S2': 19}  pour laquelle la decision change à : L\n",
      "Verification de AC1 pour la ligne dont l'id est 2...\n",
      "Verification de AC2 et AC3 pour la ligne dont l'id est 2...\n",
      "ID=  2  Erreur :AC3 n'est pas vérifiée car il existe une affectation x_prime : {'S1': 17, 'S4': 20}  pour laquelle la decision change à : L\n",
      "Verification de AC1 pour la ligne dont l'id est 2...\n",
      "Verification de AC2 et AC3 pour la ligne dont l'id est 2...\n"
     ]
    },
    {
     "name": "stderr",
     "output_type": "stream",
     "text": []
    },
    {
     "name": "stdout",
     "output_type": "stream",
     "text": [
      "ID=  2  Erreur :AC3 n'est pas vérifiée car il existe une affectation x_prime : {'S2': 19}  pour laquelle la decision change à : L\n",
      "Verification de AC1 pour la ligne dont l'id est 2...\n",
      "Verification de AC2 et AC3 pour la ligne dont l'id est 2...\n",
      "ID=  2  Erreur :AC3 n'est pas vérifiée car il existe une affectation x_prime : {'S2': 19}  pour laquelle la decision change à : L\n",
      "Verification de AC1 pour la ligne dont l'id est 2...\n",
      "Verification de AC2 et AC3 pour la ligne dont l'id est 2...\n",
      "ID=  2  Erreur :AC3 n'est pas vérifiée car il existe une affectation x_prime : {'S1': 13, 'S3': 20}  pour laquelle la decision change à : L\n",
      "Verification de AC1 pour la ligne dont l'id est 2...\n",
      "Verification de AC2 et AC3 pour la ligne dont l'id est 2...\n",
      "ID=  2  Erreur :AC3 n'est pas vérifiée car il existe une affectation x_prime : {'S2': 19}  pour laquelle la decision change à : L\n",
      "Verification de AC1 pour la ligne dont l'id est 2...\n",
      "Verification de AC2 et AC3 pour la ligne dont l'id est 2...\n",
      "ID=  2  Erreur :AC3 n'est pas vérifiée car il existe une affectation x_prime : {'S2': 19}  pour laquelle la decision change à : L\n",
      "Verification de AC1 pour la ligne dont l'id est 2...\n",
      "Verification de AC2 et AC3 pour la ligne dont l'id est 2...\n",
      "ID=  2  Erreur :AC3 n'est pas vérifiée car il existe une affectation x_prime : {'S2': 19}  pour laquelle la decision change à : L\n",
      "Verification de AC1 pour la ligne dont l'id est 2...\n",
      "Verification de AC2 et AC3 pour la ligne dont l'id est 2...\n",
      "ID=  2  Erreur :AC3 n'est pas vérifiée car il existe une affectation x_prime : {'S3': 14, 'S4': 20}  pour laquelle la decision change à : L\n",
      "Verification de AC1 pour la ligne dont l'id est 2...\n",
      "Verification de AC2 et AC3 pour la ligne dont l'id est 2...\n",
      "ID=  2  Erreur :AC3 n'est pas vérifiée car il existe une affectation x_prime : {'S1': 13, 'S3': 20}  pour laquelle la decision change à : L\n",
      "Verification de AC1 pour la ligne dont l'id est 2...\n",
      "Verification de AC2 et AC3 pour la ligne dont l'id est 2...\n"
     ]
    },
    {
     "name": "stderr",
     "output_type": "stream",
     "text": []
    },
    {
     "name": "stdout",
     "output_type": "stream",
     "text": [
      "ID=  2  Erreur :AC3 n'est pas vérifiée car il existe une affectation x_prime : {'S2': 19}  pour laquelle la decision change à : L\n",
      "Verification de AC1 pour la ligne dont l'id est 2...\n",
      "Verification de AC2 et AC3 pour la ligne dont l'id est 2...\n",
      "ID=  2  Erreur :AC3 n'est pas vérifiée car il existe une affectation x_prime : {'S1': 13, 'S3': 20}  pour laquelle la decision change à : L\n",
      "Verification de AC1 pour la ligne dont l'id est 2...\n",
      "Verification de AC2 et AC3 pour la ligne dont l'id est 2...\n",
      "ID=  2  Erreur :AC3 n'est pas vérifiée car il existe une affectation x_prime : {'S2': 19}  pour laquelle la decision change à : L\n",
      "Verification de AC1 pour la ligne dont l'id est 2...\n",
      "Verification de AC2 et AC3 pour la ligne dont l'id est 2...\n"
     ]
    },
    {
     "name": "stderr",
     "output_type": "stream",
     "text": []
    },
    {
     "name": "stdout",
     "output_type": "stream",
     "text": [
      "ID=  2  Erreur :AC3 n'est pas vérifiée car il existe une affectation x_prime : {'S2': 19}  pour laquelle la decision change à : L\n",
      "Verification de AC1 pour la ligne dont l'id est 2...\n",
      "Verification de AC2 et AC3 pour la ligne dont l'id est 2...\n"
     ]
    },
    {
     "name": "stderr",
     "output_type": "stream",
     "text": [
      " 76%|███████▋  | 97/127 [01:10<00:05,  5.06it/s]"
     ]
    },
    {
     "name": "stdout",
     "output_type": "stream",
     "text": [
      "ID=  2  Erreur :AC3 n'est pas vérifiée car il existe une affectation x_prime : {'S2': 19}  pour laquelle la decision change à : L\n",
      "Verification de AC1 pour la ligne dont l'id est 2...\n",
      "Verification de AC2 et AC3 pour la ligne dont l'id est 2...\n"
     ]
    },
    {
     "name": "stderr",
     "output_type": "stream",
     "text": []
    },
    {
     "name": "stdout",
     "output_type": "stream",
     "text": [
      "ID=  2  Erreur :AC3 n'est pas vérifiée car il existe une affectation x_prime : {'S2': 19}  pour laquelle la decision change à : L\n",
      "Verification de AC1 pour la ligne dont l'id est 2...\n",
      "Verification de AC2 et AC3 pour la ligne dont l'id est 2...\n"
     ]
    },
    {
     "name": "stderr",
     "output_type": "stream",
     "text": [
      "100%|██████████| 63/63 [00:11<00:00,  5.29it/s]\n",
      " 80%|████████  | 102/127 [01:16<00:39,  1.58s/it]"
     ]
    },
    {
     "name": "stdout",
     "output_type": "stream",
     "text": [
      "ID=  2  Erreur :AC3 n'est pas vérifiée car il existe une affectation x_prime : {'S2': 19}  pour laquelle la decision change à : L\n",
      "Exploration de :  ('S4', 'BDD')\n",
      "Verification de BC1_2...\n",
      "id :  2\n"
     ]
    },
    {
     "name": "stderr",
     "output_type": "stream",
     "text": []
    },
    {
     "name": "stdout",
     "output_type": "stream",
     "text": [
      "Verification de AC1 pour la ligne dont l'id est 2...\n",
      "Verification de AC2 et AC3 pour la ligne dont l'id est 2...\n",
      "ID=  2  Erreur :AC3 n'est pas vérifiée car il existe une affectation x_prime : {'S2': 19}  pour laquelle la decision change à : L\n",
      "Verification de AC1 pour la ligne dont l'id est 2...\n",
      "Verification de AC2 et AC3 pour la ligne dont l'id est 2...\n",
      "ID=  2  Erreur : AC2 n'est pas vérifiée, veuillez saisir un superset de l'ensemble des variables sélectionnées\n",
      "Verification de AC1 pour la ligne dont l'id est 2...\n",
      "Verification de AC2 et AC3 pour la ligne dont l'id est 2...\n",
      "ID=  2  Erreur :AC3 n'est pas vérifiée car il existe une affectation x_prime : {'S1': 17, 'S4': 20}  pour laquelle la decision change à : L\n",
      "Verification de AC1 pour la ligne dont l'id est 2...\n",
      "Verification de AC2 et AC3 pour la ligne dont l'id est 2...\n",
      "ID=  2  Erreur :AC3 n'est pas vérifiée car il existe une affectation x_prime : {'S3': 14, 'S4': 20}  pour laquelle la decision change à : L\n",
      "Verification de AC1 pour la ligne dont l'id est 2...\n",
      "Verification de AC2 et AC3 pour la ligne dont l'id est 2...\n",
      "ID=  2  Erreur :AC3 n'est pas vérifiée car il existe une affectation x_prime : {'S1': 17, 'S4': 20}  pour laquelle la decision change à : L\n",
      "Verification de AC1 pour la ligne dont l'id est 2...\n",
      "Verification de AC2 et AC3 pour la ligne dont l'id est 2...\n",
      "ID=  2  Erreur :AC3 n'est pas vérifiée car il existe une affectation x_prime : {'S1': 13, 'S3': 20}  pour laquelle la decision change à : L\n",
      "Verification de AC1 pour la ligne dont l'id est 2...\n",
      "Verification de AC2 et AC3 pour la ligne dont l'id est 2...\n",
      "ID=  2  Erreur :AC3 n'est pas vérifiée car il existe une affectation x_prime : {'S3': 14, 'S4': 20}  pour laquelle la decision change à : L\n",
      "Verification de AC1 pour la ligne dont l'id est 2...\n",
      "Verification de AC2 et AC3 pour la ligne dont l'id est 2...\n",
      "ID=  2  Erreur :AC3 n'est pas vérifiée car il existe une affectation x_prime : {'S2': 19}  pour laquelle la decision change à : L\n",
      "Verification de AC1 pour la ligne dont l'id est 2...\n",
      "Verification de AC2 et AC3 pour la ligne dont l'id est 2...\n",
      "ID=  2  Erreur :AC3 n'est pas vérifiée car il existe une affectation x_prime : {'S2': 19}  pour laquelle la decision change à : L\n",
      "Verification de AC1 pour la ligne dont l'id est 2...\n",
      "Verification de AC2 et AC3 pour la ligne dont l'id est 2...\n",
      "ID=  2  Erreur :AC3 n'est pas vérifiée car il existe une affectation x_prime : {'S2': 19}  pour laquelle la decision change à : L\n",
      "Verification de AC1 pour la ligne dont l'id est 2...\n",
      "Verification de AC2 et AC3 pour la ligne dont l'id est 2...\n",
      "ID=  2  Erreur :AC3 n'est pas vérifiée car il existe une affectation x_prime : {'S1': 13, 'S3': 20}  pour laquelle la decision change à : L\n",
      "Verification de AC1 pour la ligne dont l'id est 2...\n",
      "Verification de AC2 et AC3 pour la ligne dont l'id est 2...\n",
      "ID=  2  Erreur :AC3 n'est pas vérifiée car il existe une affectation x_prime : {'S2': 19}  pour laquelle la decision change à : L\n",
      "Verification de AC1 pour la ligne dont l'id est 2...\n",
      "Verification de AC2 et AC3 pour la ligne dont l'id est 2...\n",
      "ID=  2  Erreur :AC3 n'est pas vérifiée car il existe une affectation x_prime : {'S2': 19}  pour laquelle la decision change à : L\n",
      "Verification de AC1 pour la ligne dont l'id est 2...\n",
      "Verification de AC2 et AC3 pour la ligne dont l'id est 2...\n",
      "ID=  2  Erreur :AC3 n'est pas vérifiée car il existe une affectation x_prime : {'S2': 19}  pour laquelle la decision change à : L\n",
      "Verification de AC1 pour la ligne dont l'id est 2...\n",
      "Verification de AC2 et AC3 pour la ligne dont l'id est 2...\n"
     ]
    },
    {
     "name": "stderr",
     "output_type": "stream",
     "text": [
      "100%|██████████| 63/63 [00:00<00:00, 120.21it/s]\n",
      " 81%|████████  | 103/127 [01:17<00:36,  1.50s/it]"
     ]
    },
    {
     "name": "stdout",
     "output_type": "stream",
     "text": [
      "ID=  2  Erreur :AC3 n'est pas vérifiée car il existe une affectation x_prime : {'S2': 19}  pour laquelle la decision change à : L\n",
      "Exploration de :  ('S4', 'Logique')\n",
      "Verification de BC1_2...\n",
      "id :  2\n"
     ]
    },
    {
     "name": "stderr",
     "output_type": "stream",
     "text": []
    },
    {
     "name": "stdout",
     "output_type": "stream",
     "text": [
      "Verification de AC1 pour la ligne dont l'id est 2...\n",
      "Verification de AC2 et AC3 pour la ligne dont l'id est 2...\n",
      "ID=  2  Erreur :AC3 n'est pas vérifiée car il existe une affectation x_prime : {'S1': 17, 'S4': 20}  pour laquelle la decision change à : L\n",
      "Verification de AC1 pour la ligne dont l'id est 2...\n",
      "Verification de AC2 et AC3 pour la ligne dont l'id est 2...\n",
      "ID=  2  Erreur :AC3 n'est pas vérifiée car il existe une affectation x_prime : {'S3': 14, 'S4': 20}  pour laquelle la decision change à : L\n",
      "Verification de AC1 pour la ligne dont l'id est 2...\n",
      "Verification de AC2 et AC3 pour la ligne dont l'id est 2...\n",
      "ID=  2  Erreur :AC3 n'est pas vérifiée car il existe une affectation x_prime : {'S2': 19}  pour laquelle la decision change à : L\n",
      "Verification de AC1 pour la ligne dont l'id est 2...\n",
      "Verification de AC2 et AC3 pour la ligne dont l'id est 2...\n",
      "ID=  2  Erreur : AC2 n'est pas vérifiée, veuillez saisir un superset de l'ensemble des variables sélectionnées\n",
      "Verification de AC1 pour la ligne dont l'id est 2...\n",
      "Verification de AC2 et AC3 pour la ligne dont l'id est 2...\n",
      "ID=  2  Erreur :AC3 n'est pas vérifiée car il existe une affectation x_prime : {'S2': 19}  pour laquelle la decision change à : L\n",
      "Verification de AC1 pour la ligne dont l'id est 2...\n",
      "Verification de AC2 et AC3 pour la ligne dont l'id est 2...\n",
      "ID=  2  Erreur :AC3 n'est pas vérifiée car il existe une affectation x_prime : {'S2': 19}  pour laquelle la decision change à : L\n",
      "Verification de AC1 pour la ligne dont l'id est 2...\n",
      "Verification de AC2 et AC3 pour la ligne dont l'id est 2...\n",
      "ID=  2  Erreur :AC3 n'est pas vérifiée car il existe une affectation x_prime : {'S2': 19}  pour laquelle la decision change à : L\n",
      "Verification de AC1 pour la ligne dont l'id est 2...\n",
      "Verification de AC2 et AC3 pour la ligne dont l'id est 2...\n",
      "ID=  2  Erreur :AC3 n'est pas vérifiée car il existe une affectation x_prime : {'S1': 17, 'S4': 20}  pour laquelle la decision change à : L\n",
      "Verification de AC1 pour la ligne dont l'id est 2...\n",
      "Verification de AC2 et AC3 pour la ligne dont l'id est 2...\n",
      "ID=  2  Erreur :AC3 n'est pas vérifiée car il existe une affectation x_prime : {'S1': 13, 'S3': 20}  pour laquelle la decision change à : L\n",
      "Verification de AC1 pour la ligne dont l'id est 2...\n",
      "Verification de AC2 et AC3 pour la ligne dont l'id est 2...\n",
      "ID=  2  Erreur :AC3 n'est pas vérifiée car il existe une affectation x_prime : {'S3': 14, 'S4': 20}  pour laquelle la decision change à : L\n",
      "Verification de AC1 pour la ligne dont l'id est 2...\n",
      "Verification de AC2 et AC3 pour la ligne dont l'id est 2...\n",
      "ID=  2  Erreur :AC3 n'est pas vérifiée car il existe une affectation x_prime : {'S2': 19}  pour laquelle la decision change à : L\n",
      "Verification de AC1 pour la ligne dont l'id est 2...\n",
      "Verification de AC2 et AC3 pour la ligne dont l'id est 2...\n",
      "ID=  2  Erreur :AC3 n'est pas vérifiée car il existe une affectation x_prime : {'S2': 19}  pour laquelle la decision change à : L\n",
      "Verification de AC1 pour la ligne dont l'id est 2...\n",
      "Verification de AC2 et AC3 pour la ligne dont l'id est 2...\n"
     ]
    },
    {
     "name": "stderr",
     "output_type": "stream",
     "text": []
    },
    {
     "name": "stdout",
     "output_type": "stream",
     "text": [
      "ID=  2  Erreur :AC3 n'est pas vérifiée car il existe une affectation x_prime : {'S2': 19}  pour laquelle la decision change à : L\n",
      "Verification de AC1 pour la ligne dont l'id est 2...\n",
      "Verification de AC2 et AC3 pour la ligne dont l'id est 2...\n",
      "ID=  2  Erreur :AC3 n'est pas vérifiée car il existe une affectation x_prime : {'S1': 13, 'S3': 20}  pour laquelle la decision change à : L\n",
      "Verification de AC1 pour la ligne dont l'id est 2...\n",
      "Verification de AC2 et AC3 pour la ligne dont l'id est 2...\n"
     ]
    },
    {
     "name": "stderr",
     "output_type": "stream",
     "text": [
      "100%|██████████| 63/63 [00:00<00:00, 116.21it/s]\n"
     ]
    },
    {
     "name": "stdout",
     "output_type": "stream",
     "text": [
      "ID=  2  Erreur :AC3 n'est pas vérifiée car il existe une affectation x_prime : {'S2': 19}  pour laquelle la decision change à : L\n",
      "Exploration de :  ('S4', 'S5')\n",
      "Verification de BC1_2...\n",
      "Verification de BC1_2...\n",
      "id :  4\n"
     ]
    },
    {
     "name": "stderr",
     "output_type": "stream",
     "text": []
    },
    {
     "name": "stdout",
     "output_type": "stream",
     "text": [
      "Verification de AC1 pour la ligne dont l'id est 4...\n",
      "Verification de AC2 et AC3 pour la ligne dont l'id est 4...\n",
      "ID=  4  Erreur : AC2 n'est pas vérifiée, veuillez saisir un superset de l'ensemble des variables sélectionnées\n",
      "Verification de AC1 pour la ligne dont l'id est 4...\n",
      "Verification de AC2 et AC3 pour la ligne dont l'id est 4...\n",
      "ID=  4  Erreur : AC2 n'est pas vérifiée, veuillez saisir un superset de l'ensemble des variables sélectionnées\n",
      "Verification de AC1 pour la ligne dont l'id est 4...\n",
      "Verification de AC2 et AC3 pour la ligne dont l'id est 4...\n",
      "ID=  4  Erreur : AC2 n'est pas vérifiée, veuillez saisir un superset de l'ensemble des variables sélectionnées\n",
      "Verification de AC1 pour la ligne dont l'id est 4...\n",
      "Verification de AC2 et AC3 pour la ligne dont l'id est 4...\n",
      "ID=  4  Erreur : AC2 n'est pas vérifiée, veuillez saisir un superset de l'ensemble des variables sélectionnées\n",
      "Verification de AC1 pour la ligne dont l'id est 4...\n",
      "Verification de AC2 et AC3 pour la ligne dont l'id est 4...\n",
      "ID=  4  Erreur : AC2 n'est pas vérifiée, veuillez saisir un superset de l'ensemble des variables sélectionnées\n",
      "Verification de AC1 pour la ligne dont l'id est 4...\n",
      "Verification de AC2 et AC3 pour la ligne dont l'id est 4...\n"
     ]
    },
    {
     "name": "stderr",
     "output_type": "stream",
     "text": []
    },
    {
     "name": "stdout",
     "output_type": "stream",
     "text": [
      "ID=  4  Erreur : AC2 n'est pas vérifiée, veuillez saisir un superset de l'ensemble des variables sélectionnées\n",
      "Verification de AC1 pour la ligne dont l'id est 4...\n",
      "Verification de AC2 et AC3 pour la ligne dont l'id est 4...\n",
      "ID=  4  Erreur : AC2 n'est pas vérifiée, veuillez saisir un superset de l'ensemble des variables sélectionnées\n",
      "Verification de AC1 pour la ligne dont l'id est 4...\n",
      "Verification de AC2 et AC3 pour la ligne dont l'id est 4...\n"
     ]
    },
    {
     "name": "stderr",
     "output_type": "stream",
     "text": []
    },
    {
     "name": "stdout",
     "output_type": "stream",
     "text": [
      "ID=  4  Erreur : AC2 n'est pas vérifiée, veuillez saisir un superset de l'ensemble des variables sélectionnées\n",
      "Verification de AC1 pour la ligne dont l'id est 4...\n",
      "Verification de AC2 et AC3 pour la ligne dont l'id est 4...\n",
      "ID=  4  Erreur : AC2 n'est pas vérifiée, veuillez saisir un superset de l'ensemble des variables sélectionnées\n",
      "Verification de AC1 pour la ligne dont l'id est 4...\n",
      "Verification de AC2 et AC3 pour la ligne dont l'id est 4...\n"
     ]
    },
    {
     "name": "stderr",
     "output_type": "stream",
     "text": []
    },
    {
     "name": "stdout",
     "output_type": "stream",
     "text": [
      "ID=  4  Erreur : AC2 n'est pas vérifiée, veuillez saisir un superset de l'ensemble des variables sélectionnées\n",
      "Verification de AC1 pour la ligne dont l'id est 4...\n",
      "Verification de AC2 et AC3 pour la ligne dont l'id est 4...\n",
      "ID=  4  Erreur : AC2 n'est pas vérifiée, veuillez saisir un superset de l'ensemble des variables sélectionnées\n",
      "Verification de AC1 pour la ligne dont l'id est 4...\n",
      "Verification de AC2 et AC3 pour la ligne dont l'id est 4...\n"
     ]
    },
    {
     "name": "stderr",
     "output_type": "stream",
     "text": []
    },
    {
     "name": "stdout",
     "output_type": "stream",
     "text": [
      "ID=  4  Erreur : AC2 n'est pas vérifiée, veuillez saisir un superset de l'ensemble des variables sélectionnées\n",
      "Verification de AC1 pour la ligne dont l'id est 4...\n",
      "Verification de AC2 et AC3 pour la ligne dont l'id est 4...\n",
      "ID=  4  Erreur :AC3 n'est pas vérifiée car il existe une affectation x_prime : {'BDD': 1, 'Logique': 1}  pour laquelle la decision change à : A\n",
      "Verification de AC1 pour la ligne dont l'id est 4...\n",
      "Verification de AC2 et AC3 pour la ligne dont l'id est 4...\n",
      "ID=  4  Erreur : AC2 n'est pas vérifiée, veuillez saisir un superset de l'ensemble des variables sélectionnées\n",
      "Verification de AC1 pour la ligne dont l'id est 4...\n",
      "Verification de AC2 et AC3 pour la ligne dont l'id est 4...\n",
      "ID=  4  Erreur : AC2 n'est pas vérifiée, veuillez saisir un superset de l'ensemble des variables sélectionnées\n",
      "Verification de AC1 pour la ligne dont l'id est 4...\n",
      "Verification de AC2 et AC3 pour la ligne dont l'id est 4...\n"
     ]
    },
    {
     "name": "stderr",
     "output_type": "stream",
     "text": []
    },
    {
     "name": "stdout",
     "output_type": "stream",
     "text": [
      "ID=  4  Erreur : AC2 n'est pas vérifiée, veuillez saisir un superset de l'ensemble des variables sélectionnées\n",
      "Verification de AC1 pour la ligne dont l'id est 4...\n",
      "Verification de AC2 et AC3 pour la ligne dont l'id est 4...\n"
     ]
    },
    {
     "name": "stderr",
     "output_type": "stream",
     "text": []
    },
    {
     "name": "stdout",
     "output_type": "stream",
     "text": [
      "ID=  4  Erreur : AC2 n'est pas vérifiée, veuillez saisir un superset de l'ensemble des variables sélectionnées\n",
      "Verification de AC1 pour la ligne dont l'id est 4...\n",
      "Verification de AC2 et AC3 pour la ligne dont l'id est 4...\n",
      "ID=  4  Erreur : AC2 n'est pas vérifiée, veuillez saisir un superset de l'ensemble des variables sélectionnées\n",
      "Verification de AC1 pour la ligne dont l'id est 4...\n",
      "Verification de AC2 et AC3 pour la ligne dont l'id est 4...\n"
     ]
    },
    {
     "name": "stderr",
     "output_type": "stream",
     "text": []
    },
    {
     "name": "stdout",
     "output_type": "stream",
     "text": [
      "ID=  4  Erreur : AC2 n'est pas vérifiée, veuillez saisir un superset de l'ensemble des variables sélectionnées\n",
      "Verification de AC1 pour la ligne dont l'id est 4...\n",
      "Verification de AC2 et AC3 pour la ligne dont l'id est 4...\n",
      "ID=  4  Erreur : AC2 n'est pas vérifiée, veuillez saisir un superset de l'ensemble des variables sélectionnées\n",
      "Verification de AC1 pour la ligne dont l'id est 4...\n",
      "Verification de AC2 et AC3 pour la ligne dont l'id est 4...\n"
     ]
    },
    {
     "name": "stderr",
     "output_type": "stream",
     "text": []
    },
    {
     "name": "stdout",
     "output_type": "stream",
     "text": [
      "ID=  4  Erreur : AC2 n'est pas vérifiée, veuillez saisir un superset de l'ensemble des variables sélectionnées\n",
      "Verification de AC1 pour la ligne dont l'id est 4...\n",
      "Verification de AC2 et AC3 pour la ligne dont l'id est 4...\n"
     ]
    },
    {
     "name": "stderr",
     "output_type": "stream",
     "text": []
    },
    {
     "name": "stdout",
     "output_type": "stream",
     "text": [
      "ID=  4  Erreur : AC2 n'est pas vérifiée, veuillez saisir un superset de l'ensemble des variables sélectionnées\n",
      "Verification de AC1 pour la ligne dont l'id est 4...\n",
      "Verification de AC2 et AC3 pour la ligne dont l'id est 4...\n"
     ]
    },
    {
     "name": "stderr",
     "output_type": "stream",
     "text": []
    },
    {
     "name": "stdout",
     "output_type": "stream",
     "text": [
      "ID=  4  Erreur : AC2 n'est pas vérifiée, veuillez saisir un superset de l'ensemble des variables sélectionnées\n",
      "Verification de AC1 pour la ligne dont l'id est 4...\n",
      "Verification de AC2 et AC3 pour la ligne dont l'id est 4...\n"
     ]
    },
    {
     "name": "stderr",
     "output_type": "stream",
     "text": [
      " 81%|████████  | 103/127 [01:30<00:36,  1.50s/it]"
     ]
    },
    {
     "name": "stdout",
     "output_type": "stream",
     "text": [
      "ID=  4  Erreur : AC2 n'est pas vérifiée, veuillez saisir un superset de l'ensemble des variables sélectionnées\n",
      "Verification de AC1 pour la ligne dont l'id est 4...\n",
      "Verification de AC2 et AC3 pour la ligne dont l'id est 4...\n",
      "ID=  4  Erreur :AC3 n'est pas vérifiée car il existe une affectation x_prime : {'BDD': 1, 'Logique': 1}  pour laquelle la decision change à : A\n",
      "Verification de AC1 pour la ligne dont l'id est 4...\n",
      "Verification de AC2 et AC3 pour la ligne dont l'id est 4...\n"
     ]
    },
    {
     "name": "stderr",
     "output_type": "stream",
     "text": []
    },
    {
     "name": "stdout",
     "output_type": "stream",
     "text": [
      "ID=  4  Erreur : AC2 n'est pas vérifiée, veuillez saisir un superset de l'ensemble des variables sélectionnées\n",
      "Verification de AC1 pour la ligne dont l'id est 4...\n",
      "Verification de AC2 et AC3 pour la ligne dont l'id est 4...\n"
     ]
    },
    {
     "name": "stderr",
     "output_type": "stream",
     "text": []
    },
    {
     "name": "stdout",
     "output_type": "stream",
     "text": [
      "ID=  4  Erreur : AC2 n'est pas vérifiée, veuillez saisir un superset de l'ensemble des variables sélectionnées\n",
      "Verification de AC1 pour la ligne dont l'id est 4...\n",
      "Verification de AC2 et AC3 pour la ligne dont l'id est 4...\n"
     ]
    },
    {
     "name": "stderr",
     "output_type": "stream",
     "text": []
    },
    {
     "name": "stdout",
     "output_type": "stream",
     "text": [
      "ID=  4  Erreur : AC2 n'est pas vérifiée, veuillez saisir un superset de l'ensemble des variables sélectionnées\n",
      "Verification de AC1 pour la ligne dont l'id est 4...\n",
      "Verification de AC2 et AC3 pour la ligne dont l'id est 4...\n",
      "ID=  4  Erreur :AC3 n'est pas vérifiée car il existe une affectation x_prime : {'BDD': 1, 'Logique': 1}  pour laquelle la decision change à : A\n",
      "Verification de AC1 pour la ligne dont l'id est 4...\n",
      "Verification de AC2 et AC3 pour la ligne dont l'id est 4...\n"
     ]
    },
    {
     "name": "stderr",
     "output_type": "stream",
     "text": []
    },
    {
     "name": "stdout",
     "output_type": "stream",
     "text": [
      "ID=  4  Erreur : AC2 n'est pas vérifiée, veuillez saisir un superset de l'ensemble des variables sélectionnées\n",
      "Verification de AC1 pour la ligne dont l'id est 4...\n",
      "Verification de AC2 et AC3 pour la ligne dont l'id est 4...\n"
     ]
    },
    {
     "name": "stderr",
     "output_type": "stream",
     "text": []
    },
    {
     "name": "stdout",
     "output_type": "stream",
     "text": [
      "ID=  4  Erreur : AC2 n'est pas vérifiée, veuillez saisir un superset de l'ensemble des variables sélectionnées\n",
      "Verification de AC1 pour la ligne dont l'id est 4...\n",
      "Verification de AC2 et AC3 pour la ligne dont l'id est 4...\n",
      "ID=  4  Erreur :AC3 n'est pas vérifiée car il existe une affectation x_prime : {'BDD': 1, 'Logique': 1}  pour laquelle la decision change à : A\n",
      "Verification de AC1 pour la ligne dont l'id est 4...\n",
      "Verification de AC2 et AC3 pour la ligne dont l'id est 4...\n"
     ]
    },
    {
     "name": "stderr",
     "output_type": "stream",
     "text": []
    },
    {
     "name": "stdout",
     "output_type": "stream",
     "text": [
      "ID=  4  Erreur : AC2 n'est pas vérifiée, veuillez saisir un superset de l'ensemble des variables sélectionnées\n",
      "Verification de AC1 pour la ligne dont l'id est 4...\n",
      "Verification de AC2 et AC3 pour la ligne dont l'id est 4...\n"
     ]
    },
    {
     "name": "stderr",
     "output_type": "stream",
     "text": []
    },
    {
     "name": "stdout",
     "output_type": "stream",
     "text": [
      "ID=  4  Erreur : AC2 n'est pas vérifiée, veuillez saisir un superset de l'ensemble des variables sélectionnées\n",
      "Verification de AC1 pour la ligne dont l'id est 4...\n",
      "Verification de AC2 et AC3 pour la ligne dont l'id est 4...\n"
     ]
    },
    {
     "name": "stderr",
     "output_type": "stream",
     "text": []
    },
    {
     "name": "stdout",
     "output_type": "stream",
     "text": [
      "ID=  4  Erreur : AC2 n'est pas vérifiée, veuillez saisir un superset de l'ensemble des variables sélectionnées\n",
      "Verification de AC1 pour la ligne dont l'id est 4...\n",
      "Verification de AC2 et AC3 pour la ligne dont l'id est 4...\n"
     ]
    },
    {
     "name": "stderr",
     "output_type": "stream",
     "text": []
    },
    {
     "name": "stdout",
     "output_type": "stream",
     "text": [
      "ID=  4  Erreur : AC2 n'est pas vérifiée, veuillez saisir un superset de l'ensemble des variables sélectionnées\n",
      "Verification de AC1 pour la ligne dont l'id est 4...\n",
      "Verification de AC2 et AC3 pour la ligne dont l'id est 4...\n"
     ]
    },
    {
     "name": "stderr",
     "output_type": "stream",
     "text": []
    },
    {
     "name": "stdout",
     "output_type": "stream",
     "text": [
      "ID=  4  Erreur : AC2 n'est pas vérifiée, veuillez saisir un superset de l'ensemble des variables sélectionnées\n",
      "Verification de AC1 pour la ligne dont l'id est 4...\n",
      "Verification de AC2 et AC3 pour la ligne dont l'id est 4...\n"
     ]
    },
    {
     "name": "stderr",
     "output_type": "stream",
     "text": []
    },
    {
     "name": "stdout",
     "output_type": "stream",
     "text": [
      "ID=  4  Erreur : AC2 n'est pas vérifiée, veuillez saisir un superset de l'ensemble des variables sélectionnées\n",
      "Verification de AC1 pour la ligne dont l'id est 4...\n",
      "Verification de AC2 et AC3 pour la ligne dont l'id est 4...\n",
      "ID=  4  Erreur :AC3 n'est pas vérifiée car il existe une affectation x_prime : {'BDD': 1, 'Logique': 1}  pour laquelle la decision change à : A\n",
      "Verification de AC1 pour la ligne dont l'id est 4...\n",
      "Verification de AC2 et AC3 pour la ligne dont l'id est 4...\n"
     ]
    },
    {
     "name": "stderr",
     "output_type": "stream",
     "text": []
    },
    {
     "name": "stdout",
     "output_type": "stream",
     "text": [
      "ID=  4  Erreur : AC2 n'est pas vérifiée, veuillez saisir un superset de l'ensemble des variables sélectionnées\n",
      "Verification de AC1 pour la ligne dont l'id est 4...\n",
      "Verification de AC2 et AC3 pour la ligne dont l'id est 4...\n"
     ]
    },
    {
     "name": "stderr",
     "output_type": "stream",
     "text": []
    },
    {
     "name": "stdout",
     "output_type": "stream",
     "text": [
      "ID=  4  Erreur : AC2 n'est pas vérifiée, veuillez saisir un superset de l'ensemble des variables sélectionnées\n",
      "Verification de AC1 pour la ligne dont l'id est 4...\n",
      "Verification de AC2 et AC3 pour la ligne dont l'id est 4...\n"
     ]
    },
    {
     "name": "stderr",
     "output_type": "stream",
     "text": []
    },
    {
     "name": "stdout",
     "output_type": "stream",
     "text": [
      "ID=  4  Erreur : AC2 n'est pas vérifiée, veuillez saisir un superset de l'ensemble des variables sélectionnées\n",
      "Verification de AC1 pour la ligne dont l'id est 4...\n",
      "Verification de AC2 et AC3 pour la ligne dont l'id est 4...\n"
     ]
    },
    {
     "name": "stderr",
     "output_type": "stream",
     "text": []
    },
    {
     "name": "stdout",
     "output_type": "stream",
     "text": [
      "ID=  4  Erreur : AC2 n'est pas vérifiée, veuillez saisir un superset de l'ensemble des variables sélectionnées\n",
      "Verification de AC1 pour la ligne dont l'id est 4...\n",
      "Verification de AC2 et AC3 pour la ligne dont l'id est 4...\n",
      "ID=  4  Erreur :AC3 n'est pas vérifiée car il existe une affectation x_prime : {'BDD': 1, 'Logique': 1}  pour laquelle la decision change à : A\n",
      "Verification de AC1 pour la ligne dont l'id est 4...\n",
      "Verification de AC2 et AC3 pour la ligne dont l'id est 4...\n"
     ]
    },
    {
     "name": "stderr",
     "output_type": "stream",
     "text": []
    },
    {
     "name": "stdout",
     "output_type": "stream",
     "text": [
      "ID=  4  Erreur :AC3 n'est pas vérifiée car il existe une affectation x_prime : {'BDD': 1, 'Logique': 1}  pour laquelle la decision change à : A\n",
      "Verification de AC1 pour la ligne dont l'id est 4...\n",
      "Verification de AC2 et AC3 pour la ligne dont l'id est 4...\n"
     ]
    },
    {
     "name": "stderr",
     "output_type": "stream",
     "text": []
    },
    {
     "name": "stdout",
     "output_type": "stream",
     "text": [
      "ID=  4  Erreur : AC2 n'est pas vérifiée, veuillez saisir un superset de l'ensemble des variables sélectionnées\n",
      "Verification de AC1 pour la ligne dont l'id est 4...\n",
      "Verification de AC2 et AC3 pour la ligne dont l'id est 4...\n"
     ]
    },
    {
     "name": "stderr",
     "output_type": "stream",
     "text": []
    },
    {
     "name": "stdout",
     "output_type": "stream",
     "text": [
      "ID=  4  Erreur : AC2 n'est pas vérifiée, veuillez saisir un superset de l'ensemble des variables sélectionnées\n",
      "Verification de AC1 pour la ligne dont l'id est 4...\n",
      "Verification de AC2 et AC3 pour la ligne dont l'id est 4...\n"
     ]
    },
    {
     "name": "stderr",
     "output_type": "stream",
     "text": []
    },
    {
     "name": "stdout",
     "output_type": "stream",
     "text": [
      "ID=  4  Erreur : AC2 n'est pas vérifiée, veuillez saisir un superset de l'ensemble des variables sélectionnées\n",
      "Verification de AC1 pour la ligne dont l'id est 4...\n",
      "Verification de AC2 et AC3 pour la ligne dont l'id est 4...\n"
     ]
    },
    {
     "name": "stderr",
     "output_type": "stream",
     "text": []
    },
    {
     "name": "stdout",
     "output_type": "stream",
     "text": [
      "ID=  4  Erreur :AC3 n'est pas vérifiée car il existe une affectation x_prime : {'BDD': 1, 'Logique': 1}  pour laquelle la decision change à : A\n",
      "Verification de AC1 pour la ligne dont l'id est 4...\n",
      "Verification de AC2 et AC3 pour la ligne dont l'id est 4...\n"
     ]
    },
    {
     "name": "stderr",
     "output_type": "stream",
     "text": []
    },
    {
     "name": "stdout",
     "output_type": "stream",
     "text": [
      "ID=  4  Erreur : AC2 n'est pas vérifiée, veuillez saisir un superset de l'ensemble des variables sélectionnées\n",
      "Verification de AC1 pour la ligne dont l'id est 4...\n",
      "Verification de AC2 et AC3 pour la ligne dont l'id est 4...\n",
      "ID=  4  Erreur :AC3 n'est pas vérifiée car il existe une affectation x_prime : {'BDD': 1, 'Logique': 1}  pour laquelle la decision change à : A\n",
      "Verification de AC1 pour la ligne dont l'id est 4...\n",
      "Verification de AC2 et AC3 pour la ligne dont l'id est 4...\n",
      "ID=  4  Erreur :AC3 n'est pas vérifiée car il existe une affectation x_prime : {'BDD': 1, 'Logique': 1}  pour laquelle la decision change à : A\n",
      "Verification de AC1 pour la ligne dont l'id est 4...\n",
      "Verification de AC2 et AC3 pour la ligne dont l'id est 4...\n"
     ]
    },
    {
     "name": "stderr",
     "output_type": "stream",
     "text": []
    },
    {
     "name": "stdout",
     "output_type": "stream",
     "text": [
      "ID=  4  Erreur : AC2 n'est pas vérifiée, veuillez saisir un superset de l'ensemble des variables sélectionnées\n",
      "Verification de AC1 pour la ligne dont l'id est 4...\n",
      "Verification de AC2 et AC3 pour la ligne dont l'id est 4...\n"
     ]
    },
    {
     "name": "stderr",
     "output_type": "stream",
     "text": []
    },
    {
     "name": "stdout",
     "output_type": "stream",
     "text": [
      "ID=  4  Erreur : AC2 n'est pas vérifiée, veuillez saisir un superset de l'ensemble des variables sélectionnées\n",
      "Verification de AC1 pour la ligne dont l'id est 4...\n",
      "Verification de AC2 et AC3 pour la ligne dont l'id est 4...\n"
     ]
    },
    {
     "name": "stderr",
     "output_type": "stream",
     "text": []
    },
    {
     "name": "stdout",
     "output_type": "stream",
     "text": [
      "ID=  4  Erreur : AC2 n'est pas vérifiée, veuillez saisir un superset de l'ensemble des variables sélectionnées\n",
      "Verification de AC1 pour la ligne dont l'id est 4...\n",
      "Verification de AC2 et AC3 pour la ligne dont l'id est 4...\n"
     ]
    },
    {
     "name": "stderr",
     "output_type": "stream",
     "text": []
    },
    {
     "name": "stdout",
     "output_type": "stream",
     "text": [
      "ID=  4  Erreur :AC3 n'est pas vérifiée car il existe une affectation x_prime : {'BDD': 1, 'Logique': 1}  pour laquelle la decision change à : A\n",
      "Verification de AC1 pour la ligne dont l'id est 4...\n",
      "Verification de AC2 et AC3 pour la ligne dont l'id est 4...\n"
     ]
    },
    {
     "name": "stderr",
     "output_type": "stream",
     "text": []
    },
    {
     "name": "stdout",
     "output_type": "stream",
     "text": [
      "ID=  4  Erreur :AC3 n'est pas vérifiée car il existe une affectation x_prime : {'BDD': 1, 'Logique': 1}  pour laquelle la decision change à : A\n",
      "Verification de AC1 pour la ligne dont l'id est 4...\n",
      "Verification de AC2 et AC3 pour la ligne dont l'id est 4...\n"
     ]
    },
    {
     "name": "stderr",
     "output_type": "stream",
     "text": []
    },
    {
     "name": "stdout",
     "output_type": "stream",
     "text": [
      "ID=  4  Erreur : AC2 n'est pas vérifiée, veuillez saisir un superset de l'ensemble des variables sélectionnées\n",
      "Verification de AC1 pour la ligne dont l'id est 4...\n",
      "Verification de AC2 et AC3 pour la ligne dont l'id est 4...\n"
     ]
    },
    {
     "name": "stderr",
     "output_type": "stream",
     "text": []
    },
    {
     "name": "stdout",
     "output_type": "stream",
     "text": [
      "ID=  4  Erreur :AC3 n'est pas vérifiée car il existe une affectation x_prime : {'BDD': 1, 'Logique': 1}  pour laquelle la decision change à : A\n",
      "Verification de AC1 pour la ligne dont l'id est 4...\n",
      "Verification de AC2 et AC3 pour la ligne dont l'id est 4...\n"
     ]
    },
    {
     "name": "stderr",
     "output_type": "stream",
     "text": []
    },
    {
     "name": "stdout",
     "output_type": "stream",
     "text": [
      "ID=  4  Erreur :AC3 n'est pas vérifiée car il existe une affectation x_prime : {'BDD': 1, 'Logique': 1}  pour laquelle la decision change à : A\n",
      "Verification de AC1 pour la ligne dont l'id est 4...\n",
      "Verification de AC2 et AC3 pour la ligne dont l'id est 4...\n"
     ]
    },
    {
     "name": "stderr",
     "output_type": "stream",
     "text": []
    },
    {
     "name": "stdout",
     "output_type": "stream",
     "text": [
      "ID=  4  Erreur : AC2 n'est pas vérifiée, veuillez saisir un superset de l'ensemble des variables sélectionnées\n",
      "Verification de AC1 pour la ligne dont l'id est 4...\n",
      "Verification de AC2 et AC3 pour la ligne dont l'id est 4...\n"
     ]
    },
    {
     "name": "stderr",
     "output_type": "stream",
     "text": []
    },
    {
     "name": "stdout",
     "output_type": "stream",
     "text": [
      "ID=  4  Erreur :AC3 n'est pas vérifiée car il existe une affectation x_prime : {'BDD': 1, 'Logique': 1}  pour laquelle la decision change à : A\n",
      "Verification de AC1 pour la ligne dont l'id est 4...\n",
      "Verification de AC2 et AC3 pour la ligne dont l'id est 4...\n"
     ]
    },
    {
     "name": "stderr",
     "output_type": "stream",
     "text": [
      "100%|██████████| 63/63 [17:00<00:00, 16.20s/it]\n",
      " 83%|████████▎ | 105/127 [18:18<32:36, 88.94s/it]"
     ]
    },
    {
     "name": "stdout",
     "output_type": "stream",
     "text": [
      "ID=  4  Erreur :AC3 n'est pas vérifiée car il existe une affectation x_prime : {'BDD': 1, 'Logique': 1}  pour laquelle la decision change à : A\n",
      "Exploration de :  ('S3', 'BDD')\n",
      "Verification de BC1_2...\n",
      "id :  2\n"
     ]
    },
    {
     "name": "stderr",
     "output_type": "stream",
     "text": [
      "100%|██████████| 63/63 [00:00<00:00, 531.08it/s]\n",
      " 83%|████████▎ | 106/127 [18:18<27:44, 79.24s/it]"
     ]
    },
    {
     "name": "stdout",
     "output_type": "stream",
     "text": [
      "Verification de AC1 pour la ligne dont l'id est 2...\n",
      "Verification de AC2 et AC3 pour la ligne dont l'id est 2...\n",
      "ID=  2  Erreur :AC3 n'est pas vérifiée car il existe une affectation x_prime : {'S2': 19}  pour laquelle la decision change à : L\n",
      "Verification de AC1 pour la ligne dont l'id est 2...\n",
      "Verification de AC2 et AC3 pour la ligne dont l'id est 2...\n",
      "ID=  2  Erreur : AC2 n'est pas vérifiée, veuillez saisir un superset de l'ensemble des variables sélectionnées\n",
      "Verification de AC1 pour la ligne dont l'id est 2...\n",
      "Verification de AC2 et AC3 pour la ligne dont l'id est 2...\n",
      "ID=  2  Erreur :AC3 n'est pas vérifiée car il existe une affectation x_prime : {'S1': 13, 'S3': 20}  pour laquelle la decision change à : L\n",
      "Verification de AC1 pour la ligne dont l'id est 2...\n",
      "Verification de AC2 et AC3 pour la ligne dont l'id est 2...\n",
      "ID=  2  Erreur :AC3 n'est pas vérifiée car il existe une affectation x_prime : {'S2': 19}  pour laquelle la decision change à : L\n",
      "Verification de AC1 pour la ligne dont l'id est 2...\n",
      "Verification de AC2 et AC3 pour la ligne dont l'id est 2...\n",
      "ID=  2  Erreur :AC3 n'est pas vérifiée car il existe une affectation x_prime : {'S2': 19}  pour laquelle la decision change à : L\n",
      "Verification de AC1 pour la ligne dont l'id est 2...\n",
      "Verification de AC2 et AC3 pour la ligne dont l'id est 2...\n",
      "ID=  2  Erreur :AC3 n'est pas vérifiée car il existe une affectation x_prime : {'S1': 13, 'S3': 20}  pour laquelle la decision change à : L\n",
      "Verification de AC1 pour la ligne dont l'id est 2...\n",
      "Verification de AC2 et AC3 pour la ligne dont l'id est 2...\n",
      "ID=  2  Erreur :AC3 n'est pas vérifiée car il existe une affectation x_prime : {'S2': 19}  pour laquelle la decision change à : L\n",
      "Exploration de :  ('S3', 'Logique')\n",
      "Verification de BC1_2...\n",
      "id :  2\n"
     ]
    },
    {
     "name": "stderr",
     "output_type": "stream",
     "text": []
    },
    {
     "name": "stdout",
     "output_type": "stream",
     "text": [
      "Verification de AC1 pour la ligne dont l'id est 2...\n",
      "Verification de AC2 et AC3 pour la ligne dont l'id est 2...\n",
      "ID=  2  Erreur :AC3 n'est pas vérifiée car il existe une affectation x_prime : {'S2': 19}  pour laquelle la decision change à : L\n",
      "Verification de AC1 pour la ligne dont l'id est 2...\n",
      "Verification de AC2 et AC3 pour la ligne dont l'id est 2...\n",
      "ID=  2  Erreur : AC2 n'est pas vérifiée, veuillez saisir un superset de l'ensemble des variables sélectionnées\n",
      "Verification de AC1 pour la ligne dont l'id est 2...\n",
      "Verification de AC2 et AC3 pour la ligne dont l'id est 2...\n",
      "ID=  2  Erreur :AC3 n'est pas vérifiée car il existe une affectation x_prime : {'S1': 13, 'S3': 20}  pour laquelle la decision change à : L\n",
      "Verification de AC1 pour la ligne dont l'id est 2...\n",
      "Verification de AC2 et AC3 pour la ligne dont l'id est 2...\n",
      "ID=  2  Erreur :AC3 n'est pas vérifiée car il existe une affectation x_prime : {'S2': 19}  pour laquelle la decision change à : L\n",
      "Verification de AC1 pour la ligne dont l'id est 2...\n",
      "Verification de AC2 et AC3 pour la ligne dont l'id est 2...\n",
      "ID=  2  Erreur :AC3 n'est pas vérifiée car il existe une affectation x_prime : {'S2': 19}  pour laquelle la decision change à : L\n",
      "Verification de AC1 pour la ligne dont l'id est 2...\n",
      "Verification de AC2 et AC3 pour la ligne dont l'id est 2...\n",
      "ID=  2  Erreur :AC3 n'est pas vérifiée car il existe une affectation x_prime : {'S1': 13, 'S3': 20}  pour laquelle la decision change à : L\n",
      "Verification de AC1 pour la ligne dont l'id est 2...\n",
      "Verification de AC2 et AC3 pour la ligne dont l'id est 2...\n"
     ]
    },
    {
     "name": "stderr",
     "output_type": "stream",
     "text": [
      "100%|██████████| 63/63 [00:00<00:00, 525.32it/s]\n"
     ]
    },
    {
     "name": "stdout",
     "output_type": "stream",
     "text": [
      "ID=  2  Erreur :AC3 n'est pas vérifiée car il existe une affectation x_prime : {'S2': 19}  pour laquelle la decision change à : L\n",
      "Exploration de :  ('S3', 'S5')\n",
      "Verification de BC1_2...\n",
      "Verification de BC1_2...\n",
      "id :  4\n"
     ]
    },
    {
     "name": "stderr",
     "output_type": "stream",
     "text": []
    },
    {
     "name": "stdout",
     "output_type": "stream",
     "text": [
      "Verification de AC1 pour la ligne dont l'id est 4...\n",
      "Verification de AC2 et AC3 pour la ligne dont l'id est 4...\n",
      "ID=  4  Erreur : AC2 n'est pas vérifiée, veuillez saisir un superset de l'ensemble des variables sélectionnées\n",
      "Verification de AC1 pour la ligne dont l'id est 4...\n",
      "Verification de AC2 et AC3 pour la ligne dont l'id est 4...\n",
      "ID=  4  Erreur : AC2 n'est pas vérifiée, veuillez saisir un superset de l'ensemble des variables sélectionnées\n",
      "Verification de AC1 pour la ligne dont l'id est 4...\n",
      "Verification de AC2 et AC3 pour la ligne dont l'id est 4...\n",
      "ID=  4  Erreur : AC2 n'est pas vérifiée, veuillez saisir un superset de l'ensemble des variables sélectionnées\n",
      "Verification de AC1 pour la ligne dont l'id est 4...\n",
      "Verification de AC2 et AC3 pour la ligne dont l'id est 4...\n",
      "ID= "
     ]
    },
    {
     "name": "stderr",
     "output_type": "stream",
     "text": []
    },
    {
     "name": "stdout",
     "output_type": "stream",
     "text": [
      " 4  Erreur : AC2 n'est pas vérifiée, veuillez saisir un superset de l'ensemble des variables sélectionnées\n",
      "Verification de AC1 pour la ligne dont l'id est 4...\n",
      "Verification de AC2 et AC3 pour la ligne dont l'id est 4...\n"
     ]
    },
    {
     "name": "stderr",
     "output_type": "stream",
     "text": []
    },
    {
     "name": "stdout",
     "output_type": "stream",
     "text": [
      "ID=  4  Erreur : AC2 n'est pas vérifiée, veuillez saisir un superset de l'ensemble des variables sélectionnées\n",
      "Verification de AC1 pour la ligne dont l'id est 4...\n",
      "Verification de AC2 et AC3 pour la ligne dont l'id est 4...\n",
      "ID=  4  Erreur :AC3 n'est pas vérifiée car il existe une affectation x_prime : {'BDD': 1, 'Logique': 1}  pour laquelle la decision change à : A\n",
      "Verification de AC1 pour la ligne dont l'id est 4...\n",
      "Verification de AC2 et AC3 pour la ligne dont l'id est 4...\n"
     ]
    },
    {
     "name": "stderr",
     "output_type": "stream",
     "text": []
    },
    {
     "name": "stdout",
     "output_type": "stream",
     "text": [
      "ID=  4  Erreur : AC2 n'est pas vérifiée, veuillez saisir un superset de l'ensemble des variables sélectionnées\n",
      "Verification de AC1 pour la ligne dont l'id est 4...\n",
      "Verification de AC2 et AC3 pour la ligne dont l'id est 4...\n",
      "ID=  4  Erreur : AC2 n'est pas vérifiée, veuillez saisir un superset de l'ensemble des variables sélectionnées\n",
      "Verification de AC1 pour la ligne dont l'id est 4...\n",
      "Verification de AC2 et AC3 pour la ligne dont l'id est 4...\n"
     ]
    },
    {
     "name": "stderr",
     "output_type": "stream",
     "text": []
    },
    {
     "name": "stdout",
     "output_type": "stream",
     "text": [
      "ID=  4  Erreur : AC2 n'est pas vérifiée, veuillez saisir un superset de l'ensemble des variables sélectionnées\n",
      "Verification de AC1 pour la ligne dont l'id est 4...\n",
      "Verification de AC2 et AC3 pour la ligne dont l'id est 4...\n"
     ]
    },
    {
     "name": "stderr",
     "output_type": "stream",
     "text": []
    },
    {
     "name": "stdout",
     "output_type": "stream",
     "text": [
      "ID=  4  Erreur : AC2 n'est pas vérifiée, veuillez saisir un superset de l'ensemble des variables sélectionnées\n",
      "Verification de AC1 pour la ligne dont l'id est 4...\n",
      "Verification de AC2 et AC3 pour la ligne dont l'id est 4...\n"
     ]
    },
    {
     "name": "stderr",
     "output_type": "stream",
     "text": []
    },
    {
     "name": "stdout",
     "output_type": "stream",
     "text": [
      "ID=  4  Erreur : AC2 n'est pas vérifiée, veuillez saisir un superset de l'ensemble des variables sélectionnées\n",
      "Verification de AC1 pour la ligne dont l'id est 4...\n",
      "Verification de AC2 et AC3 pour la ligne dont l'id est 4...\n",
      "ID=  4  Erreur : AC2 n'est pas vérifiée, veuillez saisir un superset de l'ensemble des variables sélectionnées\n",
      "Verification de AC1 pour la ligne dont l'id est 4...\n",
      "Verification de AC2 et AC3 pour la ligne dont l'id est 4...\n"
     ]
    },
    {
     "name": "stderr",
     "output_type": "stream",
     "text": []
    },
    {
     "name": "stdout",
     "output_type": "stream",
     "text": [
      "ID=  4  Erreur : AC2 n'est pas vérifiée, veuillez saisir un superset de l'ensemble des variables sélectionnées\n",
      "Verification de AC1 pour la ligne dont l'id est 4...\n",
      "Verification de AC2 et AC3 pour la ligne dont l'id est 4...\n"
     ]
    },
    {
     "name": "stderr",
     "output_type": "stream",
     "text": []
    },
    {
     "name": "stdout",
     "output_type": "stream",
     "text": [
      "ID=  4  Erreur : AC2 n'est pas vérifiée, veuillez saisir un superset de l'ensemble des variables sélectionnées\n",
      "Verification de AC1 pour la ligne dont l'id est 4...\n",
      "Verification de AC2 et AC3 pour la ligne dont l'id est 4...\n"
     ]
    },
    {
     "name": "stderr",
     "output_type": "stream",
     "text": []
    },
    {
     "name": "stdout",
     "output_type": "stream",
     "text": [
      "ID=  4  Erreur : AC2 n'est pas vérifiée, veuillez saisir un superset de l'ensemble des variables sélectionnées\n",
      "Verification de AC1 pour la ligne dont l'id est 4...\n",
      "Verification de AC2 et AC3 pour la ligne dont l'id est 4...\n",
      "ID=  4  Erreur :AC3 n'est pas vérifiée car il existe une affectation x_prime : {'BDD': 1, 'Logique': 1}  pour laquelle la decision change à : A\n",
      "Verification de AC1 pour la ligne dont l'id est 4...\n",
      "Verification de AC2 et AC3 pour la ligne dont l'id est 4...\n"
     ]
    },
    {
     "name": "stderr",
     "output_type": "stream",
     "text": []
    },
    {
     "name": "stdout",
     "output_type": "stream",
     "text": [
      "ID=  4  Erreur : AC2 n'est pas vérifiée, veuillez saisir un superset de l'ensemble des variables sélectionnées\n",
      "Verification de AC1 pour la ligne dont l'id est 4...\n",
      "Verification de AC2 et AC3 pour la ligne dont l'id est 4...\n"
     ]
    },
    {
     "name": "stderr",
     "output_type": "stream",
     "text": []
    },
    {
     "name": "stdout",
     "output_type": "stream",
     "text": [
      "ID=  4  Erreur : AC2 n'est pas vérifiée, veuillez saisir un superset de l'ensemble des variables sélectionnées\n",
      "Verification de AC1 pour la ligne dont l'id est 4...\n",
      "Verification de AC2 et AC3 pour la ligne dont l'id est 4...\n",
      "ID=  4  Erreur :AC3 n'est pas vérifiée car il existe une affectation x_prime : {'BDD': 1, 'Logique': 1}  pour laquelle la decision change à : A\n",
      "Verification de AC1 pour la ligne dont l'id est 4...\n",
      "Verification de AC2 et AC3 pour la ligne dont l'id est 4...\n"
     ]
    },
    {
     "name": "stderr",
     "output_type": "stream",
     "text": [
      " 83%|████████▎ | 106/127 [18:30<27:44, 79.24s/it]"
     ]
    },
    {
     "name": "stdout",
     "output_type": "stream",
     "text": [
      "ID=  4  Erreur : AC2 n'est pas vérifiée, veuillez saisir un superset de l'ensemble des variables sélectionnées\n",
      "Verification de AC1 pour la ligne dont l'id est 4...\n",
      "Verification de AC2 et AC3 pour la ligne dont l'id est 4...\n"
     ]
    },
    {
     "name": "stderr",
     "output_type": "stream",
     "text": []
    },
    {
     "name": "stdout",
     "output_type": "stream",
     "text": [
      "ID=  4  Erreur : AC2 n'est pas vérifiée, veuillez saisir un superset de l'ensemble des variables sélectionnées\n",
      "Verification de AC1 pour la ligne dont l'id est 4...\n",
      "Verification de AC2 et AC3 pour la ligne dont l'id est 4...\n"
     ]
    },
    {
     "name": "stderr",
     "output_type": "stream",
     "text": []
    },
    {
     "name": "stdout",
     "output_type": "stream",
     "text": [
      "ID=  4  Erreur : AC2 n'est pas vérifiée, veuillez saisir un superset de l'ensemble des variables sélectionnées\n",
      "Verification de AC1 pour la ligne dont l'id est 4...\n",
      "Verification de AC2 et AC3 pour la ligne dont l'id est 4...\n",
      "ID=  4  Erreur :AC3 n'est pas vérifiée car il existe une affectation x_prime : {'BDD': 1, 'Logique': 1}  pour laquelle la decision change à : A\n",
      "Verification de AC1 pour la ligne dont l'id est 4...\n",
      "Verification de AC2 et AC3 pour la ligne dont l'id est 4...\n"
     ]
    },
    {
     "name": "stderr",
     "output_type": "stream",
     "text": []
    },
    {
     "name": "stdout",
     "output_type": "stream",
     "text": [
      "ID=  4  Erreur : AC2 n'est pas vérifiée, veuillez saisir un superset de l'ensemble des variables sélectionnées\n",
      "Verification de AC1 pour la ligne dont l'id est 4...\n",
      "Verification de AC2 et AC3 pour la ligne dont l'id est 4...\n"
     ]
    },
    {
     "name": "stderr",
     "output_type": "stream",
     "text": []
    },
    {
     "name": "stdout",
     "output_type": "stream",
     "text": [
      "ID=  4  Erreur : AC2 n'est pas vérifiée, veuillez saisir un superset de l'ensemble des variables sélectionnées\n",
      "Verification de AC1 pour la ligne dont l'id est 4...\n",
      "Verification de AC2 et AC3 pour la ligne dont l'id est 4...\n"
     ]
    },
    {
     "name": "stderr",
     "output_type": "stream",
     "text": []
    },
    {
     "name": "stdout",
     "output_type": "stream",
     "text": [
      "ID=  4  Erreur : AC2 n'est pas vérifiée, veuillez saisir un superset de l'ensemble des variables sélectionnées\n",
      "Verification de AC1 pour la ligne dont l'id est 4...\n",
      "Verification de AC2 et AC3 pour la ligne dont l'id est 4...\n",
      "ID=  4  Erreur :AC3 n'est pas vérifiée car il existe une affectation x_prime : {'BDD': 1, 'Logique': 1}  pour laquelle la decision change à : A\n",
      "Verification de AC1 pour la ligne dont l'id est 4...\n",
      "Verification de AC2 et AC3 pour la ligne dont l'id est 4...\n"
     ]
    },
    {
     "name": "stderr",
     "output_type": "stream",
     "text": []
    },
    {
     "name": "stdout",
     "output_type": "stream",
     "text": [
      "ID=  4  Erreur :AC3 n'est pas vérifiée car il existe une affectation x_prime : {'BDD': 1, 'Logique': 1}  pour laquelle la decision change à : A\n",
      "Verification de AC1 pour la ligne dont l'id est 4...\n",
      "Verification de AC2 et AC3 pour la ligne dont l'id est 4...\n",
      "ID=  4  Erreur :AC3 n'est pas vérifiée car il existe une affectation x_prime : {'BDD': 1, 'Logique': 1}  pour laquelle la decision change à : A\n",
      "Verification de AC1 pour la ligne dont l'id est 4...\n",
      "Verification de AC2 et AC3 pour la ligne dont l'id est 4...\n"
     ]
    },
    {
     "name": "stderr",
     "output_type": "stream",
     "text": []
    },
    {
     "name": "stdout",
     "output_type": "stream",
     "text": [
      "ID=  4  Erreur : AC2 n'est pas vérifiée, veuillez saisir un superset de l'ensemble des variables sélectionnées\n",
      "Verification de AC1 pour la ligne dont l'id est 4...\n",
      "Verification de AC2 et AC3 pour la ligne dont l'id est 4...\n"
     ]
    },
    {
     "name": "stderr",
     "output_type": "stream",
     "text": [
      "100%|██████████| 63/63 [00:46<00:00,  1.35it/s]\n",
      " 85%|████████▌ | 108/127 [19:05<20:53, 65.97s/it]"
     ]
    },
    {
     "name": "stdout",
     "output_type": "stream",
     "text": [
      "ID=  4  Erreur :AC3 n'est pas vérifiée car il existe une affectation x_prime : {'BDD': 1, 'Logique': 1}  pour laquelle la decision change à : A\n",
      "Exploration de :  ('S3', 'S4')\n",
      "Verification de BC1_2...\n",
      "Verification de BC1_2...\n",
      "id :  4\n"
     ]
    },
    {
     "name": "stderr",
     "output_type": "stream",
     "text": []
    },
    {
     "name": "stdout",
     "output_type": "stream",
     "text": [
      "Verification de AC1 pour la ligne dont l'id est 4...\n",
      "Verification de AC2 et AC3 pour la ligne dont l'id est 4...\n",
      "ID=  4  Erreur : AC2 n'est pas vérifiée, veuillez saisir un superset de l'ensemble des variables sélectionnées\n",
      "Verification de AC1 pour la ligne dont l'id est 4...\n",
      "Verification de AC2 et AC3 pour la ligne dont l'id est 4...\n",
      "ID=  4  Erreur : AC2 n'est pas vérifiée, veuillez saisir un superset de l'ensemble des variables sélectionnées\n",
      "Verification de AC1 pour la ligne dont l'id est 4...\n",
      "Verification de AC2 et AC3 pour la ligne dont l'id est 4...\n",
      "ID=  4  Erreur : AC2 n'est pas vérifiée, veuillez saisir un superset de l'ensemble des variables sélectionnées\n",
      "Verification de AC1 pour la ligne dont l'id est 4...\n",
      "Verification de AC2 et AC3 pour la ligne dont l'id est 4...\n",
      "ID=  4  Erreur : AC2 n'est pas vérifiée, veuillez saisir un superset de l'ensemble des variables sélectionnées\n",
      "Verification de AC1 pour la ligne dont l'id est 4...\n",
      "Verification de AC2 et AC3 pour la ligne dont l'id est 4...\n",
      "ID=  4  Erreur : AC2 n'est pas vérifiée, veuillez saisir un superset de l'ensemble des variables sélectionnées\n",
      "Verification de AC1 pour la ligne dont l'id est 4...\n",
      "Verification de AC2 et AC3 pour la ligne dont l'id est 4...\n"
     ]
    },
    {
     "name": "stderr",
     "output_type": "stream",
     "text": []
    },
    {
     "name": "stdout",
     "output_type": "stream",
     "text": [
      "ID=  4  Erreur : AC2 n'est pas vérifiée, veuillez saisir un superset de l'ensemble des variables sélectionnées\n",
      "Verification de AC1 pour la ligne dont l'id est 4...\n",
      "Verification de AC2 et AC3 pour la ligne dont l'id est 4...\n",
      "ID=  4  Erreur : AC2 n'est pas vérifiée, veuillez saisir un superset de l'ensemble des variables sélectionnées\n",
      "Verification de AC1 pour la ligne dont l'id est 4...\n",
      "Verification de AC2 et AC3 pour la ligne dont l'id est 4...\n"
     ]
    },
    {
     "name": "stderr",
     "output_type": "stream",
     "text": []
    },
    {
     "name": "stdout",
     "output_type": "stream",
     "text": [
      "ID=  4  Erreur : AC2 n'est pas vérifiée, veuillez saisir un superset de l'ensemble des variables sélectionnées\n",
      "Verification de AC1 pour la ligne dont l'id est 4...\n",
      "Verification de AC2 et AC3 pour la ligne dont l'id est 4...\n"
     ]
    },
    {
     "name": "stderr",
     "output_type": "stream",
     "text": []
    },
    {
     "name": "stdout",
     "output_type": "stream",
     "text": [
      "ID=  4  Erreur : AC2 n'est pas vérifiée, veuillez saisir un superset de l'ensemble des variables sélectionnées\n",
      "Verification de AC1 pour la ligne dont l'id est 4...\n",
      "Verification de AC2 et AC3 pour la ligne dont l'id est 4...\n"
     ]
    },
    {
     "name": "stderr",
     "output_type": "stream",
     "text": []
    },
    {
     "name": "stdout",
     "output_type": "stream",
     "text": [
      "ID=  4  Erreur : AC2 n'est pas vérifiée, veuillez saisir un superset de l'ensemble des variables sélectionnées\n",
      "Verification de AC1 pour la ligne dont l'id est 4...\n",
      "Verification de AC2 et AC3 pour la ligne dont l'id est 4...\n"
     ]
    },
    {
     "name": "stderr",
     "output_type": "stream",
     "text": []
    },
    {
     "name": "stdout",
     "output_type": "stream",
     "text": [
      "ID=  4  Erreur : AC2 n'est pas vérifiée, veuillez saisir un superset de l'ensemble des variables sélectionnées\n",
      "Verification de AC1 pour la ligne dont l'id est 4...\n",
      "Verification de AC2 et AC3 pour la ligne dont l'id est 4...\n",
      "ID=  4  Erreur : AC2 n'est pas vérifiée, veuillez saisir un superset de l'ensemble des variables sélectionnées\n",
      "Verification de AC1 pour la ligne dont l'id est 4...\n",
      "Verification de AC2 et AC3 pour la ligne dont l'id est 4...\n",
      "ID=  4  Erreur :AC3 n'est pas vérifiée car il existe une affectation x_prime : {'BDD': 1, 'Logique': 1}  pour laquelle la decision change à : A\n",
      "Verification de AC1 pour la ligne dont l'id est 4...\n",
      "Verification de AC2 et AC3 pour la ligne dont l'id est 4...\n"
     ]
    },
    {
     "name": "stderr",
     "output_type": "stream",
     "text": []
    },
    {
     "name": "stdout",
     "output_type": "stream",
     "text": [
      "ID=  4  Erreur : AC2 n'est pas vérifiée, veuillez saisir un superset de l'ensemble des variables sélectionnées\n",
      "Verification de AC1 pour la ligne dont l'id est 4...\n",
      "Verification de AC2 et AC3 pour la ligne dont l'id est 4...\n",
      "ID=  4  Erreur : AC2 n'est pas vérifiée, veuillez saisir un superset de l'ensemble des variables sélectionnées\n",
      "Verification de AC1 pour la ligne dont l'id est 4...\n",
      "Verification de AC2 et AC3 pour la ligne dont l'id est 4...\n"
     ]
    },
    {
     "name": "stderr",
     "output_type": "stream",
     "text": []
    },
    {
     "name": "stdout",
     "output_type": "stream",
     "text": [
      "ID=  4  Erreur : AC2 n'est pas vérifiée, veuillez saisir un superset de l'ensemble des variables sélectionnées\n",
      "Verification de AC1 pour la ligne dont l'id est 4...\n",
      "Verification de AC2 et AC3 pour la ligne dont l'id est 4...\n",
      "ID=  4  Erreur :AC3 n'est pas vérifiée car il existe une affectation x_prime : {'BDD': 1, 'Logique': 1}  pour laquelle la decision change à : A\n",
      "Verification de AC1 pour la ligne dont l'id est 4...\n",
      "Verification de AC2 et AC3 pour la ligne dont l'id est 4...\n"
     ]
    },
    {
     "name": "stderr",
     "output_type": "stream",
     "text": []
    },
    {
     "name": "stdout",
     "output_type": "stream",
     "text": [
      "ID=  4  Erreur : AC2 n'est pas vérifiée, veuillez saisir un superset de l'ensemble des variables sélectionnées\n",
      "Verification de AC1 pour la ligne dont l'id est 4...\n",
      "Verification de AC2 et AC3 pour la ligne dont l'id est 4...\n"
     ]
    },
    {
     "name": "stderr",
     "output_type": "stream",
     "text": []
    },
    {
     "name": "stdout",
     "output_type": "stream",
     "text": [
      "ID=  4  Erreur : AC2 n'est pas vérifiée, veuillez saisir un superset de l'ensemble des variables sélectionnées\n",
      "Verification de AC1 pour la ligne dont l'id est 4...\n",
      "Verification de AC2 et AC3 pour la ligne dont l'id est 4...\n",
      "ID=  4  Erreur :AC3 n'est pas vérifiée car il existe une affectation x_prime : {'BDD': 1, 'Logique': 1}  pour laquelle la decision change à : A\n",
      "Verification de AC1 pour la ligne dont l'id est 4...\n",
      "Verification de AC2 et AC3 pour la ligne dont l'id est 4...\n"
     ]
    },
    {
     "name": "stderr",
     "output_type": "stream",
     "text": []
    },
    {
     "name": "stdout",
     "output_type": "stream",
     "text": [
      "ID=  4  Erreur : AC2 n'est pas vérifiée, veuillez saisir un superset de l'ensemble des variables sélectionnées\n",
      "Verification de AC1 pour la ligne dont l'id est 4...\n",
      "Verification de AC2 et AC3 pour la ligne dont l'id est 4...\n"
     ]
    },
    {
     "name": "stderr",
     "output_type": "stream",
     "text": []
    },
    {
     "name": "stdout",
     "output_type": "stream",
     "text": [
      "ID=  4  Erreur : AC2 n'est pas vérifiée, veuillez saisir un superset de l'ensemble des variables sélectionnées\n",
      "Verification de AC1 pour la ligne dont l'id est 4...\n",
      "Verification de AC2 et AC3 pour la ligne dont l'id est 4...\n",
      "ID=  4  Erreur :AC3 n'est pas vérifiée car il existe une affectation x_prime : {'BDD': 1, 'Logique': 1}  pour laquelle la decision change à : A\n",
      "Verification de AC1 pour la ligne dont l'id est 4...\n",
      "Verification de AC2 et AC3 pour la ligne dont l'id est 4...\n"
     ]
    },
    {
     "name": "stderr",
     "output_type": "stream",
     "text": []
    },
    {
     "name": "stdout",
     "output_type": "stream",
     "text": [
      "ID=  4  Erreur : AC2 n'est pas vérifiée, veuillez saisir un superset de l'ensemble des variables sélectionnées\n",
      "Verification de AC1 pour la ligne dont l'id est 4...\n",
      "Verification de AC2 et AC3 pour la ligne dont l'id est 4...\n"
     ]
    },
    {
     "name": "stderr",
     "output_type": "stream",
     "text": []
    },
    {
     "name": "stdout",
     "output_type": "stream",
     "text": [
      "ID=  4  Erreur : AC2 n'est pas vérifiée, veuillez saisir un superset de l'ensemble des variables sélectionnées\n",
      "Verification de AC1 pour la ligne dont l'id est 4...\n",
      "Verification de AC2 et AC3 pour la ligne dont l'id est 4...\n"
     ]
    },
    {
     "name": "stderr",
     "output_type": "stream",
     "text": []
    },
    {
     "name": "stdout",
     "output_type": "stream",
     "text": [
      "ID=  4  Erreur :AC3 n'est pas vérifiée car il existe une affectation x_prime : {'BDD': 1, 'Logique': 1}  pour laquelle la decision change à : A\n",
      "Verification de AC1 pour la ligne dont l'id est 4...\n",
      "Verification de AC2 et AC3 pour la ligne dont l'id est 4...\n",
      "ID=  4  Erreur :AC3 n'est pas vérifiée car il existe une affectation x_prime : {'BDD': 1, 'Logique': 1}  pour laquelle la decision change à : A\n",
      "Verification de AC1 pour la ligne dont l'id est 4...\n",
      "Verification de AC2 et AC3 pour la ligne dont l'id est 4...\n"
     ]
    },
    {
     "name": "stderr",
     "output_type": "stream",
     "text": []
    },
    {
     "name": "stdout",
     "output_type": "stream",
     "text": [
      "ID=  4  Erreur : AC2 n'est pas vérifiée, veuillez saisir un superset de l'ensemble des variables sélectionnées\n",
      "Verification de AC1 pour la ligne dont l'id est 4...\n",
      "Verification de AC2 et AC3 pour la ligne dont l'id est 4...\n"
     ]
    },
    {
     "name": "stderr",
     "output_type": "stream",
     "text": []
    },
    {
     "name": "stdout",
     "output_type": "stream",
     "text": [
      "ID=  4  Erreur : AC2 n'est pas vérifiée, veuillez saisir un superset de l'ensemble des variables sélectionnées\n",
      "Verification de AC1 pour la ligne dont l'id est 4...\n",
      "Verification de AC2 et AC3 pour la ligne dont l'id est 4...\n",
      "ID=  4  Erreur :AC3 n'est pas vérifiée car il existe une affectation x_prime : {'BDD': 1, 'Logique': 1}  pour laquelle la decision change à : A\n",
      "Verification de AC1 pour la ligne dont l'id est 4...\n",
      "Verification de AC2 et AC3 pour la ligne dont l'id est 4...\n"
     ]
    },
    {
     "name": "stderr",
     "output_type": "stream",
     "text": [
      "100%|██████████| 63/63 [00:39<00:00,  1.59it/s]\n",
      " 86%|████████▌ | 109/127 [19:45<18:38, 62.15s/it]"
     ]
    },
    {
     "name": "stdout",
     "output_type": "stream",
     "text": [
      "ID=  4  Erreur :AC3 n'est pas vérifiée car il existe une affectation x_prime : {'BDD': 1, 'Logique': 1}  pour laquelle la decision change à : A\n",
      "Exploration de :  ('S2', 'BDD')\n",
      "Verification de BC1_2...\n",
      "Exploration de :  ('S2', 'Logique')\n",
      "Verification de BC1_2...\n",
      "Exploration de :  ('S2', 'S5')\n",
      "Verification de BC1_2...\n",
      "Exploration de :  ('S2', 'S4')\n",
      "Verification de BC1_2...\n",
      "Exploration de :  ('S2', 'S3')\n",
      "Verification de BC1_2...\n",
      "Exploration de :  ('S1', 'BDD')\n",
      "Verification de BC1_2...\n",
      "id :  2\n"
     ]
    },
    {
     "name": "stderr",
     "output_type": "stream",
     "text": [
      "100%|██████████| 63/63 [00:00<00:00, 7526.52it/s]\n"
     ]
    },
    {
     "name": "stdout",
     "output_type": "stream",
     "text": [
      "Verification de AC1 pour la ligne dont l'id est 2...\n",
      "Verification de AC2 et AC3 pour la ligne dont l'id est 2...\n",
      "ID=  2  Erreur : AC2 n'est pas vérifiée, veuillez saisir un superset de l'ensemble des variables sélectionnées\n",
      "Verification de AC1 pour la ligne dont l'id est 2...\n",
      "Verification de AC2 et AC3 pour la ligne dont l'id est 2...\n",
      "ID=  2  Erreur :AC3 n'est pas vérifiée car il existe une affectation x_prime : {'S2': 19}  pour laquelle la decision change à : L\n",
      "Verification de AC1 pour la ligne dont l'id est 2...\n",
      "Verification de AC2 et AC3 pour la ligne dont l'id est 2...\n",
      "ID=  2  Erreur :AC3 n'est pas vérifiée car il existe une affectation x_prime : {'S2': 19}  pour laquelle la decision change à : L\n",
      "Exploration de :  ('S1', 'Logique')\n",
      "Verification de BC1_2...\n",
      "id :  2\n"
     ]
    },
    {
     "name": "stderr",
     "output_type": "stream",
     "text": [
      "100%|██████████| 63/63 [00:00<00:00, 5617.13it/s]\n"
     ]
    },
    {
     "name": "stdout",
     "output_type": "stream",
     "text": [
      "Verification de AC1 pour la ligne dont l'id est 2...\n",
      "Verification de AC2 et AC3 pour la ligne dont l'id est 2...\n",
      "ID=  2  Erreur :AC3 n'est pas vérifiée car il existe une affectation x_prime : {'S2': 19}  pour laquelle la decision change à : L\n",
      "Verification de AC1 pour la ligne dont l'id est 2...\n",
      "Verification de AC2 et AC3 pour la ligne dont l'id est 2...\n",
      "ID=  2  Erreur : AC2 n'est pas vérifiée, veuillez saisir un superset de l'ensemble des variables sélectionnées\n",
      "Verification de AC1 pour la ligne dont l'id est 2...\n",
      "Verification de AC2 et AC3 pour la ligne dont l'id est 2...\n",
      "ID=  2  Erreur :AC3 n'est pas vérifiée car il existe une affectation x_prime : {'S2': 19}  pour laquelle la decision change à : L\n",
      "Exploration de :  ('S1', 'S5')\n",
      "Verification de BC1_2...\n",
      "Verification de BC1_2...\n",
      "id :  4\n"
     ]
    },
    {
     "name": "stderr",
     "output_type": "stream",
     "text": []
    },
    {
     "name": "stdout",
     "output_type": "stream",
     "text": [
      "Verification de AC1 pour la ligne dont l'id est 4...\n",
      "Verification de AC2 et AC3 pour la ligne dont l'id est 4...\n",
      "ID=  4  Erreur : AC2 n'est pas vérifiée, veuillez saisir un superset de l'ensemble des variables sélectionnées\n",
      "Verification de AC1 pour la ligne dont l'id est 4...\n",
      "Verification de AC2 et AC3 pour la ligne dont l'id est 4...\n",
      "ID= "
     ]
    },
    {
     "name": "stderr",
     "output_type": "stream",
     "text": []
    },
    {
     "name": "stdout",
     "output_type": "stream",
     "text": [
      " 4  Erreur : AC2 n'est pas vérifiée, veuillez saisir un superset de l'ensemble des variables sélectionnées\n",
      "Verification de AC1 pour la ligne dont l'id est 4...\n",
      "Verification de AC2 et AC3 pour la ligne dont l'id est 4...\n",
      "ID=  4  Erreur : AC2 n'est pas vérifiée, veuillez saisir un superset de l'ensemble des variables sélectionnées\n",
      "Verification de AC1 pour la ligne dont l'id est 4...\n",
      "Verification de AC2 et AC3 pour la ligne dont l'id est 4...\n",
      "ID=  4  Erreur : AC2 n'est pas vérifiée, veuillez saisir un superset de l'ensemble des variables sélectionnées\n",
      "Verification de AC1 pour la ligne dont l'id est 4...\n",
      "Verification de AC2 et AC3 pour la ligne dont l'id est 4...\n"
     ]
    },
    {
     "name": "stderr",
     "output_type": "stream",
     "text": []
    },
    {
     "name": "stdout",
     "output_type": "stream",
     "text": [
      "ID=  4  Erreur : AC2 n'est pas vérifiée, veuillez saisir un superset de l'ensemble des variables sélectionnées\n",
      "Verification de AC1 pour la ligne dont l'id est 4...\n",
      "Verification de AC2 et AC3 pour la ligne dont l'id est 4...\n",
      "ID=  4  Erreur : AC2 n'est pas vérifiée, veuillez saisir un superset de l'ensemble des variables sélectionnées\n",
      "Verification de AC1 pour la ligne dont l'id est 4...\n",
      "Verification de AC2 et AC3 pour la ligne dont l'id est 4...\n",
      "ID=  4  Erreur : AC2 n'est pas vérifiée, veuillez saisir un superset de l'ensemble des variables sélectionnées\n",
      "Verification de AC1 pour la ligne dont l'id est 4...\n",
      "Verification de AC2 et AC3 pour la ligne dont l'id est 4...\n"
     ]
    },
    {
     "name": "stderr",
     "output_type": "stream",
     "text": []
    },
    {
     "name": "stdout",
     "output_type": "stream",
     "text": [
      "ID=  4  Erreur : AC2 n'est pas vérifiée, veuillez saisir un superset de l'ensemble des variables sélectionnées\n",
      "Verification de AC1 pour la ligne dont l'id est 4...\n",
      "Verification de AC2 et AC3 pour la ligne dont l'id est 4...\n",
      "ID=  4  Erreur : AC2 n'est pas vérifiée, veuillez saisir un superset de l'ensemble des variables sélectionnées\n",
      "Verification de AC1 pour la ligne dont l'id est 4...\n",
      "Verification de AC2 et AC3 pour la ligne dont l'id est 4...\n",
      "ID=  4  Erreur :AC3 n'est pas vérifiée car il existe une affectation x_prime : {'BDD': 1, 'Logique': 1}  pour laquelle la decision change à : A\n",
      "Verification de AC1 pour la ligne dont l'id est 4...\n",
      "Verification de AC2 et AC3 pour la ligne dont l'id est 4...\n"
     ]
    },
    {
     "name": "stderr",
     "output_type": "stream",
     "text": []
    },
    {
     "name": "stdout",
     "output_type": "stream",
     "text": [
      "ID=  4  Erreur : AC2 n'est pas vérifiée, veuillez saisir un superset de l'ensemble des variables sélectionnées\n",
      "Verification de AC1 pour la ligne dont l'id est 4...\n",
      "Verification de AC2 et AC3 pour la ligne dont l'id est 4...\n",
      "ID=  4  Erreur :AC3 n'est pas vérifiée car il existe une affectation x_prime : {'BDD': 1, 'Logique': 1}  pour laquelle la decision change à : A\n",
      "Verification de AC1 pour la ligne dont l'id est 4...\n",
      "Verification de AC2 et AC3 pour la ligne dont l'id est 4...\n"
     ]
    },
    {
     "name": "stderr",
     "output_type": "stream",
     "text": [
      "100%|██████████| 63/63 [00:01<00:00, 32.23it/s]\n",
      " 92%|█████████▏| 117/127 [19:47<03:55, 23.53s/it]"
     ]
    },
    {
     "name": "stdout",
     "output_type": "stream",
     "text": [
      "ID=  4  Erreur : AC2 n'est pas vérifiée, veuillez saisir un superset de l'ensemble des variables sélectionnées\n",
      "Verification de AC1 pour la ligne dont l'id est 4...\n",
      "Verification de AC2 et AC3 pour la ligne dont l'id est 4...\n",
      "ID=  4  Erreur :AC3 n'est pas vérifiée car il existe une affectation x_prime : {'BDD': 1, 'Logique': 1}  pour laquelle la decision change à : A\n",
      "Verification de AC1 pour la ligne dont l'id est 4...\n",
      "Verification de AC2 et AC3 pour la ligne dont l'id est 4...\n",
      "ID=  4  Erreur :AC3 n'est pas vérifiée car il existe une affectation x_prime : {'BDD': 1, 'Logique': 1}  pour laquelle la decision change à : A\n",
      "Exploration de :  ('S1', 'S4')\n",
      "Verification de BC1_2...\n",
      "Verification de BC1_2...\n",
      "id :  4\n"
     ]
    },
    {
     "name": "stderr",
     "output_type": "stream",
     "text": []
    },
    {
     "name": "stdout",
     "output_type": "stream",
     "text": [
      "Verification de AC1 pour la ligne dont l'id est 4...\n",
      "Verification de AC2 et AC3 pour la ligne dont l'id est 4...\n",
      "ID=  4  Erreur : AC2 n'est pas vérifiée, veuillez saisir un superset de l'ensemble des variables sélectionnées\n",
      "Verification de AC1 pour la ligne dont l'id est 4...\n",
      "Verification de AC2 et AC3 pour la ligne dont l'id est 4...\n",
      "ID=  4  Erreur : AC2 n'est pas vérifiée, veuillez saisir un superset de l'ensemble des variables sélectionnées\n",
      "Verification de AC1 pour la ligne dont l'id est 4...\n",
      "Verification de AC2 et AC3 pour la ligne dont l'id est 4...\n",
      "ID=  4  Erreur : AC2 n'est pas vérifiée, veuillez saisir un superset de l'ensemble des variables sélectionnées\n",
      "Verification de AC1 pour la ligne dont l'id est 4...\n",
      "Verification de AC2 et AC3 pour la ligne dont l'id est 4...\n",
      "ID=  4  Erreur : AC2 n'est pas vérifiée, veuillez saisir un superset de l'ensemble des variables sélectionnées\n",
      "Verification de AC1 pour la ligne dont l'id est 4...\n",
      "Verification de AC2 et AC3 pour la ligne dont l'id est 4...\n",
      "ID=  4  Erreur : AC2 n'est pas vérifiée, veuillez saisir un superset de l'ensemble des variables sélectionnées\n",
      "Verification de AC1 pour la ligne dont l'id est 4...\n",
      "Verification de AC2 et AC3 pour la ligne dont l'id est 4...\n",
      "ID=  4  Erreur :AC3 n'est pas vérifiée car il existe une affectation x_prime : {'BDD': 1, 'Logique': 1}  pour laquelle la decision change à : A\n",
      "Verification de AC1 pour la ligne dont l'id est 4...\n",
      "Verification de AC2 et AC3 pour la ligne dont l'id est 4...\n"
     ]
    },
    {
     "name": "stderr",
     "output_type": "stream",
     "text": [
      "\n"
     ]
    },
    {
     "name": "stdout",
     "output_type": "stream",
     "text": [
      "ID=  4  Erreur : AC2 n'est pas vérifiée, veuillez saisir un superset de l'ensemble des variables sélectionnées\n"
     ]
    },
    {
     "name": "stderr",
     "output_type": "stream",
     "text": [
      " 22%|██▏       | 14/63 [00:00<00:01, 34.23it/s]\u001b[A"
     ]
    },
    {
     "name": "stdout",
     "output_type": "stream",
     "text": [
      "Verification de AC1 pour la ligne dont l'id est 4...\n",
      "Verification de AC2 et AC3 pour la ligne dont l'id est 4...\n",
      "ID=  4  Erreur : AC2 n'est pas vérifiée, veuillez saisir un superset de l'ensemble des variables sélectionnées\n",
      "Verification de AC1 pour la ligne dont l'id est 4...\n",
      "Verification de AC2 et AC3 pour la ligne dont l'id est 4...\n"
     ]
    },
    {
     "name": "stderr",
     "output_type": "stream",
     "text": [
      "\n"
     ]
    },
    {
     "name": "stdout",
     "output_type": "stream",
     "text": [
      "ID=  4  Erreur : AC2 n'est pas vérifiée, veuillez saisir un superset de l'ensemble des variables sélectionnées\n"
     ]
    },
    {
     "name": "stderr",
     "output_type": "stream",
     "text": [
      " 29%|██▊       | 18/63 [00:00<00:01, 26.29it/s]\u001b[A"
     ]
    },
    {
     "name": "stdout",
     "output_type": "stream",
     "text": [
      "Verification de AC1 pour la ligne dont l'id est 4...\n",
      "Verification de AC2 et AC3 pour la ligne dont l'id est 4...\n"
     ]
    },
    {
     "name": "stderr",
     "output_type": "stream",
     "text": []
    },
    {
     "name": "stdout",
     "output_type": "stream",
     "text": [
      "ID=  4  Erreur : AC2 n'est pas vérifiée, veuillez saisir un superset de l'ensemble des variables sélectionnées\n",
      "Verification de AC1 pour la ligne dont l'id est 4...\n",
      "Verification de AC2 et AC3 pour la ligne dont l'id est 4...\n",
      "ID=  4  Erreur :AC3 n'est pas vérifiée car il existe une affectation x_prime : {'BDD': 1, 'Logique': 1}  pour laquelle la decision change à : A\n",
      "Verification de AC1 pour la ligne dont l'id est 4...\n",
      "Verification de AC2 et AC3 pour la ligne dont l'id est 4...\n"
     ]
    },
    {
     "name": "stderr",
     "output_type": "stream",
     "text": []
    },
    {
     "name": "stdout",
     "output_type": "stream",
     "text": [
      "ID=  4  Erreur : AC2 n'est pas vérifiée, veuillez saisir un superset de l'ensemble des variables sélectionnées\n",
      "Verification de AC1 pour la ligne dont l'id est 4...\n",
      "Verification de AC2 et AC3 pour la ligne dont l'id est 4...\n",
      "ID=  4  Erreur :AC3 n'est pas vérifiée car il existe une affectation x_prime : {'BDD': 1, 'Logique': 1}  pour laquelle la decision change à : A\n",
      "Verification de AC1 pour la ligne dont l'id est 4...\n",
      "Verification de AC2 et AC3 pour la ligne dont l'id est 4...\n"
     ]
    },
    {
     "name": "stderr",
     "output_type": "stream",
     "text": [
      "100%|██████████| 63/63 [00:02<00:00, 29.90it/s]\n"
     ]
    },
    {
     "name": "stdout",
     "output_type": "stream",
     "text": [
      "ID=  4  Erreur : AC2 n'est pas vérifiée, veuillez saisir un superset de l'ensemble des variables sélectionnées\n",
      "Verification de AC1 pour la ligne dont l'id est 4...\n",
      "Verification de AC2 et AC3 pour la ligne dont l'id est 4...\n",
      "ID=  4  Erreur :AC3 n'est pas vérifiée car il existe une affectation x_prime : {'BDD': 1, 'Logique': 1}  pour laquelle la decision change à : A\n",
      "Exploration de :  ('S1', 'S3')\n",
      "Verification de BC1_2...\n",
      "Verification de BC1_2...\n",
      "id :  4\n"
     ]
    },
    {
     "name": "stderr",
     "output_type": "stream",
     "text": []
    },
    {
     "name": "stdout",
     "output_type": "stream",
     "text": [
      "Verification de AC1 pour la ligne dont l'id est 4...\n",
      "Verification de AC2 et AC3 pour la ligne dont l'id est 4...\n",
      "ID=  4  Erreur : AC2 n'est pas vérifiée, veuillez saisir un superset de l'ensemble des variables sélectionnées\n",
      "Verification de AC1 pour la ligne dont l'id est 4...\n",
      "Verification de AC2 et AC3 pour la ligne dont l'id est 4...\n",
      "ID=  4  Erreur : AC2 n'est pas vérifiée, veuillez saisir un superset de l'ensemble des variables sélectionnées\n",
      "Verification de AC1 pour la ligne dont l'id est 4...\n",
      "Verification de AC2 et AC3 pour la ligne dont l'id est 4...\n",
      "ID=  4  Erreur : AC2 n'est pas vérifiée, veuillez saisir un superset de l'ensemble des variables sélectionnées\n",
      "Verification de AC1 pour la ligne dont l'id est 4...\n",
      "Verification de AC2 et AC3 pour la ligne dont l'id est 4...\n",
      "ID=  4  Erreur : AC2 n'est pas vérifiée, veuillez saisir un superset de l'ensemble des variables sélectionnées\n",
      "Verification de AC1 pour la ligne dont l'id est 4...\n",
      "Verification de AC2 et AC3 pour la ligne dont l'id est 4...\n"
     ]
    },
    {
     "name": "stderr",
     "output_type": "stream",
     "text": []
    },
    {
     "name": "stdout",
     "output_type": "stream",
     "text": [
      "ID=  4  Erreur : AC2 n'est pas vérifiée, veuillez saisir un superset de l'ensemble des variables sélectionnées\n",
      "Verification de AC1 pour la ligne dont l'id est 4...\n",
      "Verification de AC2 et AC3 pour la ligne dont l'id est 4...\n",
      "ID=  4  Erreur : AC2 n'est pas vérifiée, veuillez saisir un superset de l'ensemble des variables sélectionnées\n",
      "Verification de AC1 pour la ligne dont l'id est 4...\n",
      "Verification de AC2 et AC3 pour la ligne dont l'id est 4...\n",
      "ID=  4  Erreur : AC2 n'est pas vérifiée, veuillez saisir un superset de l'ensemble des variables sélectionnées\n",
      "Verification de AC1 pour la ligne dont l'id est 4...\n",
      "Verification de AC2 et AC3 pour la ligne dont l'id est 4...\n",
      "ID=  4  Erreur :AC3 n'est pas vérifiée car il existe une affectation x_prime : {'BDD': 1, 'Logique': 1}  pour laquelle la decision change à : A\n",
      "Verification de AC1 pour la ligne dont l'id est 4...\n",
      "Verification de AC2 et AC3 pour la ligne dont l'id est 4...\n"
     ]
    },
    {
     "name": "stderr",
     "output_type": "stream",
     "text": []
    },
    {
     "name": "stdout",
     "output_type": "stream",
     "text": [
      "ID=  4  Erreur : AC2 n'est pas vérifiée, veuillez saisir un superset de l'ensemble des variables sélectionnées\n",
      "Verification de AC1 pour la ligne dont l'id est 4...\n",
      "Verification de AC2 et AC3 pour la ligne dont l'id est 4...\n",
      "ID=  4  Erreur : AC2 n'est pas vérifiée, veuillez saisir un superset de l'ensemble des variables sélectionnées\n",
      "Verification de AC1 pour la ligne dont l'id est 4...\n",
      "Verification de AC2 et AC3 pour la ligne dont l'id est 4...\n",
      "ID=  4  Erreur :AC3 n'est pas vérifiée car il existe une affectation x_prime : {'BDD': 1, 'Logique': 1}  pour laquelle la decision change à : A\n",
      "Verification de AC1 pour la ligne dont l'id est 4...\n",
      "Verification de AC2 et AC3 pour la ligne dont l'id est 4...\n"
     ]
    },
    {
     "name": "stderr",
     "output_type": "stream",
     "text": []
    },
    {
     "name": "stdout",
     "output_type": "stream",
     "text": [
      "ID=  4  Erreur : AC2 n'est pas vérifiée, veuillez saisir un superset de l'ensemble des variables sélectionnées\n",
      "Verification de AC1 pour la ligne dont l'id est 4...\n",
      "Verification de AC2 et AC3 pour la ligne dont l'id est 4...\n",
      "ID=  4  Erreur :AC3 n'est pas vérifiée car il existe une affectation x_prime : {'BDD': 1, 'Logique': 1}  pour laquelle la decision change à : A\n",
      "Verification de AC1 pour la ligne dont l'id est 4...\n",
      "Verification de AC2 et AC3 pour la ligne dont l'id est 4...\n"
     ]
    },
    {
     "name": "stderr",
     "output_type": "stream",
     "text": [
      "100%|██████████| 63/63 [00:01<00:00, 34.19it/s]\n",
      " 94%|█████████▍| 120/127 [19:51<02:05, 17.97s/it]"
     ]
    },
    {
     "name": "stdout",
     "output_type": "stream",
     "text": [
      "ID=  4  Erreur : AC2 n'est pas vérifiée, veuillez saisir un superset de l'ensemble des variables sélectionnées\n",
      "Verification de AC1 pour la ligne dont l'id est 4...\n",
      "Verification de AC2 et AC3 pour la ligne dont l'id est 4...\n",
      "ID=  4  Erreur :AC3 n'est pas vérifiée car il existe une affectation x_prime : {'BDD': 1, 'Logique': 1}  pour laquelle la decision change à : A\n",
      "Exploration de :  ('S1', 'S2')\n",
      "Verification de BC1_2...\n",
      "Exploration de :  ('BDD',)\n",
      "Verification de BC1_2...\n",
      "id :  2\n"
     ]
    },
    {
     "name": "stderr",
     "output_type": "stream",
     "text": [
      "100%|██████████| 127/127 [00:00<00:00, 5603.23it/s]\n"
     ]
    },
    {
     "name": "stdout",
     "output_type": "stream",
     "text": [
      "Verification de AC1 pour la ligne dont l'id est 2...\n",
      "Verification de AC2 et AC3 pour la ligne dont l'id est 2...\n",
      "ID=  2  Erreur : AC2 n'est pas vérifiée, veuillez saisir un superset de l'ensemble des variables sélectionnées\n",
      "Verification de AC1 pour la ligne dont l'id est 2...\n",
      "Verification de AC2 et AC3 pour la ligne dont l'id est 2...\n",
      "ID=  2  Erreur : AC2 n'est pas vérifiée, veuillez saisir un superset de l'ensemble des variables sélectionnées\n",
      "Verification de AC1 pour la ligne dont l'id est 2...\n",
      "Verification de AC2 et AC3 pour la ligne dont l'id est 2...\n",
      "ID=  2  Erreur : AC2 n'est pas vérifiée, veuillez saisir un superset de l'ensemble des variables sélectionnées\n",
      "Verification de AC1 pour la ligne dont l'id est 2...\n",
      "Verification de AC2 et AC3 pour la ligne dont l'id est 2...\n",
      "ID=  2  Erreur :AC3 n'est pas vérifiée car il existe une affectation x_prime : {'S2': 19}  pour laquelle la decision change à : L\n",
      "Verification de AC1 pour la ligne dont l'id est 2...\n",
      "Verification de AC2 et AC3 pour la ligne dont l'id est 2...\n",
      "ID=  2  Erreur : AC2 n'est pas vérifiée, veuillez saisir un superset de l'ensemble des variables sélectionnées\n",
      "Verification de AC1 pour la ligne dont l'id est 2...\n",
      "Verification de AC2 et AC3 pour la ligne dont l'id est 2...\n",
      "ID=  2  Erreur : AC2 n'est pas vérifiée, veuillez saisir un superset de l'ensemble des variables sélectionnées\n",
      "Verification de AC1 pour la ligne dont l'id est 2...\n",
      "Verification de AC2 et AC3 pour la ligne dont l'id est 2...\n",
      "ID=  2  Erreur : AC2 n'est pas vérifiée, veuillez saisir un superset de l'ensemble des variables sélectionnées\n",
      "Verification de AC1 pour la ligne dont l'id est 2...\n",
      "Verification de AC2 et AC3 pour la ligne dont l'id est 2...\n",
      "ID=  2  Erreur :AC3 n'est pas vérifiée car il existe une affectation x_prime : {'S2': 19}  pour laquelle la decision change à : L\n",
      "Exploration de :  ('Logique',)\n",
      "Verification de BC1_2...\n",
      "id :  2\n"
     ]
    },
    {
     "name": "stderr",
     "output_type": "stream",
     "text": [
      "100%|██████████| 127/127 [00:00<00:00, 3467.45it/s]\n",
      " 96%|█████████▌| 122/127 [19:51<01:12, 14.52s/it]"
     ]
    },
    {
     "name": "stdout",
     "output_type": "stream",
     "text": [
      "Verification de AC1 pour la ligne dont l'id est 2...\n",
      "Verification de AC2 et AC3 pour la ligne dont l'id est 2...\n",
      "ID=  2  Erreur : AC2 n'est pas vérifiée, veuillez saisir un superset de l'ensemble des variables sélectionnées\n",
      "Verification de AC1 pour la ligne dont l'id est 2...\n",
      "Verification de AC2 et AC3 pour la ligne dont l'id est 2...\n",
      "ID=  2  Erreur : AC2 n'est pas vérifiée, veuillez saisir un superset de l'ensemble des variables sélectionnées\n",
      "Verification de AC1 pour la ligne dont l'id est 2...\n",
      "Verification de AC2 et AC3 pour la ligne dont l'id est 2...\n",
      "ID=  2  Erreur : AC2 n'est pas vérifiée, veuillez saisir un superset de l'ensemble des variables sélectionnées\n",
      "Verification de AC1 pour la ligne dont l'id est 2...\n",
      "Verification de AC2 et AC3 pour la ligne dont l'id est 2...\n",
      "ID=  2  Erreur : AC2 n'est pas vérifiée, veuillez saisir un superset de l'ensemble des variables sélectionnées\n",
      "Verification de AC1 pour la ligne dont l'id est 2...\n",
      "Verification de AC2 et AC3 pour la ligne dont l'id est 2...\n",
      "ID=  2  Erreur :AC3 n'est pas vérifiée car il existe une affectation x_prime : {'S2': 19}  pour laquelle la decision change à : L\n",
      "Verification de AC1 pour la ligne dont l'id est 2...\n",
      "Verification de AC2 et AC3 pour la ligne dont l'id est 2...\n",
      "ID=  2  Erreur : AC2 n'est pas vérifiée, veuillez saisir un superset de l'ensemble des variables sélectionnées\n",
      "Verification de AC1 pour la ligne dont l'id est 2...\n",
      "Verification de AC2 et AC3 pour la ligne dont l'id est 2...\n",
      "ID=  2  Erreur :AC3 n'est pas vérifiée car il existe une affectation x_prime : {'S2': 19}  pour laquelle la decision change à : L\n",
      "Exploration de :  ('S5',)\n",
      "Verification de BC1_2...\n",
      "id :  2\n"
     ]
    },
    {
     "name": "stderr",
     "output_type": "stream",
     "text": [
      "  0%|          | 0/127 [00:00<?, ?it/s]"
     ]
    },
    {
     "name": "stdout",
     "output_type": "stream",
     "text": [
      "Verification de AC1 pour la ligne dont l'id est 2...\n",
      "Verification de AC2 et AC3 pour la ligne dont l'id est 2...\n",
      "ID=  2  AC2 et AC3 sont vérifiées pour une affectation x_prime: {'S4': 16, 'S5': 20}  la decision devient : L\n",
      "La actual cause est: {'S4': 12, 'S5': 10} \n",
      "\n",
      "Verification de BC1_2...\n",
      "id :  4\n"
     ]
    },
    {
     "name": "stderr",
     "output_type": "stream",
     "text": [
      "\n"
     ]
    },
    {
     "name": "stdout",
     "output_type": "stream",
     "text": [
      "Verification de AC1 pour la ligne dont l'id est 4...\n",
      "Verification de AC2 et AC3 pour la ligne dont l'id est 4...\n",
      "ID=  4  Erreur : AC2 n'est pas vérifiée, veuillez saisir un superset de l'ensemble des variables sélectionnées\n",
      "Verification de AC1 pour la ligne dont l'id est 4...\n",
      "Verification de AC2 et AC3 pour la ligne dont l'id est 4...\n",
      "ID=  4  Erreur : AC2 n'est pas vérifiée, veuillez saisir un superset de l'ensemble des variables sélectionnées\n",
      "Verification de AC1 pour la ligne dont l'id est 4...\n",
      "Verification de AC2 et AC3 pour la ligne dont l'id est 4...\n",
      "ID=  4  Erreur : AC2 n'est pas vérifiée, veuillez saisir un superset de l'ensemble des variables sélectionnées\n",
      "Verification de AC1 pour la ligne dont l'id est 4...\n",
      "Verification de AC2 et AC3 pour la ligne dont l'id est 4...\n",
      "ID=  4  Erreur : AC2 n'est pas vérifiée, veuillez saisir un superset de l'ensemble des variables sélectionnées\n",
      "Verification de AC1 pour la ligne dont l'id est 4...\n",
      "Verification de AC2 et AC3 pour la ligne dont l'id est 4...\n",
      "ID=  4  Erreur : AC2 n'est pas vérifiée, veuillez saisir un superset de l'ensemble des variables sélectionnées\n",
      "Verification de AC1 pour la ligne dont l'id est 4...\n",
      "Verification de AC2 et AC3 pour la ligne dont l'id est 4...\n",
      "ID=  4  Erreur : AC2 n'est pas vérifiée, veuillez saisir un superset de l'ensemble des variables sélectionnées\n",
      "Verification de AC1 pour la ligne dont l'id est 4...\n",
      "Verification de AC2 et AC3 pour la ligne dont l'id est 4...\n",
      "ID=  4  Erreur : AC2 n'est pas vérifiée, veuillez saisir un superset de l'ensemble des variables sélectionnées\n",
      "Verification de AC1 pour la ligne dont l'id est 4...\n",
      "Verification de AC2 et AC3 pour la ligne dont l'id est 4...\n",
      "ID=  4  Erreur : AC2 n'est pas vérifiée, veuillez saisir un superset de l'ensemble des variables sélectionnées\n",
      "Verification de AC1 pour la ligne dont l'id est 4...\n",
      "Verification de AC2 et AC3 pour la ligne dont l'id est 4...\n",
      "ID=  4  Erreur : AC2 n'est pas vérifiée, veuillez saisir un superset de l'ensemble des variables sélectionnées\n",
      "Verification de AC1 pour la ligne dont l'id est 4...\n",
      "Verification de AC2 et AC3 pour la ligne dont l'id est 4...\n",
      "ID=  4  Erreur : AC2 n'est pas vérifiée, veuillez saisir un superset de l'ensemble des variables sélectionnées\n",
      "Verification de AC1 pour la ligne dont l'id est 4...\n",
      "Verification de AC2 et AC3 pour la ligne dont l'id est 4...\n",
      "ID=  4  Erreur :AC3 n'est pas vérifiée car il existe une affectation x_prime : {'BDD': 1, 'Logique': 1}  pour laquelle la decision change à : A\n",
      "Verification de AC1 pour la ligne dont l'id est 4...\n",
      "Verification de AC2 et AC3 pour la ligne dont l'id est 4...\n",
      "ID=  4  Erreur : AC2 n'est pas vérifiée, veuillez saisir un superset de l'ensemble des variables sélectionnées\n",
      "Verification de AC1 pour la ligne dont l'id est 4...\n",
      "Verification de AC2 et AC3 pour la ligne dont l'id est 4...\n",
      "ID=  4  Erreur : AC2 n'est pas vérifiée, veuillez saisir un superset de l'ensemble des variables sélectionnées\n",
      "Verification de AC1 pour la ligne dont l'id est 4...\n",
      "Verification de AC2 et AC3 pour la ligne dont l'id est 4...\n",
      "ID=  4  Erreur :AC3 n'est pas vérifiée car il existe une affectation x_prime : {'BDD': 1, 'Logique': 1}  pour laquelle la decision change à : A\n",
      "Verification de AC1 pour la ligne dont l'id est 4...\n",
      "Verification de AC2 et AC3 pour la ligne dont l'id est 4...\n"
     ]
    },
    {
     "name": "stderr",
     "output_type": "stream",
     "text": []
    },
    {
     "name": "stdout",
     "output_type": "stream",
     "text": [
      "ID=  4  Erreur : AC2 n'est pas vérifiée, veuillez saisir un superset de l'ensemble des variables sélectionnées\n",
      "Verification de AC1 pour la ligne dont l'id est 4...\n",
      "Verification de AC2 et AC3 pour la ligne dont l'id est 4...\n",
      "ID=  4  Erreur :AC3 n'est pas vérifiée car il existe une affectation x_prime : {'BDD': 1, 'Logique': 1}  pour laquelle la decision change à : A\n",
      "Verification de AC1 pour la ligne dont l'id est 4...\n",
      "Verification de AC2 et AC3 pour la ligne dont l'id est 4...\n",
      "ID=  4  Erreur : AC2 n'est pas vérifiée, veuillez saisir un superset de l'ensemble des variables sélectionnées\n",
      "Verification de AC1 pour la ligne dont l'id est 4...\n",
      "Verification de AC2 et AC3 pour la ligne dont l'id est 4...\n",
      "ID=  4  Erreur :AC3 n'est pas vérifiée car il existe une affectation x_prime : {'BDD': 1, 'Logique': 1}  pour laquelle la decision change à : A\n"
     ]
    },
    {
     "name": "stderr",
     "output_type": "stream",
     "text": [
      "100%|██████████| 127/127 [00:00<00:00, 690.74it/s]\n"
     ]
    },
    {
     "name": "stdout",
     "output_type": "stream",
     "text": [
      "Exploration de :  ('S4',)\n",
      "Verification de BC1_2...\n",
      "id :  2\n"
     ]
    },
    {
     "name": "stderr",
     "output_type": "stream",
     "text": [
      "  1%|          | 1/127 [00:00<00:00, 182.54it/s]"
     ]
    },
    {
     "name": "stdout",
     "output_type": "stream",
     "text": [
      "Verification de AC1 pour la ligne dont l'id est 2...\n",
      "Verification de AC2 et AC3 pour la ligne dont l'id est 2...\n",
      "ID=  2  AC2 et AC3 sont vérifiées pour une affectation x_prime: {'S3': 14, 'S4': 20}  la decision devient : L\n",
      "La actual cause est: {'S3': 8, 'S4': 12} \n",
      "\n"
     ]
    },
    {
     "name": "stderr",
     "output_type": "stream",
     "text": [
      "\n"
     ]
    },
    {
     "name": "stdout",
     "output_type": "stream",
     "text": [
      "Verification de BC1_2...\n",
      "id :  4\n"
     ]
    },
    {
     "name": "stderr",
     "output_type": "stream",
     "text": []
    },
    {
     "name": "stdout",
     "output_type": "stream",
     "text": [
      "Verification de AC1 pour la ligne dont l'id est 4...\n",
      "Verification de AC2 et AC3 pour la ligne dont l'id est 4...\n",
      "ID=  4  Erreur : AC2 n'est pas vérifiée, veuillez saisir un superset de l'ensemble des variables sélectionnées\n",
      "Verification de AC1 pour la ligne dont l'id est 4...\n",
      "Verification de AC2 et AC3 pour la ligne dont l'id est 4...\n",
      "ID=  4  Erreur : AC2 n'est pas vérifiée, veuillez saisir un superset de l'ensemble des variables sélectionnées\n",
      "Verification de AC1 pour la ligne dont l'id est 4...\n",
      "Verification de AC2 et AC3 pour la ligne dont l'id est 4...\n",
      "ID=  4  Erreur : AC2 n'est pas vérifiée, veuillez saisir un superset de l'ensemble des variables sélectionnées\n",
      "Verification de AC1 pour la ligne dont l'id est 4...\n",
      "Verification de AC2 et AC3 pour la ligne dont l'id est 4...\n",
      "ID=  4  Erreur : AC2 n'est pas vérifiée, veuillez saisir un superset de l'ensemble des variables sélectionnées\n",
      "Verification de AC1 pour la ligne dont l'id est 4...\n",
      "Verification de AC2 et AC3 pour la ligne dont l'id est 4...\n",
      "ID=  4  Erreur : AC2 n'est pas vérifiée, veuillez saisir un superset de l'ensemble des variables sélectionnées\n",
      "Verification de AC1 pour la ligne dont l'id est 4...\n",
      "Verification de AC2 et AC3 pour la ligne dont l'id est 4...\n",
      "ID=  4  Erreur : AC2 n'est pas vérifiée, veuillez saisir un superset de l'ensemble des variables sélectionnées\n",
      "Verification de AC1 pour la ligne dont l'id est 4...\n",
      "Verification de AC2 et AC3 pour la ligne dont l'id est 4...\n",
      "ID=  4  Erreur : AC2 n'est pas vérifiée, veuillez saisir un superset de l'ensemble des variables sélectionnées\n",
      "Verification de AC1 pour la ligne dont l'id est 4...\n",
      "Verification de AC2 et AC3 pour la ligne dont l'id est 4...\n",
      "ID=  4  Erreur :AC3 n'est pas vérifiée car il existe une affectation x_prime : {'BDD': 1, 'Logique': 1}  pour laquelle la decision change à : A\n",
      "Verification de AC1 pour la ligne dont l'id est 4...\n",
      "Verification de AC2 et AC3 pour la ligne dont l'id est 4...\n",
      "ID=  4  Erreur : AC2 n'est pas vérifiée, veuillez saisir un superset de l'ensemble des variables sélectionnées\n",
      "Verification de AC1 pour la ligne dont l'id est 4...\n",
      "Verification de AC2 et AC3 pour la ligne dont l'id est 4...\n",
      "ID=  4  Erreur : AC2 n'est pas vérifiée, veuillez saisir un superset de l'ensemble des variables sélectionnées\n",
      "Verification de AC1 pour la ligne dont l'id est 4...\n",
      "Verification de AC2 et AC3 pour la ligne dont l'id est 4...\n",
      "ID=  4  Erreur : AC2 n'est pas vérifiée, veuillez saisir un superset de l'ensemble des variables sélectionnées\n",
      "Verification de AC1 pour la ligne dont l'id est 4...\n",
      "Verification de AC2 et AC3 pour la ligne dont l'id est 4...\n",
      "ID=  4  Erreur : AC2 n'est pas vérifiée, veuillez saisir un superset de l'ensemble des variables sélectionnées\n",
      "Verification de AC1 pour la ligne dont l'id est 4...\n",
      "Verification de AC2 et AC3 pour la ligne dont l'id est 4...\n"
     ]
    },
    {
     "name": "stderr",
     "output_type": "stream",
     "text": []
    },
    {
     "name": "stdout",
     "output_type": "stream",
     "text": [
      "ID=  4  Erreur : AC2 n'est pas vérifiée, veuillez saisir un superset de l'ensemble des variables sélectionnées\n",
      "Verification de AC1 pour la ligne dont l'id est 4...\n",
      "Verification de AC2 et AC3 pour la ligne dont l'id est 4...\n",
      "ID=  4  Erreur :AC3 n'est pas vérifiée car il existe une affectation x_prime : {'BDD': 1, 'Logique': 1}  pour laquelle la decision change à : A\n",
      "Verification de AC1 pour la ligne dont l'id est 4...\n",
      "Verification de AC2 et AC3 pour la ligne dont l'id est 4...\n",
      "ID=  4  Erreur : AC2 n'est pas vérifiée, veuillez saisir un superset de l'ensemble des variables sélectionnées\n",
      "Verification de AC1 pour la ligne dont l'id est 4...\n",
      "Verification de AC2 et AC3 pour la ligne dont l'id est 4...\n",
      "ID=  4  Erreur :AC3 n'est pas vérifiée car il existe une affectation x_prime : {'BDD': 1, 'Logique': 1}  pour laquelle la decision change à : A\n",
      "Verification de AC1 pour la ligne dont l'id est 4...\n"
     ]
    },
    {
     "name": "stderr",
     "output_type": "stream",
     "text": [
      "100%|██████████| 127/127 [00:00<00:00, 646.40it/s]\n",
      " 98%|█████████▊| 124/127 [19:51<00:34, 11.43s/it]"
     ]
    },
    {
     "name": "stdout",
     "output_type": "stream",
     "text": [
      "Verification de AC2 et AC3 pour la ligne dont l'id est 4...\n",
      "ID=  4  Erreur :AC3 n'est pas vérifiée car il existe une affectation x_prime : {'BDD': 1, 'Logique': 1}  pour laquelle la decision change à : A\n",
      "Exploration de :  ('S3',)\n",
      "Verification de BC1_2...\n",
      "id :  2\n"
     ]
    },
    {
     "name": "stderr",
     "output_type": "stream",
     "text": []
    },
    {
     "name": "stdout",
     "output_type": "stream",
     "text": [
      "Verification de AC1 pour la ligne dont l'id est 2...\n",
      "Verification de AC2 et AC3 pour la ligne dont l'id est 2...\n",
      "ID=  2  AC2 et AC3 sont vérifiées pour une affectation x_prime: {'S3': 14, 'S4': 20}  la decision devient : L\n",
      "La actual cause est: {'S3': 8, 'S4': 12} \n",
      "\n"
     ]
    },
    {
     "name": "stderr",
     "output_type": "stream",
     "text": [
      "  0%|          | 0/127 [00:00<?, ?it/s]\n"
     ]
    },
    {
     "name": "stdout",
     "output_type": "stream",
     "text": [
      "Verification de BC1_2...\n",
      "id :  4\n"
     ]
    },
    {
     "name": "stderr",
     "output_type": "stream",
     "text": []
    },
    {
     "name": "stdout",
     "output_type": "stream",
     "text": [
      "Verification de AC1 pour la ligne dont l'id est 4...\n",
      "Verification de AC2 et AC3 pour la ligne dont l'id est 4...\n",
      "ID=  4  Erreur : AC2 n'est pas vérifiée, veuillez saisir un superset de l'ensemble des variables sélectionnées\n",
      "Verification de AC1 pour la ligne dont l'id est 4...\n",
      "Verification de AC2 et AC3 pour la ligne dont l'id est 4...\n",
      "ID=  4  Erreur : AC2 n'est pas vérifiée, veuillez saisir un superset de l'ensemble des variables sélectionnées\n",
      "Verification de AC1 pour la ligne dont l'id est 4...\n",
      "Verification de AC2 et AC3 pour la ligne dont l'id est 4...\n",
      "ID=  4  Erreur : AC2 n'est pas vérifiée, veuillez saisir un superset de l'ensemble des variables sélectionnées\n",
      "Verification de AC1 pour la ligne dont l'id est 4...\n",
      "Verification de AC2 et AC3 pour la ligne dont l'id est 4...\n",
      "ID=  4  Erreur : AC2 n'est pas vérifiée, veuillez saisir un superset de l'ensemble des variables sélectionnées\n",
      "Verification de AC1 pour la ligne dont l'id est 4...\n",
      "Verification de AC2 et AC3 pour la ligne dont l'id est 4...\n",
      "ID=  4  Erreur : AC2 n'est pas vérifiée, veuillez saisir un superset de l'ensemble des variables sélectionnées\n",
      "Verification de AC1 pour la ligne dont l'id est 4...\n",
      "Verification de AC2 et AC3 pour la ligne dont l'id est 4...\n",
      "ID=  4  Erreur : AC2 n'est pas vérifiée, veuillez saisir un superset de l'ensemble des variables sélectionnées\n",
      "Verification de AC1 pour la ligne dont l'id est 4...\n",
      "Verification de AC2 et AC3 pour la ligne dont l'id est 4...\n",
      "ID=  4  Erreur : AC2 n'est pas vérifiée, veuillez saisir un superset de l'ensemble des variables sélectionnées\n",
      "Verification de AC1 pour la ligne dont l'id est 4...\n",
      "Verification de AC2 et AC3 pour la ligne dont l'id est 4...\n",
      "ID=  4  Erreur : AC2 n'est pas vérifiée, veuillez saisir un superset de l'ensemble des variables sélectionnées\n",
      "Verification de AC1 pour la ligne dont l'id est 4...\n",
      "Verification de AC2 et AC3 pour la ligne dont l'id est 4...\n",
      "ID=  4  Erreur :AC3 n'est pas vérifiée car il existe une affectation x_prime : {'BDD': 1, 'Logique': 1}  pour laquelle la decision change à : A\n",
      "Verification de AC1 pour la ligne dont l'id est 4...\n",
      "Verification de AC2 et AC3 pour la ligne dont l'id est 4...\n",
      "ID=  4  Erreur : AC2 n'est pas vérifiée, veuillez saisir un superset de l'ensemble des variables sélectionnées\n",
      "Verification de AC1 pour la ligne dont l'id est 4...\n",
      "Verification de AC2 et AC3 pour la ligne dont l'id est 4...\n",
      "ID=  4  Erreur : AC2 n'est pas vérifiée, veuillez saisir un superset de l'ensemble des variables sélectionnées\n",
      "Verification de AC1 pour la ligne dont l'id est 4...\n",
      "Verification de AC2 et AC3 pour la ligne dont l'id est 4...\n",
      "ID=  4  Erreur : AC2 n'est pas vérifiée, veuillez saisir un superset de l'ensemble des variables sélectionnées\n"
     ]
    },
    {
     "name": "stderr",
     "output_type": "stream",
     "text": [
      "100%|██████████| 127/127 [00:00<00:00, 810.21it/s]\n"
     ]
    },
    {
     "name": "stdout",
     "output_type": "stream",
     "text": [
      "Verification de AC1 pour la ligne dont l'id est 4...\n",
      "Verification de AC2 et AC3 pour la ligne dont l'id est 4...\n",
      "ID=  4  Erreur :AC3 n'est pas vérifiée car il existe une affectation x_prime : {'BDD': 1, 'Logique': 1}  pour laquelle la decision change à : A\n",
      "Verification de AC1 pour la ligne dont l'id est 4...\n",
      "Verification de AC2 et AC3 pour la ligne dont l'id est 4...\n",
      "ID=  4  Erreur : AC2 n'est pas vérifiée, veuillez saisir un superset de l'ensemble des variables sélectionnées\n",
      "Verification de AC1 pour la ligne dont l'id est 4...\n",
      "Verification de AC2 et AC3 pour la ligne dont l'id est 4...\n",
      "ID=  4  Erreur :AC3 n'est pas vérifiée car il existe une affectation x_prime : {'BDD': 1, 'Logique': 1}  pour laquelle la decision change à : A\n",
      "Verification de AC1 pour la ligne dont l'id est 4...\n",
      "Verification de AC2 et AC3 pour la ligne dont l'id est 4...\n",
      "ID=  4  Erreur :AC3 n'est pas vérifiée car il existe une affectation x_prime : {'BDD': 1, 'Logique': 1}  pour laquelle la decision change à : A\n",
      "Exploration de :  ('S2',)\n",
      "Verification de BC1_2...\n",
      "Verification de BC1_2...\n",
      "id :  4\n"
     ]
    },
    {
     "name": "stderr",
     "output_type": "stream",
     "text": []
    },
    {
     "name": "stdout",
     "output_type": "stream",
     "text": [
      "Verification de AC1 pour la ligne dont l'id est 4...\n",
      "Verification de AC2 et AC3 pour la ligne dont l'id est 4...\n",
      "ID=  4  Erreur : AC2 n'est pas vérifiée, veuillez saisir un superset de l'ensemble des variables sélectionnées\n",
      "Verification de AC1 pour la ligne dont l'id est 4...\n",
      "Verification de AC2 et AC3 pour la ligne dont l'id est 4...\n",
      "ID=  4  Erreur : AC2 n'est pas vérifiée, veuillez saisir un superset de l'ensemble des variables sélectionnées\n",
      "Verification de AC1 pour la ligne dont l'id est 4...\n",
      "Verification de AC2 et AC3 pour la ligne dont l'id est 4...\n",
      "ID=  4  Erreur : AC2 n'est pas vérifiée, veuillez saisir un superset de l'ensemble des variables sélectionnées\n",
      "Verification de AC1 pour la ligne dont l'id est 4...\n",
      "Verification de AC2 et AC3 pour la ligne dont l'id est 4...\n",
      "ID=  4  Erreur : AC2 n'est pas vérifiée, veuillez saisir un superset de l'ensemble des variables sélectionnées\n",
      "Verification de AC1 pour la ligne dont l'id est 4...\n",
      "Verification de AC2 et AC3 pour la ligne dont l'id est 4...\n",
      "ID=  4  Erreur : AC2 n'est pas vérifiée, veuillez saisir un superset de l'ensemble des variables sélectionnées\n",
      "Verification de AC1 pour la ligne dont l'id est 4...\n",
      "Verification de AC2 et AC3 pour la ligne dont l'id est 4...\n",
      "ID=  4  Erreur : AC2 n'est pas vérifiée, veuillez saisir un superset de l'ensemble des variables sélectionnées\n",
      "Verification de AC1 pour la ligne dont l'id est 4...\n",
      "Verification de AC2 et AC3 pour la ligne dont l'id est 4...\n",
      "ID=  4  Erreur :AC3 n'est pas vérifiée car il existe une affectation x_prime : {'BDD': 1, 'Logique': 1}  pour laquelle la decision change à : A\n",
      "Verification de AC1 pour la ligne dont l'id est 4...\n",
      "Verification de AC2 et AC3 pour la ligne dont l'id est 4...\n",
      "ID=  4  Erreur : AC2 n'est pas vérifiée, veuillez saisir un superset de l'ensemble des variables sélectionnées\n",
      "Verification de AC1 pour la ligne dont l'id est 4...\n",
      "Verification de AC2 et AC3 pour la ligne dont l'id est 4...\n",
      "ID=  4  Erreur : AC2 n'est pas vérifiée, veuillez saisir un superset de l'ensemble des variables sélectionnées\n",
      "Verification de AC1 pour la ligne dont l'id est 4...\n",
      "Verification de AC2 et AC3 pour la ligne dont l'id est 4...\n",
      "ID=  4  Erreur : AC2 n'est pas vérifiée, veuillez saisir un superset de l'ensemble des variables sélectionnées\n",
      "Verification de AC1 pour la ligne dont l'id est 4...\n",
      "Verification de AC2 et AC3 pour la ligne dont l'id est 4...\n",
      "ID=  4  Erreur :AC3 n'est pas vérifiée car il existe une affectation x_prime : {'BDD': 1, 'Logique': 1}  pour laquelle la decision change à : A\n",
      "Verification de AC1 pour la ligne dont l'id est 4...\n",
      "Verification de AC2 et AC3 pour la ligne dont l'id est 4...\n"
     ]
    },
    {
     "name": "stderr",
     "output_type": "stream",
     "text": [
      "100%|██████████| 127/127 [00:00<00:00, 767.39it/s]\n",
      " 99%|█████████▉| 126/127 [19:52<00:08,  8.78s/it]"
     ]
    },
    {
     "name": "stdout",
     "output_type": "stream",
     "text": [
      "ID=  4  Erreur : AC2 n'est pas vérifiée, veuillez saisir un superset de l'ensemble des variables sélectionnées\n",
      "Verification de AC1 pour la ligne dont l'id est 4...\n",
      "Verification de AC2 et AC3 pour la ligne dont l'id est 4...\n",
      "ID=  4  Erreur :AC3 n'est pas vérifiée car il existe une affectation x_prime : {'BDD': 1, 'Logique': 1}  pour laquelle la decision change à : A\n",
      "Verification de AC1 pour la ligne dont l'id est 4...\n",
      "Verification de AC2 et AC3 pour la ligne dont l'id est 4...\n",
      "ID=  4  Erreur : AC2 n'est pas vérifiée, veuillez saisir un superset de l'ensemble des variables sélectionnées\n",
      "Verification de AC1 pour la ligne dont l'id est 4...\n",
      "Verification de AC2 et AC3 pour la ligne dont l'id est 4...\n",
      "ID=  4  Erreur :AC3 n'est pas vérifiée car il existe une affectation x_prime : {'BDD': 1, 'Logique': 1}  pour laquelle la decision change à : A\n",
      "Exploration de :  ('S1',)\n",
      "Verification de BC1_2...\n",
      "id :  2\n"
     ]
    },
    {
     "name": "stderr",
     "output_type": "stream",
     "text": [
      "  2%|▏         | 2/127 [00:00<00:00, 287.64it/s]"
     ]
    },
    {
     "name": "stdout",
     "output_type": "stream",
     "text": [
      "Verification de AC1 pour la ligne dont l'id est 2...\n",
      "Verification de AC2 et AC3 pour la ligne dont l'id est 2...\n",
      "ID=  2  Erreur : AC2 n'est pas vérifiée, veuillez saisir un superset de l'ensemble des variables sélectionnées\n",
      "Verification de AC1 pour la ligne dont l'id est 2...\n",
      "Verification de AC2 et AC3 pour la ligne dont l'id est 2...\n",
      "ID=  2  AC2 et AC3 sont vérifiées pour une affectation x_prime: {'S1': 17, 'S4': 20}  la decision devient : L\n",
      "La actual cause est: {'S1': 11, 'S4': 12} \n",
      "\n"
     ]
    },
    {
     "name": "stderr",
     "output_type": "stream",
     "text": [
      "\n"
     ]
    },
    {
     "name": "stdout",
     "output_type": "stream",
     "text": [
      "Verification de BC1_2...\n",
      "id :  4\n"
     ]
    },
    {
     "name": "stderr",
     "output_type": "stream",
     "text": [
      "100%|██████████| 127/127 [00:00<00:00, 6480.49it/s]"
     ]
    },
    {
     "name": "stdout",
     "output_type": "stream",
     "text": [
      "Verification de AC1 pour la ligne dont l'id est 4...\n",
      "Verification de AC2 et AC3 pour la ligne dont l'id est 4...\n",
      "ID=  4  Erreur : AC2 n'est pas vérifiée, veuillez saisir un superset de l'ensemble des variables sélectionnées\n",
      "Verification de AC1 pour la ligne dont l'id est 4...\n",
      "Verification de AC2 et AC3 pour la ligne dont l'id est 4...\n",
      "ID=  4  Erreur : AC2 n'est pas vérifiée, veuillez saisir un superset de l'ensemble des variables sélectionnées\n",
      "Verification de AC1 pour la ligne dont l'id est 4...\n",
      "Verification de AC2 et AC3 pour la ligne dont l'id est 4...\n",
      "ID=  4  Erreur : AC2 n'est pas vérifiée, veuillez saisir un superset de l'ensemble des variables sélectionnées\n",
      "Verification de AC1 pour la ligne dont l'id est 4...\n",
      "Verification de AC2 et AC3 pour la ligne dont l'id est 4...\n",
      "ID=  4  Erreur :AC3 n'est pas vérifiée car il existe une affectation x_prime : {'BDD': 1, 'Logique': 1}  pour laquelle la decision change à : A\n",
      "Verification de AC1 pour la ligne dont l'id est 4...\n",
      "Verification de AC2 et AC3 pour la ligne dont l'id est 4...\n",
      "ID=  4  Erreur : AC2 n'est pas vérifiée, veuillez saisir un superset de l'ensemble des variables sélectionnées\n",
      "Verification de AC1 pour la ligne dont l'id est 4...\n",
      "Verification de AC2 et AC3 pour la ligne dont l'id est 4...\n",
      "ID=  4  Erreur : AC2 n'est pas vérifiée, veuillez saisir un superset de l'ensemble des variables sélectionnées\n",
      "Verification de AC1 pour la ligne dont l'id est 4...\n",
      "Verification de AC2 et AC3 pour la ligne dont l'id est 4...\n",
      "ID=  4  Erreur :AC3 n'est pas vérifiée car il existe une affectation x_prime : {'BDD': 1, 'Logique': 1}  pour laquelle la decision change à : A\n"
     ]
    },
    {
     "name": "stderr",
     "output_type": "stream",
     "text": [
      "\n",
      "100%|██████████| 127/127 [19:52<00:00,  9.39s/it]\n"
     ]
    },
    {
     "data": {
      "text/plain": [
       "[]"
      ]
     },
     "execution_count": 39,
     "metadata": {},
     "output_type": "execute_result"
    }
   ],
   "source": [
    "model.find_cause(2,4,verbose=True)"
   ]
  },
  {
   "cell_type": "code",
   "execution_count": 63,
   "metadata": {},
   "outputs": [
    {
     "name": "stderr",
     "output_type": "stream",
     "text": [
      " 94%|█████████▎| 29/31 [00:01<00:00, 15.23it/s]\n"
     ]
    }
   ],
   "source": [
    "assert model.BC(1,2, ({\"S2\":\"13\"}, {\"S2\":\"5\"}), ('A', 'R')) # OK"
   ]
  },
  {
   "cell_type": "code",
   "execution_count": 62,
   "metadata": {},
   "outputs": [
    {
     "name": "stderr",
     "output_type": "stream",
     "text": [
      "100%|██████████| 127/127 [00:07<00:00, 16.43it/s]\n"
     ]
    }
   ],
   "source": [
    "assert not model.BC(3,4, ({\"Logique\":\"1\", 'BDD':\"1\"}, {\"Logique\":\"0\", \"BDD\":'0'}), ('L', 'R')) # False car une varaible suffit pour que 0003 change de decision (devient 'R')"
   ]
  },
  {
   "cell_type": "code",
   "execution_count": 61,
   "metadata": {},
   "outputs": [
    {
     "name": "stderr",
     "output_type": "stream",
     "text": [
      "100%|██████████| 127/127 [00:08<00:00, 15.83it/s]\n"
     ]
    }
   ],
   "source": [
    "assert not model.BC(3,4, ({\"Logique\":\"1\", 'BDD':\"1\", 'S2':\"12\"}, {\"Logique\":\"0\", \"BDD\":'0', 'S2':\"15\"}), ('L', 'R')) # False car une varaible suffit pour que 0003 change de decision (devient 'R')"
   ]
  },
  {
   "cell_type": "code",
   "execution_count": 60,
   "metadata": {},
   "outputs": [
    {
     "name": "stderr",
     "output_type": "stream",
     "text": [
      " 11%|█         | 7/63 [00:00<00:00, 895.89it/s]\n"
     ]
    }
   ],
   "source": [
    "assert not model.BC(4,5, ({\"Logique\":\"0\", 'BDD':\"0\"}, {\"Logique\":\"0\", \"BDD\":'0'}), ('R', 'R')) # False car intersection n'est pas vide"
   ]
  },
  {
   "cell_type": "code",
   "execution_count": 59,
   "metadata": {},
   "outputs": [],
   "source": [
    "assert not model.BC(1,3, ({\"S5\":\"13\"}, {\"S5\":\"13\"}), ('A', 'L'))  # False car intersection n'est pas vide"
   ]
  },
  {
   "cell_type": "code",
   "execution_count": 58,
   "metadata": {},
   "outputs": [
    {
     "name": "stderr",
     "output_type": "stream",
     "text": [
      " 93%|█████████▎| 14/15 [00:00<00:00, 164.22it/s]\n"
     ]
    }
   ],
   "source": [
    "assert model.BC(1,3, ({\"S1\":\"15\"}, {\"S1\":\"14\"}), ('A', 'L')) # OK (True)"
   ]
  },
  {
   "cell_type": "code",
   "execution_count": 57,
   "metadata": {},
   "outputs": [
    {
     "name": "stderr",
     "output_type": "stream",
     "text": [
      "100%|██████████| 15/15 [00:00<00:00, 101.37it/s]\n"
     ]
    }
   ],
   "source": [
    "assert not model.BC(1,3, ({\"S1\":\"15\", 'S2':'13'}, {\"S1\":\"14\", 'S2':'12'}), ('A', 'L')) # False car l'ensemble n'est pas minimal (S1 ou S2 aurait suffit)"
   ]
  },
  {
   "cell_type": "markdown",
   "metadata": {},
   "source": [
    "### Tests empiriques"
   ]
  },
  {
   "cell_type": "code",
   "execution_count": 53,
   "metadata": {},
   "outputs": [
    {
     "name": "stdout",
     "output_type": "stream",
     "text": [
      "Temps d'execution moyen de la version naive [1.96, 13.56, 0.0, 3.44, 2.26, 62.64]\n",
      "Temps d'execution moyen de la version optimisée [0.68, 1.0, 0.0, 3.78, 1.02, 59.22]\n",
      "Ecarts type des temps d'execution de la version naive [0.92, 3.49, 0.0, 0.7, 0.52, 4.81]\n",
      "Ecarts type des temps d'execution de la version optimisée [0.47, 0.0, 0.0, 0.9, 0.14, 3.02]\n"
     ]
    },
    {
     "data": {
      "image/png": "[encoded data removed]",
      "text/plain": [
       "<Figure size 432x288 with 1 Axes>"
      ]
     },
     "metadata": {
      "needs_background": "light"
     },
     "output_type": "display_data"
    }
   ],
   "source": [
    "import time\n",
    "import matplotlib.pyplot as plt\n",
    "#graphiques des tests AC2/AC3 vs AC23\n",
    "\n",
    "list_duree=[]\n",
    "list_duree_std=[]\n",
    "list_duree_opt=[]\n",
    "list_duree_opt_std=[]\n",
    "list_id=[1,4,1,2,4,6]\n",
    "list_X=[{\"Logique\":\"1\", 'BDD':\"1\"}, {\"Logique\": 0, \"BDD\": 0,\"S1\": 16, \"S2\":15}, {\"S1\": 15}, {\"S1\": 11, \"S5\": 10}, {\"S5\": 11, \"BDD\": 0}, {\"S1\":\"0\", 'S2':\"1\", 'S3':\"0\"}]\n",
    "list_y=['A', 'R', 'A', 'R', 'R', 'R']\n",
    "\n",
    "\n",
    "nb_repetitions=50\n",
    "for id, X, y in zip(list_id,list_X, list_y ):\n",
    "    duree_moy=0\n",
    "    duree_std=[]\n",
    "    for repetition in range(nb_repetitions):\n",
    "        start_time=time.time()\n",
    "        model.AC2(id, X, y)\n",
    "        model.AC3(id, X, y)\n",
    "        duree=int((time.time()-start_time)*1000)\n",
    "        duree_std.append(duree)\n",
    "        duree_moy+=duree\n",
    "    list_duree.append(duree_moy/nb_repetitions)\n",
    "    list_duree_std.append(duree_std)\n",
    "\n",
    "    duree_moy=0\n",
    "    duree_std=[]\n",
    "    for repetition in range(nb_repetitions):\n",
    "        start_time=time.time()\n",
    "        model.AC23(id, X, y)\n",
    "        duree=int((time.time()-start_time)*1000)\n",
    "        duree_std.append(duree)\n",
    "        duree_moy+=duree\n",
    "    list_duree_opt.append(duree_moy/nb_repetitions)\n",
    "    list_duree_opt_std.append(duree_std)\n",
    "\n",
    "\n",
    "\n",
    "print(\"Temps d'execution moyen de la version naive\", list_duree)\n",
    "print(\"Temps d'execution moyen de la version optimisée\", list_duree_opt)\n",
    "\n",
    "list_duree_std=[ np.round(np.std(duree),2) for duree in list_duree_std]\n",
    "list_duree_opt_std=[ np.round(np.std(duree),2) for duree in list_duree_opt_std]\n",
    "\n",
    "\n",
    "print(\"Ecarts type des temps d'execution de la version naive\", list_duree_std)\n",
    "print(\"Ecarts type des temps d'execution de la version optimisée\", list_duree_opt_std)\n",
    "\n",
    "\n",
    "indices = np.arange(len(list_id))\n",
    "width = 0.35\n",
    "\n",
    "plt.bar(indices, list_duree, width=width, label=\"Naive\")\n",
    "plt.bar(indices + width, list_duree_opt, width=width, label=\"Optimisée\")\n",
    "\n",
    "plt.legend()\n",
    "plt.xlabel(\"Exemples\")\n",
    "plt.ylabel(\"Temps d'exécution en ms\")\n",
    "plt.title(\"Comparaison des temps d'exécution entre AC2/AC3 et AC23\")\n",
    "plt.xticks(indices + width / 2, list(range(1, len(list_id) + 1)))\n",
    "\n",
    "plt.show()"
   ]
  },
  {
   "cell_type": "code",
   "execution_count": 54,
   "metadata": {},
   "outputs": [
    {
     "name": "stdout",
     "output_type": "stream",
     "text": [
      "Accélération = [0.35, 0.07, 1.0, 1.1, 0.45, 0.95]\n"
     ]
    },
    {
     "data": {
      "image/png": "[encoded data removed]",
      "text/plain": [
       "<Figure size 432x288 with 1 Axes>"
      ]
     },
     "metadata": {
      "needs_background": "light"
     },
     "output_type": "display_data"
    }
   ],
   "source": [
    "# Eviter d'avoir des 0 lors de la division \n",
    "list_duree_opt=[0.1 if x==0 else x for x in list_duree_opt ]\n",
    "list_duree=[0.1 if x==0 else x for x in list_duree]\n",
    "acceleration_score = [np.round(a/b,2) for a,b in zip(list_duree_opt,list_duree)]\n",
    "print(\"Accélération =\",acceleration_score)\n",
    "\n",
    "plt.bar(range(1,len(list_id)+1), acceleration_score)\n",
    "\n",
    "plt.title(\"Comparaison des scores de l'accélération\")\n",
    "plt.xlabel('Exemple')\n",
    "plt.ylabel(\"Score d'accéleration\")\n",
    "\n",
    "plt.show()"
   ]
  },
  {
   "cell_type": "code",
   "execution_count": 45,
   "metadata": {},
   "outputs": [
    {
     "name": "stdout",
     "output_type": "stream",
     "text": [
      "Liste des exemples : [({'Logique': '1', 'BDD': '1'}, 'A'), ({'Logique': 0, 'BDD': 0, 'S1': 16, 'S2': 15}, 'R'), ({'S1': 15}, 'A'), ({'S1': 11, 'S5': 10}, 'R'), ({'S5': 11, 'BDD': 0}, 'R'), ({'S1': '0', 'S2': '1', 'S3': '0'}, 'R')]\n"
     ]
    }
   ],
   "source": [
    "print('Liste des exemples :', [x for x in zip(list_X, list_y)])"
   ]
  },
  {
   "cell_type": "code",
   "execution_count": 46,
   "metadata": {},
   "outputs": [],
   "source": [
    "#graphiques des tests BC12_beta2 vs BC1\n",
    "\n",
    "def generate_supersets(N, X, V, df):\n",
    "\tcandidat = df[df['id']==N]\n",
    "\tV_sauf_X=[var for var in V if not var in X.keys()]\n",
    "\t#print(V_sauf_X)\n",
    "\tsupersets = [X]\n",
    "\tfor var in V_sauf_X:\n",
    "\t\tvaleur = candidat[var].iloc[0]\n",
    "\t\tcopie = copy.deepcopy(supersets)\n",
    "\t\tfor dictio in copie:\n",
    "\t\t\tdictio[var]= valeur\n",
    "\t\tsupersets =supersets + copie\n",
    "\tunique_dicts = {tuple(sorted(d.items())) for d in supersets}\n",
    "\tunique_list_of_dicts = [dict(item) for item in unique_dicts]\n",
    "\treturn sorted(unique_list_of_dicts, key=lambda x:len(x))\n",
    "\n",
    "def BC1(N, X, decision, df=df, model=model):\n",
    "\tsupersets = generate_supersets(N, X, V, df)\n",
    "\tfor superset in tqdm(supersets):\n",
    "\t\t#print(\"\\n\",superset)\n",
    "\t\tif (model.AC1(N, superset, decision) and model.AC2(N, superset, decision) and model.AC3(N, superset, decision)):\n",
    "\t\t\tprint(f\"La actual cause est: {superset} \\n\")\n",
    "\t\t\treturn True\n",
    "\treturn False\n",
    "\n",
    "\n",
    "def BC_naive(id1, id2, X, y, verbose=False, model=model, df=df):\n",
    "\treturn BC1(id1, X[0], y[0], df) and BC1(id2, X[1], y[1], df) and model.BC1_4(id1, id2, X, y,verbose=verbose)\n"
   ]
  },
  {
   "cell_type": "code",
   "execution_count": 47,
   "metadata": {},
   "outputs": [
    {
     "name": "stderr",
     "output_type": "stream",
     "text": [
      "100%|██████████| 64/64 [01:08<00:00,  1.07s/it]\n",
      "100%|██████████| 64/64 [01:02<00:00,  1.02it/s]\n",
      "100%|██████████| 15/15 [00:00<00:00, 144.39it/s]\n",
      "100%|██████████| 15/15 [00:00<00:00, 116.26it/s]\n",
      "  0%|          | 0/64 [00:00<?, ?it/s]\n"
     ]
    },
    {
     "name": "stdout",
     "output_type": "stream",
     "text": [
      "La actual cause est: {'BDD': '0', 'Logique': '0'} \n",
      "\n"
     ]
    },
    {
     "name": "stderr",
     "output_type": "stream",
     "text": [
      " 12%|█▎        | 8/64 [00:00<00:00, 93.43it/s]\n"
     ]
    },
    {
     "name": "stdout",
     "output_type": "stream",
     "text": [
      "La actual cause est: {'BDD': '0', 'Logique': '0', 'PS': 0, 'S5': 11} \n",
      "\n"
     ]
    },
    {
     "name": "stderr",
     "output_type": "stream",
     "text": [
      "  0%|          | 0/64 [00:00<?, ?it/s]\n"
     ]
    },
    {
     "name": "stdout",
     "output_type": "stream",
     "text": [
      "La actual cause est: {'BDD': '0', 'Logique': '0'} \n",
      "\n"
     ]
    },
    {
     "name": "stderr",
     "output_type": "stream",
     "text": [
      " 12%|█▎        | 8/64 [00:00<00:00, 96.92it/s]\n"
     ]
    },
    {
     "name": "stdout",
     "output_type": "stream",
     "text": [
      "La actual cause est: {'BDD': '0', 'Logique': '0', 'PS': 0, 'S5': 11} \n",
      "\n"
     ]
    },
    {
     "name": "stderr",
     "output_type": "stream",
     "text": [
      " 11%|█         | 7/63 [00:00<00:00, 99.37it/s]\n",
      " 11%|█         | 7/63 [00:00<00:00, 895.62it/s]\n",
      "  0%|          | 0/128 [00:00<?, ?it/s]\n"
     ]
    },
    {
     "name": "stdout",
     "output_type": "stream",
     "text": [
      "La actual cause est: {'S2': '13'} \n",
      "\n"
     ]
    },
    {
     "name": "stderr",
     "output_type": "stream",
     "text": [
      "  0%|          | 0/128 [00:00<?, ?it/s]\n"
     ]
    },
    {
     "name": "stdout",
     "output_type": "stream",
     "text": [
      "La actual cause est: {'S2': '5'} \n",
      "\n"
     ]
    },
    {
     "name": "stderr",
     "output_type": "stream",
     "text": [
      " 94%|█████████▎| 29/31 [00:01<00:00, 18.29it/s]\n",
      "  0%|          | 0/128 [00:00<?, ?it/s]\n"
     ]
    },
    {
     "name": "stdout",
     "output_type": "stream",
     "text": [
      "La actual cause est: {'S2': '13'} \n",
      "\n"
     ]
    },
    {
     "name": "stderr",
     "output_type": "stream",
     "text": [
      "  0%|          | 0/128 [00:00<?, ?it/s]\n"
     ]
    },
    {
     "name": "stdout",
     "output_type": "stream",
     "text": [
      "La actual cause est: {'S2': '5'} \n",
      "\n"
     ]
    },
    {
     "name": "stderr",
     "output_type": "stream",
     "text": [
      " 94%|█████████▎| 29/31 [00:01<00:00, 16.78it/s]\n",
      " 94%|█████████▎| 29/31 [00:01<00:00, 15.42it/s]\n",
      " 94%|█████████▎| 29/31 [00:02<00:00, 12.72it/s]\n",
      "  0%|          | 0/128 [00:00<?, ?it/s]\n"
     ]
    },
    {
     "name": "stdout",
     "output_type": "stream",
     "text": [
      "La actual cause est: {'S5': '13'} \n",
      "\n"
     ]
    },
    {
     "name": "stderr",
     "output_type": "stream",
     "text": [
      "  0%|          | 0/128 [00:00<?, ?it/s]\n"
     ]
    },
    {
     "name": "stdout",
     "output_type": "stream",
     "text": [
      "La actual cause est: {'S5': '13'} \n",
      "\n"
     ]
    },
    {
     "name": "stderr",
     "output_type": "stream",
     "text": [
      "  0%|          | 0/128 [00:00<?, ?it/s]\n"
     ]
    },
    {
     "name": "stdout",
     "output_type": "stream",
     "text": [
      "La actual cause est: {'S5': '13'} \n",
      "\n"
     ]
    },
    {
     "name": "stderr",
     "output_type": "stream",
     "text": [
      "  0%|          | 0/128 [00:00<?, ?it/s]\n"
     ]
    },
    {
     "name": "stdout",
     "output_type": "stream",
     "text": [
      "La actual cause est: {'S5': '13'} \n",
      "\n"
     ]
    },
    {
     "name": "stderr",
     "output_type": "stream",
     "text": [
      "100%|██████████| 32/32 [00:22<00:00,  1.41it/s] \n",
      "100%|██████████| 32/32 [00:27<00:00,  1.18it/s] \n",
      "100%|██████████| 127/127 [00:07<00:00, 18.09it/s]\n",
      "100%|██████████| 127/127 [00:07<00:00, 16.15it/s]\n"
     ]
    },
    {
     "name": "stdout",
     "output_type": "stream",
     "text": [
      "Temps d'execution de la version naive [65.0, 0.0, 1.0, 0.0, 24.5]\n",
      "Temps d'execution de la version optimisée [0.0, 0.0, 1.5, 0.0, 7.0]\n",
      "Ecarts type des temps d'execution de la version naive [3.0, 0.0, 0.0, 0.0, 2.5]\n",
      "Ecarts type des temps d'execution de la version optimisée [0.0, 0.0, 0.5, 0.0, 0.0]\n"
     ]
    },
    {
     "data": {
      "image/png": "[encoded data removed]",
      "text/plain": [
       "<Figure size 432x288 with 1 Axes>"
      ]
     },
     "metadata": {
      "needs_background": "light"
     },
     "output_type": "display_data"
    }
   ],
   "source": [
    "list_duree=[]\n",
    "list_duree_std=[]\n",
    "list_duree_opt=[]\n",
    "list_duree_opt_std=[]\n",
    "list_id=[(1,3), (4,5), (1,2), (1,3), (3,4)]\n",
    "list_X=[({\"S1\":\"15\", 'S2':'13'}, {\"S1\":\"14\", 'S2':'12'}),({\"Logique\":\"0\", 'BDD':\"0\"}, {\"Logique\":\"0\", \"BDD\":'0'}),({\"S2\":\"13\"}, {\"S2\":\"5\"}), ({\"S5\":\"13\"}, {\"S5\":\"13\"}), \n",
    "        ({\"Logique\":\"1\", 'BDD':\"1\", 'S2':\"12\"}, {\"Logique\":\"0\", \"BDD\":'0', 'S2':\"15\"})]\n",
    "list_y=[('A', 'L'), ('R', 'R'),('A', 'R'), ('A', 'L'), ('L', 'R')]\n",
    "\n",
    "\n",
    "for id, X, y in zip(list_id,list_X, list_y ):\n",
    "    nb_repetitions=2\n",
    "    duree_moy=0\n",
    "    duree_std=[]\n",
    "    for repetition in range(nb_repetitions):\n",
    "        start_time=time.time()\n",
    "        BC_naive(id[0],id[1], X, y)\n",
    "        duree=int((time.time()-start_time))\n",
    "        duree_std.append(duree)\n",
    "        duree_moy+=duree\n",
    "    list_duree.append(duree_moy/nb_repetitions)\n",
    "    list_duree_std.append(duree_std)\n",
    "\n",
    "    duree_moy=0\n",
    "    duree_std=[]\n",
    "    for repetition in range(nb_repetitions):\n",
    "        start_time=time.time()\n",
    "        model.BC(id[0],id[1], X, y)\n",
    "        duree=int((time.time()-start_time))\n",
    "        duree_std.append(duree)\n",
    "        duree_moy+=duree\n",
    "    list_duree_opt.append(duree_moy/nb_repetitions)\n",
    "    list_duree_opt_std.append(duree_std)\n",
    "\n",
    "\n",
    "print(\"Temps d'execution de la version naive\", list_duree)\n",
    "print(\"Temps d'execution de la version optimisée\", list_duree_opt)\n",
    "\n",
    "list_duree_std=[ np.round(np.std(duree),2) for duree in list_duree_std]\n",
    "list_duree_opt_std=[ np.round(np.std(duree),2) for duree in list_duree_opt_std]\n",
    "\n",
    "print(\"Ecarts type des temps d'execution de la version naive\", list_duree_std)\n",
    "print(\"Ecarts type des temps d'execution de la version optimisée\", list_duree_opt_std)\n",
    "\n",
    "\n",
    "indices = np.arange(len(list_id))\n",
    "width = 0.35\n",
    "\n",
    "plt.bar(indices, list_duree, width=width, label=\"Naive\")\n",
    "plt.bar(indices + width, list_duree_opt, width=width, label=\"Optimisée\")\n",
    "\n",
    "plt.legend()\n",
    "plt.xlabel(\"Exemples\")\n",
    "plt.ylabel(\"Temps d'exécution en s\")\n",
    "plt.title(\"Comparaison des temps d'exécution entre BC1 et BC12_beta\")\n",
    "plt.xticks(indices + width / 2, list(range(1, len(list_id) + 1)))\n",
    "\n",
    "plt.show()\n"
   ]
  },
  {
   "cell_type": "code",
   "execution_count": 48,
   "metadata": {},
   "outputs": [
    {
     "name": "stdout",
     "output_type": "stream",
     "text": [
      "Accélération = [0.0, 1.0, 1.45, 1.0, 0.29]\n"
     ]
    },
    {
     "data": {
      "image/png": "[encoded data removed]",
      "text/plain": [
       "<Figure size 432x288 with 1 Axes>"
      ]
     },
     "metadata": {
      "needs_background": "light"
     },
     "output_type": "display_data"
    }
   ],
   "source": [
    "\n",
    "# Eviter d'avoir des 0 lors de la division \n",
    "list_duree_opt=[0.1 if x==0 else x for x in list_duree_opt ]\n",
    "list_duree=[0.1 if x==0 else x for x in list_duree]\n",
    "\n",
    "acceleration_score = [np.round((a+0.1)/(b+0.1),2) for a,b in zip(list_duree_opt,list_duree)]\n",
    "print(\"Accélération =\",acceleration_score)\n",
    "\n",
    "plt.bar(range(1,len(list_id)+1), acceleration_score)\n",
    "\n",
    "plt.title(\"Comparaison des scores de l'accélération\")\n",
    "plt.xlabel('Exemple')\n",
    "plt.ylabel(\"Score d'accéleration\")\n",
    "\n",
    "plt.show()"
   ]
  },
  {
   "cell_type": "code",
   "execution_count": 49,
   "metadata": {},
   "outputs": [
    {
     "name": "stdout",
     "output_type": "stream",
     "text": [
      "Liste des exemples : [(({'S1': '15', 'S2': '13'}, {'S1': '14', 'S2': '12'}), ('A', 'L')), (({'Logique': '0', 'BDD': '0'}, {'Logique': '0', 'BDD': '0'}), ('R', 'R')), (({'S2': '13'}, {'S2': '5'}), ('A', 'R')), (({'S5': '13'}, {'S5': '13'}), ('A', 'L')), (({'Logique': '1', 'BDD': '1', 'S2': '12'}, {'Logique': '0', 'BDD': '0', 'S2': '15'}), ('L', 'R'))]\n"
     ]
    }
   ],
   "source": [
    "print('Liste des exemples :', [x for x in zip(list_X, list_y)])"
   ]
  },
  {
   "cell_type": "markdown",
   "metadata": {},
   "source": [
    "### Test de AC23_min changes"
   ]
  },
  {
   "cell_type": "code",
   "execution_count": 38,
   "metadata": {},
   "outputs": [
    {
     "name": "stdout",
     "output_type": "stream",
     "text": [
      "AC2 et AC3 est vérifié pour une affectation x_prime: {'Logique': 0}  la decision est : R\n"
     ]
    },
    {
     "data": {
      "text/plain": [
       "True"
      ]
     },
     "execution_count": 38,
     "metadata": {},
     "output_type": "execute_result"
    }
   ],
   "source": [
    "from ameliorations import AC2_beta_minChanges\n",
    "\n",
    "AC2_beta_minChanges(1,{'Logique':1},'A',df=df)"
   ]
  }
 ],
 "metadata": {
  "kernelspec": {
   "display_name": "base",
   "language": "python",
   "name": "python3"
  },
  "language_info": {
   "codemirror_mode": {
    "name": "ipython",
    "version": 3
   },
   "file_extension": ".py",
   "mimetype": "text/x-python",
   "name": "python",
   "nbconvert_exporter": "python",
   "pygments_lexer": "ipython3",
   "version": "3.10.12"
  }
 },
 "nbformat": 4,
 "nbformat_minor": 2
}
